{
 "cells": [
  {
   "cell_type": "markdown",
   "metadata": {},
   "source": [
    "# REFs and Imports"
   ]
  },
  {
   "cell_type": "markdown",
   "metadata": {},
   "source": [
    "- https://towardsdatascience.com/speed-up-jupyter-notebooks-20716cbe2025\n",
    "\n",
    "- https://jakevdp.github.io/PythonDataScienceHandbook/01.07-timing-and-profiling.html"
   ]
  },
  {
   "cell_type": "code",
   "execution_count": 75,
   "metadata": {
    "ExecuteTime": {
     "end_time": "2020-02-23T18:14:42.181587Z",
     "start_time": "2020-02-23T18:14:42.178939Z"
    },
    "scrolled": true
   },
   "outputs": [],
   "source": [
    "# !pip install line_profiler"
   ]
  },
  {
   "cell_type": "code",
   "execution_count": 90,
   "metadata": {
    "ExecuteTime": {
     "end_time": "2020-02-23T18:26:29.908990Z",
     "start_time": "2020-02-23T18:26:29.906778Z"
    }
   },
   "outputs": [],
   "source": [
    "#!pip install py-heat-magic"
   ]
  },
  {
   "cell_type": "code",
   "execution_count": 116,
   "metadata": {
    "ExecuteTime": {
     "end_time": "2020-02-23T18:37:37.536421Z",
     "start_time": "2020-02-23T18:37:37.533612Z"
    }
   },
   "outputs": [],
   "source": [
    "#!pip install snakeviz"
   ]
  },
  {
   "cell_type": "code",
   "execution_count": 142,
   "metadata": {
    "ExecuteTime": {
     "end_time": "2020-02-23T20:39:34.845885Z",
     "start_time": "2020-02-23T20:39:34.843387Z"
    }
   },
   "outputs": [],
   "source": [
    "#!pip install -U memory_profiler"
   ]
  },
  {
   "cell_type": "markdown",
   "metadata": {
    "heading_collapsed": true
   },
   "source": [
    "# %time & %timeit"
   ]
  },
  {
   "cell_type": "markdown",
   "metadata": {
    "hidden": true
   },
   "source": [
    "This function estimates $\\pi$ by considering the ratio $\\frac{\\text{area of a quarter of circle}}{\\text{area of the square containing it}}$. The area is approximated by random points falling inside it."
   ]
  },
  {
   "cell_type": "code",
   "execution_count": 100,
   "metadata": {
    "ExecuteTime": {
     "end_time": "2020-02-23T18:30:26.209720Z",
     "start_time": "2020-02-23T18:30:26.205211Z"
    },
    "hidden": true
   },
   "outputs": [],
   "source": [
    "from random import random\n",
    "\n",
    "def estimate_pi(n=1e7) -> \"area\":\n",
    "    \"\"\"Estimate pi with monte carlo simulation.\n",
    "    \n",
    "    Arguments:\n",
    "        n: number of simulations\n",
    "    \"\"\"\n",
    "    in_circle = 0\n",
    "    total = n\n",
    "    \n",
    "    while n != 0:\n",
    "        prec_x = random() #random number between 0 and 1\n",
    "        prec_y = random()\n",
    "        if pow(prec_x, 2) + pow(prec_y, 2) <= 1:\n",
    "            in_circle += 1 # inside the circle\n",
    "        n -= 1\n",
    "        \n",
    "    return 4 * in_circle / total"
   ]
  },
  {
   "cell_type": "markdown",
   "metadata": {
    "hidden": true
   },
   "source": [
    "Recursive version"
   ]
  },
  {
   "cell_type": "code",
   "execution_count": 49,
   "metadata": {
    "ExecuteTime": {
     "end_time": "2020-02-23T17:55:04.057596Z",
     "start_time": "2020-02-23T17:55:04.053019Z"
    },
    "hidden": true
   },
   "outputs": [],
   "source": [
    "# from random import random\n",
    "\n",
    "def estimate_pi_rec(n=1e7) -> \"area\":\n",
    "    def helper(in_circle, n):\n",
    "        if n == 0: return in_circle \n",
    "        if random()**2 + random()**2 <= 1:\n",
    "            return helper(in_circle+1, n-1)\n",
    "        return helper(in_circle, n-1)\n",
    "        \n",
    "    in_circle = helper(0, n)\n",
    "    return 4 * in_circle / n"
   ]
  },
  {
   "cell_type": "code",
   "execution_count": 7,
   "metadata": {
    "ExecuteTime": {
     "end_time": "2020-02-23T17:47:05.251256Z",
     "start_time": "2020-02-23T17:47:01.457511Z"
    },
    "hidden": true
   },
   "outputs": [
    {
     "data": {
      "text/plain": [
       "3.1418656"
      ]
     },
     "execution_count": 7,
     "metadata": {},
     "output_type": "execute_result"
    }
   ],
   "source": [
    "estimate_pi(10000000)"
   ]
  },
  {
   "cell_type": "code",
   "execution_count": 69,
   "metadata": {
    "ExecuteTime": {
     "end_time": "2020-02-23T17:56:34.013087Z",
     "start_time": "2020-02-23T17:56:34.006640Z"
    },
    "hidden": true
   },
   "outputs": [
    {
     "data": {
      "text/plain": [
       "3.0945945945945947"
      ]
     },
     "execution_count": 69,
     "metadata": {},
     "output_type": "execute_result"
    }
   ],
   "source": [
    "# cannot go beyond 2960, else error: maximum recursion depth exceeded in comparison\n",
    "estimate_pi_rec(2960)"
   ]
  },
  {
   "cell_type": "markdown",
   "metadata": {
    "hidden": true
   },
   "source": [
    "Estimate running time"
   ]
  },
  {
   "cell_type": "code",
   "execution_count": 79,
   "metadata": {
    "ExecuteTime": {
     "end_time": "2020-02-23T18:16:37.468212Z",
     "start_time": "2020-02-23T18:16:37.465853Z"
    },
    "hidden": true
   },
   "outputs": [],
   "source": [
    "#%timeit?"
   ]
  },
  {
   "cell_type": "code",
   "execution_count": 70,
   "metadata": {
    "ExecuteTime": {
     "end_time": "2020-02-23T17:58:00.709824Z",
     "start_time": "2020-02-23T17:57:56.766212Z"
    },
    "hidden": true
   },
   "outputs": [
    {
     "name": "stdout",
     "output_type": "stream",
     "text": [
      "CPU times: user 3.92 s, sys: 9.17 ms, total: 3.93 s\n",
      "Wall time: 3.94 s\n"
     ]
    },
    {
     "data": {
      "text/plain": [
       "3.1413852"
      ]
     },
     "execution_count": 70,
     "metadata": {},
     "output_type": "execute_result"
    }
   ],
   "source": [
    "%time estimate_pi()"
   ]
  },
  {
   "cell_type": "code",
   "execution_count": null,
   "metadata": {
    "hidden": true
   },
   "outputs": [],
   "source": [
    "%time estimate_pi_rec()"
   ]
  },
  {
   "cell_type": "code",
   "execution_count": 71,
   "metadata": {
    "ExecuteTime": {
     "end_time": "2020-02-23T17:59:15.336482Z",
     "start_time": "2020-02-23T17:58:35.144166Z"
    },
    "hidden": true
   },
   "outputs": [
    {
     "name": "stdout",
     "output_type": "stream",
     "text": [
      "4.02 s ± 93.1 ms per loop (mean ± std. dev. of 2 runs, 5 loops each)\n"
     ]
    }
   ],
   "source": [
    "%timeit -r 2 -n 5 estimate_pi()"
   ]
  },
  {
   "cell_type": "markdown",
   "metadata": {
    "heading_collapsed": true
   },
   "source": [
    "# PROFILE %prun"
   ]
  },
  {
   "cell_type": "code",
   "execution_count": 125,
   "metadata": {
    "ExecuteTime": {
     "end_time": "2020-02-23T20:23:53.253020Z",
     "start_time": "2020-02-23T20:23:44.738533Z"
    },
    "hidden": true
   },
   "outputs": [
    {
     "name": "stdout",
     "output_type": "stream",
     "text": [
      " "
     ]
    }
   ],
   "source": [
    "%prun estimate_pi()"
   ]
  },
  {
   "cell_type": "markdown",
   "metadata": {
    "hidden": true
   },
   "source": [
    "To save the profiler results in a file, use -D option"
   ]
  },
  {
   "cell_type": "code",
   "execution_count": null,
   "metadata": {
    "hidden": true
   },
   "outputs": [],
   "source": [
    "# %prun -D pi.prof estimate_pi()"
   ]
  },
  {
   "cell_type": "code",
   "execution_count": 124,
   "metadata": {
    "ExecuteTime": {
     "end_time": "2020-02-23T20:22:32.735994Z",
     "start_time": "2020-02-23T20:22:32.733609Z"
    },
    "hidden": true
   },
   "outputs": [],
   "source": [
    "%prun -s cumulative estimate_pi()"
   ]
  },
  {
   "cell_type": "code",
   "execution_count": 94,
   "metadata": {
    "ExecuteTime": {
     "end_time": "2020-02-23T18:27:31.944372Z",
     "start_time": "2020-02-23T18:27:31.940820Z"
    },
    "hidden": true
   },
   "outputs": [
    {
     "name": "stdout",
     "output_type": "stream",
     "text": [
      "The heat extension is already loaded. To reload it, use:\n",
      "  %reload_ext heat\n"
     ]
    }
   ],
   "source": [
    "%load_ext line_profiler\n",
    "%load_ext heat"
   ]
  },
  {
   "cell_type": "code",
   "execution_count": null,
   "metadata": {
    "hidden": true
   },
   "outputs": [],
   "source": [
    "%lprun -f estimate_pi estimate_pi()"
   ]
  },
  {
   "cell_type": "markdown",
   "metadata": {
    "hidden": true
   },
   "source": [
    "Heat extension: https://github.com/csurfer/pyheatmagic"
   ]
  },
  {
   "cell_type": "code",
   "execution_count": 119,
   "metadata": {
    "ExecuteTime": {
     "end_time": "2020-02-23T18:38:25.090103Z",
     "start_time": "2020-02-23T18:38:24.946548Z"
    },
    "hidden": true
   },
   "outputs": [
    {
     "data": {
      "image/png": "[encoded data removed]",
      "text/plain": [
       "<Figure size 225x192 with 2 Axes>"
      ]
     },
     "metadata": {
      "needs_background": "light"
     },
     "output_type": "display_data"
    }
   ],
   "source": [
    "%%heat \n",
    "def func(n):\n",
    "    empty = []\n",
    "    for i in range(n):\n",
    "        empty.append(i)\n",
    "    \n",
    "    return sum(empty)\n",
    "    \n",
    "func(20)"
   ]
  },
  {
   "cell_type": "markdown",
   "metadata": {
    "heading_collapsed": true
   },
   "source": [
    "# SNAKEVIZ"
   ]
  },
  {
   "cell_type": "code",
   "execution_count": 117,
   "metadata": {
    "ExecuteTime": {
     "end_time": "2020-02-23T18:38:09.266056Z",
     "start_time": "2020-02-23T18:38:09.258910Z"
    },
    "hidden": true
   },
   "outputs": [],
   "source": [
    "%load_ext snakeviz"
   ]
  },
  {
   "cell_type": "code",
   "execution_count": null,
   "metadata": {
    "ExecuteTime": {
     "end_time": "2020-02-23T18:40:00.837262Z",
     "start_time": "2020-02-23T18:39:57.499502Z"
    },
    "hidden": true
   },
   "outputs": [],
   "source": [
    "%%snakeviz\n",
    "def func(n):\n",
    "    empty = []\n",
    "    for i in range(n):\n",
    "        empty.append(i)\n",
    "    \n",
    "    return sum(empty)\n",
    "    \n",
    "func(2000)"
   ]
  },
  {
   "cell_type": "markdown",
   "metadata": {
    "heading_collapsed": true
   },
   "source": [
    "# First Modification"
   ]
  },
  {
   "cell_type": "code",
   "execution_count": 123,
   "metadata": {
    "ExecuteTime": {
     "end_time": "2020-02-23T20:21:45.311263Z",
     "start_time": "2020-02-23T20:21:45.289663Z"
    },
    "hidden": true
   },
   "outputs": [],
   "source": [
    "from random import random\n",
    "\n",
    "def estimate_pi_mod0(n=1e7) -> \"area\":\n",
    "    \"\"\"Estimate pi with monte carlo simulation.\n",
    "    \n",
    "    Arguments:\n",
    "        n: number of simulations\n",
    "    \"\"\"\n",
    "    return 4 * sum(1 for _ in range(int(n)) if random()**2 + random()**2 <= 1) / n"
   ]
  },
  {
   "cell_type": "code",
   "execution_count": 127,
   "metadata": {
    "ExecuteTime": {
     "end_time": "2020-02-23T20:25:14.887449Z",
     "start_time": "2020-02-23T20:25:14.885003Z"
    },
    "hidden": true
   },
   "outputs": [],
   "source": [
    "%prun estimate_pi_mod0()"
   ]
  },
  {
   "cell_type": "code",
   "execution_count": 128,
   "metadata": {
    "ExecuteTime": {
     "end_time": "2020-02-23T20:25:47.670316Z",
     "start_time": "2020-02-23T20:25:21.953661Z"
    },
    "hidden": true
   },
   "outputs": [
    {
     "name": "stdout",
     "output_type": "stream",
     "text": [
      "2.57 s ± 12.2 ms per loop (mean ± std. dev. of 2 runs, 5 loops each)\n"
     ]
    }
   ],
   "source": [
    "%timeit -r 2 -n 5 estimate_pi_mod0()"
   ]
  },
  {
   "cell_type": "markdown",
   "metadata": {
    "heading_collapsed": true
   },
   "source": [
    "# Second Modification"
   ]
  },
  {
   "cell_type": "code",
   "execution_count": 157,
   "metadata": {
    "ExecuteTime": {
     "end_time": "2020-02-23T21:05:25.581260Z",
     "start_time": "2020-02-23T21:05:25.577410Z"
    },
    "hidden": true
   },
   "outputs": [],
   "source": [
    "import numpy as np\n",
    "\n",
    "def estimate_pi_mod1(n) -> \"area\":\n",
    "    \"\"\"Estimate pi with monte carlo simulation.\n",
    "    \n",
    "    Arguments:\n",
    "        n: number of simulations\n",
    "    \"\"\"\n",
    "    xy = np.random.rand(n, 2)\n",
    "    inside = np.sum(xy[:, 0]**2 + xy[:, 1]**2 <= 1)\n",
    "    return 4 * inside / n"
   ]
  },
  {
   "cell_type": "code",
   "execution_count": 166,
   "metadata": {
    "ExecuteTime": {
     "end_time": "2020-02-23T21:06:54.326218Z",
     "start_time": "2020-02-23T21:06:39.883817Z"
    },
    "hidden": true
   },
   "outputs": [
    {
     "name": "stdout",
     "output_type": "stream",
     "text": [
      "17.8 ms ± 554 µs per loop (mean ± std. dev. of 7 runs, 100 loops each)\n"
     ]
    }
   ],
   "source": [
    "%timeit estimate_pi_mod1(1000000)"
   ]
  },
  {
   "cell_type": "code",
   "execution_count": 138,
   "metadata": {
    "ExecuteTime": {
     "end_time": "2020-02-23T20:36:33.194331Z",
     "start_time": "2020-02-23T20:36:33.191497Z"
    },
    "hidden": true
   },
   "outputs": [],
   "source": [
    "#estimate_pi_mod1(300000000)"
   ]
  },
  {
   "cell_type": "markdown",
   "metadata": {},
   "source": [
    "# %memit"
   ]
  },
  {
   "cell_type": "markdown",
   "metadata": {},
   "source": [
    "https://github.com/pythonprofilers/memory_profiler"
   ]
  },
  {
   "cell_type": "code",
   "execution_count": 144,
   "metadata": {
    "ExecuteTime": {
     "end_time": "2020-02-23T20:46:57.753237Z",
     "start_time": "2020-02-23T20:46:52.833973Z"
    }
   },
   "outputs": [
    {
     "name": "stdout",
     "output_type": "stream",
     "text": [
      "peak memory: 191.83 MiB, increment: 0.16 MiB\n"
     ]
    }
   ],
   "source": [
    "%load_ext memory_profiler\n",
    "%memit estimate_pi()"
   ]
  },
  {
   "cell_type": "code",
   "execution_count": 145,
   "metadata": {
    "ExecuteTime": {
     "end_time": "2020-02-23T20:47:32.700322Z",
     "start_time": "2020-02-23T20:47:29.602881Z"
    }
   },
   "outputs": [
    {
     "name": "stdout",
     "output_type": "stream",
     "text": [
      "peak memory: 191.84 MiB, increment: 0.00 MiB\n"
     ]
    }
   ],
   "source": [
    "%memit estimate_pi_mod0()"
   ]
  },
  {
   "cell_type": "code",
   "execution_count": 146,
   "metadata": {
    "ExecuteTime": {
     "end_time": "2020-02-23T20:47:38.498201Z",
     "start_time": "2020-02-23T20:47:37.751334Z"
    }
   },
   "outputs": [
    {
     "name": "stdout",
     "output_type": "stream",
     "text": [
      "peak memory: 344.46 MiB, increment: 152.59 MiB\n"
     ]
    }
   ],
   "source": [
    "%memit estimate_pi_mod1()"
   ]
  },
  {
   "cell_type": "code",
   "execution_count": 151,
   "metadata": {
    "ExecuteTime": {
     "end_time": "2020-02-23T21:03:15.346607Z",
     "start_time": "2020-02-23T21:03:15.344609Z"
    }
   },
   "outputs": [],
   "source": [
    "# NOTE: %mprun can only be used on functions defined in physical files, and not in the IPython environment.\n",
    "# %mprun -f estimate_pi_mod1 estimate_pi_mod1(3000)"
   ]
  },
  {
   "cell_type": "markdown",
   "metadata": {
    "heading_collapsed": true
   },
   "source": [
    "# Third Modification"
   ]
  },
  {
   "cell_type": "code",
   "execution_count": 159,
   "metadata": {
    "ExecuteTime": {
     "end_time": "2020-02-23T21:05:32.620104Z",
     "start_time": "2020-02-23T21:05:32.616631Z"
    },
    "hidden": true
   },
   "outputs": [],
   "source": [
    "def estimate_pi_mod2(n) -> \"area\":\n",
    "    \"\"\"Estimate pi with monte carlo simulation.\n",
    "    \n",
    "    Arguments:\n",
    "        n: number of simulations\n",
    "    \"\"\"\n",
    "    return np.sum(np.random.random(n)**2 + np.random.random(n)**2 <= 1) / n * 4"
   ]
  },
  {
   "cell_type": "code",
   "execution_count": 165,
   "metadata": {
    "ExecuteTime": {
     "end_time": "2020-02-23T21:06:39.871751Z",
     "start_time": "2020-02-23T21:06:26.957232Z"
    },
    "hidden": true
   },
   "outputs": [
    {
     "name": "stdout",
     "output_type": "stream",
     "text": [
      "15.8 ms ± 438 µs per loop (mean ± std. dev. of 7 runs, 100 loops each)\n"
     ]
    }
   ],
   "source": [
    "%timeit estimate_pi_mod2(1000000)"
   ]
  },
  {
   "cell_type": "code",
   "execution_count": null,
   "metadata": {
    "hidden": true
   },
   "outputs": [],
   "source": []
  },
  {
   "cell_type": "code",
   "execution_count": null,
   "metadata": {
    "hidden": true
   },
   "outputs": [],
   "source": []
  },
  {
   "cell_type": "code",
   "execution_count": null,
   "metadata": {
    "hidden": true
   },
   "outputs": [],
   "source": []
  },
  {
   "cell_type": "code",
   "execution_count": null,
   "metadata": {
    "hidden": true
   },
   "outputs": [],
   "source": []
  }
 ],
 "metadata": {
  "kernelspec": {
   "display_name": "Python 3",
   "language": "python",
   "name": "python3"
  },
  "language_info": {
   "codemirror_mode": {
    "name": "ipython",
    "version": 3
   },
   "file_extension": ".py",
   "mimetype": "text/x-python",
   "name": "python",
   "nbconvert_exporter": "python",
   "pygments_lexer": "ipython3",
   "version": "3.8.1"
  },
  "varInspector": {
   "cols": {
    "lenName": 16,
    "lenType": 16,
    "lenVar": 40
   },
   "kernels_config": {
    "python": {
     "delete_cmd_postfix": "",
     "delete_cmd_prefix": "del ",
     "library": "var_list.py",
     "varRefreshCmd": "print(var_dic_list())"
    },
    "r": {
     "delete_cmd_postfix": ") ",
     "delete_cmd_prefix": "rm(",
     "library": "var_list.r",
     "varRefreshCmd": "cat(var_dic_list()) "
    }
   },
   "types_to_exclude": [
    "module",
    "function",
    "builtin_function_or_method",
    "instance",
    "_Feature"
   ],
   "window_display": false
  }
 },
 "nbformat": 4,
 "nbformat_minor": 4
}
