{
 "cells": [
  {
   "cell_type": "markdown",
   "metadata": {},
   "source": [
    "# REFs and Imports"
   ]
  },
  {
   "cell_type": "markdown",
   "metadata": {},
   "source": [
    "Find infos about Cython **types** and **functions** in the following links:\n",
    "\n",
    "- https://towardsdatascience.com/use-cython-to-get-more-than-30x-speedup-on-your-python-code-f6cb337919b6\n",
    "\n",
    "- https://riptutorial.com/cython\n",
    "\n",
    "- http://okigiveup.net/an-introduction-to-cython/"
   ]
  },
  {
   "cell_type": "code",
   "execution_count": 1,
   "metadata": {
    "ExecuteTime": {
     "end_time": "2020-02-24T11:29:26.365190Z",
     "start_time": "2020-02-24T11:29:26.362697Z"
    }
   },
   "outputs": [],
   "source": [
    "#!pip install cython"
   ]
  },
  {
   "cell_type": "code",
   "execution_count": 2,
   "metadata": {
    "ExecuteTime": {
     "end_time": "2020-02-24T11:29:24.796438Z",
     "start_time": "2020-02-24T11:29:24.546110Z"
    }
   },
   "outputs": [],
   "source": [
    "%load_ext cython"
   ]
  },
  {
   "cell_type": "markdown",
   "metadata": {},
   "source": [
    "RUN THIS IN THE CORRECT FOLDER, the one containing setup.py (in this case it is Cython/Cython_1)\n",
    "\n",
    "```python\n",
    "setup.py build_ext --inplace\n",
    "```"
   ]
  },
  {
   "cell_type": "markdown",
   "metadata": {},
   "source": [
    "# Comparison of Factorial"
   ]
  },
  {
   "cell_type": "code",
   "execution_count": null,
   "metadata": {
    "ExecuteTime": {
     "end_time": "2020-02-24T11:44:13.898746Z",
     "start_time": "2020-02-24T11:44:01.642064Z"
    }
   },
   "outputs": [],
   "source": [
    "import Cython_1.python_example as p_e # py file\n",
    "import Cython_1.cython_example as c_e # c file\n",
    "import time\n",
    "\n",
    "py_time_list = []\n",
    "cy_time_list = []\n",
    "speed_improvement_list = []\n",
    "\n",
    "input_numbers = [10,100,1000,10000, 50000, 100000, 200000, 300000, 1000000, 10000000, 100000000]\n",
    "for number in input_numbers:\n",
    "    \n",
    "    if number <= 200000:\n",
    "        start = time.time()\n",
    "        p_e.test(number)\n",
    "        end =  time.time()\n",
    "\n",
    "        py_time = end - start\n",
    "        py_time_list.append(py_time)\n",
    "    else:\n",
    "        py_time_list.append(\"-\")\n",
    "\n",
    "    start = time.time()\n",
    "    c_e.test(number)\n",
    "    end =  time.time()\n",
    "\n",
    "    cy_time = end - start\n",
    "    cy_time_list.append(cy_time)\n",
    "    \n",
    "    if number <= 200000:\n",
    "        \n",
    "        try : \n",
    "            speed_improvement_list.append(py_time / cy_time)\n",
    "        except:\n",
    "            speed_improvement_list.append(\"-\")\n",
    "    else:\n",
    "        speed_improvement_list.append(\"-\")"
   ]
  },
  {
   "cell_type": "code",
   "execution_count": 5,
   "metadata": {
    "ExecuteTime": {
     "end_time": "2020-02-24T11:44:14.065849Z",
     "start_time": "2020-02-24T11:44:13.913330Z"
    }
   },
   "outputs": [],
   "source": [
    "import pandas as pd\n",
    "\n",
    "df = pd.DataFrame({\"Number\": input_numbers, \"Python\": py_time_list, \n",
    "                  \"Cython\": cy_time_list, \"Improvement\": speed_improvement_list})"
   ]
  },
  {
   "cell_type": "code",
   "execution_count": 6,
   "metadata": {
    "ExecuteTime": {
     "end_time": "2020-02-24T11:44:14.096272Z",
     "start_time": "2020-02-24T11:44:14.082956Z"
    }
   },
   "outputs": [
    {
     "data": {
      "text/html": [
       "<div>\n",
       "<style scoped>\n",
       "    .dataframe tbody tr th:only-of-type {\n",
       "        vertical-align: middle;\n",
       "    }\n",
       "\n",
       "    .dataframe tbody tr th {\n",
       "        vertical-align: top;\n",
       "    }\n",
       "\n",
       "    .dataframe thead th {\n",
       "        text-align: right;\n",
       "    }\n",
       "</style>\n",
       "<table border=\"1\" class=\"dataframe\">\n",
       "  <thead>\n",
       "    <tr style=\"text-align: right;\">\n",
       "      <th></th>\n",
       "      <th>Number</th>\n",
       "      <th>Python</th>\n",
       "      <th>Cython</th>\n",
       "      <th>Improvement</th>\n",
       "    </tr>\n",
       "  </thead>\n",
       "  <tbody>\n",
       "    <tr>\n",
       "      <th>0</th>\n",
       "      <td>10</td>\n",
       "      <td>5.24521e-06</td>\n",
       "      <td>2.145767e-06</td>\n",
       "      <td>2.44444</td>\n",
       "    </tr>\n",
       "    <tr>\n",
       "      <th>1</th>\n",
       "      <td>100</td>\n",
       "      <td>1.71661e-05</td>\n",
       "      <td>0.000000e+00</td>\n",
       "      <td>-</td>\n",
       "    </tr>\n",
       "    <tr>\n",
       "      <th>2</th>\n",
       "      <td>1000</td>\n",
       "      <td>0.00044322</td>\n",
       "      <td>7.152557e-07</td>\n",
       "      <td>619.667</td>\n",
       "    </tr>\n",
       "    <tr>\n",
       "      <th>3</th>\n",
       "      <td>10000</td>\n",
       "      <td>0.0252399</td>\n",
       "      <td>3.814697e-06</td>\n",
       "      <td>6616.5</td>\n",
       "    </tr>\n",
       "    <tr>\n",
       "      <th>4</th>\n",
       "      <td>50000</td>\n",
       "      <td>0.507737</td>\n",
       "      <td>1.096725e-05</td>\n",
       "      <td>46295.7</td>\n",
       "    </tr>\n",
       "    <tr>\n",
       "      <th>5</th>\n",
       "      <td>100000</td>\n",
       "      <td>2.25828</td>\n",
       "      <td>1.883507e-05</td>\n",
       "      <td>119898</td>\n",
       "    </tr>\n",
       "    <tr>\n",
       "      <th>6</th>\n",
       "      <td>200000</td>\n",
       "      <td>9.43625</td>\n",
       "      <td>3.623962e-05</td>\n",
       "      <td>260385</td>\n",
       "    </tr>\n",
       "    <tr>\n",
       "      <th>7</th>\n",
       "      <td>300000</td>\n",
       "      <td>-</td>\n",
       "      <td>5.197525e-05</td>\n",
       "      <td>-</td>\n",
       "    </tr>\n",
       "    <tr>\n",
       "      <th>8</th>\n",
       "      <td>1000000</td>\n",
       "      <td>-</td>\n",
       "      <td>2.610683e-04</td>\n",
       "      <td>-</td>\n",
       "    </tr>\n",
       "    <tr>\n",
       "      <th>9</th>\n",
       "      <td>10000000</td>\n",
       "      <td>-</td>\n",
       "      <td>1.810789e-03</td>\n",
       "      <td>-</td>\n",
       "    </tr>\n",
       "    <tr>\n",
       "      <th>10</th>\n",
       "      <td>100000000</td>\n",
       "      <td>-</td>\n",
       "      <td>1.942897e-02</td>\n",
       "      <td>-</td>\n",
       "    </tr>\n",
       "  </tbody>\n",
       "</table>\n",
       "</div>"
      ],
      "text/plain": [
       "       Number       Python        Cython Improvement\n",
       "0          10  5.24521e-06  2.145767e-06     2.44444\n",
       "1         100  1.71661e-05  0.000000e+00           -\n",
       "2        1000   0.00044322  7.152557e-07     619.667\n",
       "3       10000    0.0252399  3.814697e-06      6616.5\n",
       "4       50000     0.507737  1.096725e-05     46295.7\n",
       "5      100000      2.25828  1.883507e-05      119898\n",
       "6      200000      9.43625  3.623962e-05      260385\n",
       "7      300000            -  5.197525e-05           -\n",
       "8     1000000            -  2.610683e-04           -\n",
       "9    10000000            -  1.810789e-03           -\n",
       "10  100000000            -  1.942897e-02           -"
      ]
     },
     "execution_count": 6,
     "metadata": {},
     "output_type": "execute_result"
    }
   ],
   "source": [
    "df"
   ]
  }
 ],
 "metadata": {
  "kernelspec": {
   "display_name": "Python 3",
   "language": "python",
   "name": "python3"
  },
  "language_info": {
   "codemirror_mode": {
    "name": "ipython",
    "version": 3
   },
   "file_extension": ".py",
   "mimetype": "text/x-python",
   "name": "python",
   "nbconvert_exporter": "python",
   "pygments_lexer": "ipython3",
   "version": "3.7.9"
  },
  "varInspector": {
   "cols": {
    "lenName": 16,
    "lenType": 16,
    "lenVar": 40
   },
   "kernels_config": {
    "python": {
     "delete_cmd_postfix": "",
     "delete_cmd_prefix": "del ",
     "library": "var_list.py",
     "varRefreshCmd": "print(var_dic_list())"
    },
    "r": {
     "delete_cmd_postfix": ") ",
     "delete_cmd_prefix": "rm(",
     "library": "var_list.r",
     "varRefreshCmd": "cat(var_dic_list()) "
    }
   },
   "types_to_exclude": [
    "module",
    "function",
    "builtin_function_or_method",
    "instance",
    "_Feature"
   ],
   "window_display": false
  }
 },
 "nbformat": 4,
 "nbformat_minor": 4
}
