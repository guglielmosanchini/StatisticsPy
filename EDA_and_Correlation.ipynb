{
 "cells": [
  {
   "cell_type": "markdown",
   "metadata": {},
   "source": [
    "# US Car Accidents"
   ]
  },
  {
   "cell_type": "markdown",
   "metadata": {
    "heading_collapsed": true
   },
   "source": [
    "## Import"
   ]
  },
  {
   "cell_type": "code",
   "execution_count": 1,
   "metadata": {
    "ExecuteTime": {
     "end_time": "2020-02-16T08:51:12.353518Z",
     "start_time": "2020-02-16T08:51:11.814174Z"
    },
    "hidden": true
   },
   "outputs": [],
   "source": [
    "import pandas as pd\n",
    "import numpy as np\n",
    "import matplotlib.pyplot as plt\n",
    "import seaborn as sns\n",
    "\n",
    "from collections import Counter"
   ]
  },
  {
   "cell_type": "markdown",
   "metadata": {
    "hidden": true
   },
   "source": [
    "For the meaning of each column refer to https://www.kaggle.com/sobhanmoosavi/us-accidents\n",
    "\n",
    "Papers using this dataset:\n",
    "\n",
    "    arXiv:1906.05409\n",
    "    arXiv:1909.09638\n"
   ]
  },
  {
   "cell_type": "code",
   "execution_count": 2,
   "metadata": {
    "ExecuteTime": {
     "end_time": "2020-02-16T08:51:31.112486Z",
     "start_time": "2020-02-16T08:51:13.247770Z"
    },
    "hidden": true
   },
   "outputs": [],
   "source": [
    "df = pd.read_csv(\"US_Accidents_Dec19.csv\")"
   ]
  },
  {
   "cell_type": "code",
   "execution_count": 3,
   "metadata": {
    "ExecuteTime": {
     "end_time": "2020-02-16T08:51:32.630156Z",
     "start_time": "2020-02-16T08:51:32.625025Z"
    },
    "hidden": true
   },
   "outputs": [
    {
     "data": {
      "text/plain": [
       "(2974335, 49)"
      ]
     },
     "execution_count": 3,
     "metadata": {},
     "output_type": "execute_result"
    }
   ],
   "source": [
    "df.shape"
   ]
  },
  {
   "cell_type": "code",
   "execution_count": 4,
   "metadata": {
    "ExecuteTime": {
     "end_time": "2020-02-16T08:51:34.007861Z",
     "start_time": "2020-02-16T08:51:33.981575Z"
    },
    "hidden": true
   },
   "outputs": [
    {
     "data": {
      "text/html": [
       "<div>\n",
       "<style scoped>\n",
       "    .dataframe tbody tr th:only-of-type {\n",
       "        vertical-align: middle;\n",
       "    }\n",
       "\n",
       "    .dataframe tbody tr th {\n",
       "        vertical-align: top;\n",
       "    }\n",
       "\n",
       "    .dataframe thead th {\n",
       "        text-align: right;\n",
       "    }\n",
       "</style>\n",
       "<table border=\"1\" class=\"dataframe\">\n",
       "  <thead>\n",
       "    <tr style=\"text-align: right;\">\n",
       "      <th></th>\n",
       "      <th>ID</th>\n",
       "      <th>Source</th>\n",
       "      <th>TMC</th>\n",
       "      <th>Severity</th>\n",
       "      <th>Start_Time</th>\n",
       "      <th>End_Time</th>\n",
       "      <th>Start_Lat</th>\n",
       "      <th>Start_Lng</th>\n",
       "      <th>End_Lat</th>\n",
       "      <th>End_Lng</th>\n",
       "      <th>...</th>\n",
       "      <th>Roundabout</th>\n",
       "      <th>Station</th>\n",
       "      <th>Stop</th>\n",
       "      <th>Traffic_Calming</th>\n",
       "      <th>Traffic_Signal</th>\n",
       "      <th>Turning_Loop</th>\n",
       "      <th>Sunrise_Sunset</th>\n",
       "      <th>Civil_Twilight</th>\n",
       "      <th>Nautical_Twilight</th>\n",
       "      <th>Astronomical_Twilight</th>\n",
       "    </tr>\n",
       "  </thead>\n",
       "  <tbody>\n",
       "    <tr>\n",
       "      <th>0</th>\n",
       "      <td>A-1</td>\n",
       "      <td>MapQuest</td>\n",
       "      <td>201.0</td>\n",
       "      <td>3</td>\n",
       "      <td>2016-02-08 05:46:00</td>\n",
       "      <td>2016-02-08 11:00:00</td>\n",
       "      <td>39.865147</td>\n",
       "      <td>-84.058723</td>\n",
       "      <td>NaN</td>\n",
       "      <td>NaN</td>\n",
       "      <td>...</td>\n",
       "      <td>False</td>\n",
       "      <td>False</td>\n",
       "      <td>False</td>\n",
       "      <td>False</td>\n",
       "      <td>False</td>\n",
       "      <td>False</td>\n",
       "      <td>Night</td>\n",
       "      <td>Night</td>\n",
       "      <td>Night</td>\n",
       "      <td>Night</td>\n",
       "    </tr>\n",
       "    <tr>\n",
       "      <th>1</th>\n",
       "      <td>A-2</td>\n",
       "      <td>MapQuest</td>\n",
       "      <td>201.0</td>\n",
       "      <td>2</td>\n",
       "      <td>2016-02-08 06:07:59</td>\n",
       "      <td>2016-02-08 06:37:59</td>\n",
       "      <td>39.928059</td>\n",
       "      <td>-82.831184</td>\n",
       "      <td>NaN</td>\n",
       "      <td>NaN</td>\n",
       "      <td>...</td>\n",
       "      <td>False</td>\n",
       "      <td>False</td>\n",
       "      <td>False</td>\n",
       "      <td>False</td>\n",
       "      <td>False</td>\n",
       "      <td>False</td>\n",
       "      <td>Night</td>\n",
       "      <td>Night</td>\n",
       "      <td>Night</td>\n",
       "      <td>Day</td>\n",
       "    </tr>\n",
       "    <tr>\n",
       "      <th>2</th>\n",
       "      <td>A-3</td>\n",
       "      <td>MapQuest</td>\n",
       "      <td>201.0</td>\n",
       "      <td>2</td>\n",
       "      <td>2016-02-08 06:49:27</td>\n",
       "      <td>2016-02-08 07:19:27</td>\n",
       "      <td>39.063148</td>\n",
       "      <td>-84.032608</td>\n",
       "      <td>NaN</td>\n",
       "      <td>NaN</td>\n",
       "      <td>...</td>\n",
       "      <td>False</td>\n",
       "      <td>False</td>\n",
       "      <td>False</td>\n",
       "      <td>False</td>\n",
       "      <td>True</td>\n",
       "      <td>False</td>\n",
       "      <td>Night</td>\n",
       "      <td>Night</td>\n",
       "      <td>Day</td>\n",
       "      <td>Day</td>\n",
       "    </tr>\n",
       "    <tr>\n",
       "      <th>3</th>\n",
       "      <td>A-4</td>\n",
       "      <td>MapQuest</td>\n",
       "      <td>201.0</td>\n",
       "      <td>3</td>\n",
       "      <td>2016-02-08 07:23:34</td>\n",
       "      <td>2016-02-08 07:53:34</td>\n",
       "      <td>39.747753</td>\n",
       "      <td>-84.205582</td>\n",
       "      <td>NaN</td>\n",
       "      <td>NaN</td>\n",
       "      <td>...</td>\n",
       "      <td>False</td>\n",
       "      <td>False</td>\n",
       "      <td>False</td>\n",
       "      <td>False</td>\n",
       "      <td>False</td>\n",
       "      <td>False</td>\n",
       "      <td>Night</td>\n",
       "      <td>Day</td>\n",
       "      <td>Day</td>\n",
       "      <td>Day</td>\n",
       "    </tr>\n",
       "    <tr>\n",
       "      <th>4</th>\n",
       "      <td>A-5</td>\n",
       "      <td>MapQuest</td>\n",
       "      <td>201.0</td>\n",
       "      <td>2</td>\n",
       "      <td>2016-02-08 07:39:07</td>\n",
       "      <td>2016-02-08 08:09:07</td>\n",
       "      <td>39.627781</td>\n",
       "      <td>-84.188354</td>\n",
       "      <td>NaN</td>\n",
       "      <td>NaN</td>\n",
       "      <td>...</td>\n",
       "      <td>False</td>\n",
       "      <td>False</td>\n",
       "      <td>False</td>\n",
       "      <td>False</td>\n",
       "      <td>True</td>\n",
       "      <td>False</td>\n",
       "      <td>Day</td>\n",
       "      <td>Day</td>\n",
       "      <td>Day</td>\n",
       "      <td>Day</td>\n",
       "    </tr>\n",
       "  </tbody>\n",
       "</table>\n",
       "<p>5 rows × 49 columns</p>\n",
       "</div>"
      ],
      "text/plain": [
       "    ID    Source    TMC  Severity           Start_Time             End_Time  \\\n",
       "0  A-1  MapQuest  201.0         3  2016-02-08 05:46:00  2016-02-08 11:00:00   \n",
       "1  A-2  MapQuest  201.0         2  2016-02-08 06:07:59  2016-02-08 06:37:59   \n",
       "2  A-3  MapQuest  201.0         2  2016-02-08 06:49:27  2016-02-08 07:19:27   \n",
       "3  A-4  MapQuest  201.0         3  2016-02-08 07:23:34  2016-02-08 07:53:34   \n",
       "4  A-5  MapQuest  201.0         2  2016-02-08 07:39:07  2016-02-08 08:09:07   \n",
       "\n",
       "   Start_Lat  Start_Lng  End_Lat  End_Lng  ...  Roundabout Station   Stop  \\\n",
       "0  39.865147 -84.058723      NaN      NaN  ...       False   False  False   \n",
       "1  39.928059 -82.831184      NaN      NaN  ...       False   False  False   \n",
       "2  39.063148 -84.032608      NaN      NaN  ...       False   False  False   \n",
       "3  39.747753 -84.205582      NaN      NaN  ...       False   False  False   \n",
       "4  39.627781 -84.188354      NaN      NaN  ...       False   False  False   \n",
       "\n",
       "  Traffic_Calming Traffic_Signal Turning_Loop Sunrise_Sunset Civil_Twilight  \\\n",
       "0           False          False        False          Night          Night   \n",
       "1           False          False        False          Night          Night   \n",
       "2           False           True        False          Night          Night   \n",
       "3           False          False        False          Night            Day   \n",
       "4           False           True        False            Day            Day   \n",
       "\n",
       "  Nautical_Twilight Astronomical_Twilight  \n",
       "0             Night                 Night  \n",
       "1             Night                   Day  \n",
       "2               Day                   Day  \n",
       "3               Day                   Day  \n",
       "4               Day                   Day  \n",
       "\n",
       "[5 rows x 49 columns]"
      ]
     },
     "execution_count": 4,
     "metadata": {},
     "output_type": "execute_result"
    }
   ],
   "source": [
    "df.head()"
   ]
  },
  {
   "cell_type": "markdown",
   "metadata": {
    "heading_collapsed": true
   },
   "source": [
    "## Remove NaNs"
   ]
  },
  {
   "cell_type": "code",
   "execution_count": 5,
   "metadata": {
    "ExecuteTime": {
     "end_time": "2020-02-16T08:51:37.364179Z",
     "start_time": "2020-02-16T08:51:35.293348Z"
    },
    "hidden": true,
    "scrolled": true
   },
   "outputs": [
    {
     "name": "stdout",
     "output_type": "stream",
     "text": [
      "ID: 0\n",
      "Source: 0\n",
      "TMC: 728071\n",
      "Severity: 0\n",
      "Start_Time: 0\n",
      "End_Time: 0\n",
      "Start_Lat: 0\n",
      "Start_Lng: 0\n",
      "End_Lat: 2246264\n",
      "End_Lng: 2246264\n",
      "Distance(mi): 0\n",
      "Description: 1\n",
      "Number: 1917605\n",
      "Street: 0\n",
      "Side: 0\n",
      "City: 83\n",
      "County: 0\n",
      "State: 0\n",
      "Zipcode: 880\n",
      "Country: 0\n",
      "Timezone: 3163\n",
      "Airport_Code: 5691\n",
      "Weather_Timestamp: 36705\n",
      "Temperature(F): 56063\n",
      "Wind_Chill(F): 1852623\n",
      "Humidity(%): 59173\n",
      "Pressure(in): 48142\n",
      "Visibility(mi): 65691\n",
      "Wind_Direction: 45101\n",
      "Wind_Speed(mph): 440840\n",
      "Precipitation(in): 1998358\n",
      "Weather_Condition: 65932\n",
      "Amenity: 0\n",
      "Bump: 0\n",
      "Crossing: 0\n",
      "Give_Way: 0\n",
      "Junction: 0\n",
      "No_Exit: 0\n",
      "Railway: 0\n",
      "Roundabout: 0\n",
      "Station: 0\n",
      "Stop: 0\n",
      "Traffic_Calming: 0\n",
      "Traffic_Signal: 0\n",
      "Turning_Loop: 0\n",
      "Sunrise_Sunset: 93\n",
      "Civil_Twilight: 93\n",
      "Nautical_Twilight: 93\n",
      "Astronomical_Twilight: 93\n"
     ]
    }
   ],
   "source": [
    "for name in df.columns:\n",
    "    print(name + \": \" + str(df[name].isna().sum()))"
   ]
  },
  {
   "cell_type": "code",
   "execution_count": 6,
   "metadata": {
    "ExecuteTime": {
     "end_time": "2020-02-16T08:51:39.364165Z",
     "start_time": "2020-02-16T08:51:38.696723Z"
    },
    "hidden": true
   },
   "outputs": [],
   "source": [
    "# removing End_Lat, End_Lng, Number, Wind Chill, Precipitation \n",
    "df = df.drop([\"End_Lat\", \"End_Lng\", \"Number\", \"Wind_Chill(F)\", \"Precipitation(in)\"], axis=1)"
   ]
  },
  {
   "cell_type": "code",
   "execution_count": 7,
   "metadata": {
    "ExecuteTime": {
     "end_time": "2020-02-16T08:51:41.826599Z",
     "start_time": "2020-02-16T08:51:40.965946Z"
    },
    "hidden": true
   },
   "outputs": [
    {
     "data": {
      "text/plain": [
       "True"
      ]
     },
     "execution_count": 7,
     "metadata": {},
     "output_type": "execute_result"
    }
   ],
   "source": [
    "# check if ID is unique\n",
    "df[\"ID\"].nunique() == df.shape[0]"
   ]
  },
  {
   "cell_type": "code",
   "execution_count": 8,
   "metadata": {
    "ExecuteTime": {
     "end_time": "2020-02-16T08:51:45.452981Z",
     "start_time": "2020-02-16T08:51:43.487690Z"
    },
    "hidden": true
   },
   "outputs": [],
   "source": [
    "# convert object type into datetime64 type\n",
    "df[\"Start_Time\"] = pd.to_datetime(df[\"Start_Time\"])\n",
    "df[\"End_Time\"] = pd.to_datetime(df[\"End_Time\"])"
   ]
  },
  {
   "cell_type": "code",
   "execution_count": 9,
   "metadata": {
    "ExecuteTime": {
     "end_time": "2020-02-16T08:51:46.732510Z",
     "start_time": "2020-02-16T08:51:46.657207Z"
    },
    "hidden": true
   },
   "outputs": [
    {
     "data": {
      "text/plain": [
       "1"
      ]
     },
     "execution_count": 9,
     "metadata": {},
     "output_type": "execute_result"
    }
   ],
   "source": [
    "# it is useless, data is only from US\n",
    "df[\"Country\"].nunique()"
   ]
  },
  {
   "cell_type": "code",
   "execution_count": 10,
   "metadata": {
    "ExecuteTime": {
     "end_time": "2020-02-16T08:51:47.940365Z",
     "start_time": "2020-02-16T08:51:47.917069Z"
    },
    "hidden": true
   },
   "outputs": [
    {
     "data": {
      "text/plain": [
       "1"
      ]
     },
     "execution_count": 10,
     "metadata": {},
     "output_type": "execute_result"
    }
   ],
   "source": [
    "# it is useless, always False\n",
    "df[\"Turning_Loop\"].nunique()"
   ]
  },
  {
   "cell_type": "code",
   "execution_count": 11,
   "metadata": {
    "ExecuteTime": {
     "end_time": "2020-02-16T08:51:49.839414Z",
     "start_time": "2020-02-16T08:51:49.096821Z"
    },
    "hidden": true
   },
   "outputs": [],
   "source": [
    "df = df.drop([\"Country\", \"Turning_Loop\"], axis=1)"
   ]
  },
  {
   "cell_type": "markdown",
   "metadata": {
    "hidden": true
   },
   "source": [
    "Keep only the 40 most common weather conditions and replace all the others with \"Other\""
   ]
  },
  {
   "cell_type": "code",
   "execution_count": 12,
   "metadata": {
    "ExecuteTime": {
     "end_time": "2020-02-16T08:51:51.220767Z",
     "start_time": "2020-02-16T08:51:50.973753Z"
    },
    "hidden": true
   },
   "outputs": [],
   "source": [
    "replacement_list = df[\"Weather_Condition\"].value_counts()[40:].index\n",
    "replacement_dict ={i: \"Other\" for i in replacement_list}"
   ]
  },
  {
   "cell_type": "code",
   "execution_count": 13,
   "metadata": {
    "ExecuteTime": {
     "end_time": "2020-02-16T08:51:56.554589Z",
     "start_time": "2020-02-16T08:51:52.418308Z"
    },
    "hidden": true,
    "scrolled": true
   },
   "outputs": [],
   "source": [
    "df.replace({'Weather_Condition': replacement_dict}, inplace=True)"
   ]
  },
  {
   "cell_type": "code",
   "execution_count": 14,
   "metadata": {
    "ExecuteTime": {
     "end_time": "2020-02-16T08:51:57.846322Z",
     "start_time": "2020-02-16T08:51:57.840544Z"
    },
    "hidden": true,
    "scrolled": true
   },
   "outputs": [
    {
     "data": {
      "text/plain": [
       "ID                               object\n",
       "Source                           object\n",
       "TMC                             float64\n",
       "Severity                          int64\n",
       "Start_Time               datetime64[ns]\n",
       "End_Time                 datetime64[ns]\n",
       "Start_Lat                       float64\n",
       "Start_Lng                       float64\n",
       "Distance(mi)                    float64\n",
       "Description                      object\n",
       "Street                           object\n",
       "Side                             object\n",
       "City                             object\n",
       "County                           object\n",
       "State                            object\n",
       "Zipcode                          object\n",
       "Timezone                         object\n",
       "Airport_Code                     object\n",
       "Weather_Timestamp                object\n",
       "Temperature(F)                  float64\n",
       "Humidity(%)                     float64\n",
       "Pressure(in)                    float64\n",
       "Visibility(mi)                  float64\n",
       "Wind_Direction                   object\n",
       "Wind_Speed(mph)                 float64\n",
       "Weather_Condition                object\n",
       "Amenity                            bool\n",
       "Bump                               bool\n",
       "Crossing                           bool\n",
       "Give_Way                           bool\n",
       "Junction                           bool\n",
       "No_Exit                            bool\n",
       "Railway                            bool\n",
       "Roundabout                         bool\n",
       "Station                            bool\n",
       "Stop                               bool\n",
       "Traffic_Calming                    bool\n",
       "Traffic_Signal                     bool\n",
       "Sunrise_Sunset                   object\n",
       "Civil_Twilight                   object\n",
       "Nautical_Twilight                object\n",
       "Astronomical_Twilight            object\n",
       "dtype: object"
      ]
     },
     "execution_count": 14,
     "metadata": {},
     "output_type": "execute_result"
    }
   ],
   "source": [
    "df.dtypes"
   ]
  },
  {
   "cell_type": "markdown",
   "metadata": {},
   "source": [
    "# Partial EDA"
   ]
  },
  {
   "cell_type": "markdown",
   "metadata": {
    "heading_collapsed": true
   },
   "source": [
    "## Source"
   ]
  },
  {
   "cell_type": "code",
   "execution_count": 15,
   "metadata": {
    "ExecuteTime": {
     "end_time": "2020-02-16T08:51:59.887257Z",
     "start_time": "2020-02-16T08:51:58.941143Z"
    },
    "hidden": true
   },
   "outputs": [
    {
     "data": {
      "image/png": "[encoded data removed]",
      "text/plain": [
       "<Figure size 432x288 with 1 Axes>"
      ]
     },
     "metadata": {
      "needs_background": "light"
     },
     "output_type": "display_data"
    }
   ],
   "source": [
    "source_vc = df[\"Source\"].value_counts()\n",
    "\n",
    "plt.bar(source_vc.index, source_vc.values)\n",
    "plt.title(\"Source bar plot\")\n",
    "plt.xlabel(\"Source type\")\n",
    "plt.ylabel(\"frequency\")\n",
    "plt.show()"
   ]
  },
  {
   "cell_type": "markdown",
   "metadata": {
    "heading_collapsed": true
   },
   "source": [
    "## Time"
   ]
  },
  {
   "cell_type": "markdown",
   "metadata": {
    "heading_collapsed": true,
    "hidden": true
   },
   "source": [
    "### Generic"
   ]
  },
  {
   "cell_type": "code",
   "execution_count": 14,
   "metadata": {
    "ExecuteTime": {
     "end_time": "2020-02-09T17:35:55.299989Z",
     "start_time": "2020-02-09T17:35:41.530204Z"
    },
    "hidden": true
   },
   "outputs": [],
   "source": [
    "start_time = df[\"Start_Time\"].apply(lambda x: x.time())\n",
    "start_hour = start_time.apply(lambda x:x.hour)"
   ]
  },
  {
   "cell_type": "code",
   "execution_count": 15,
   "metadata": {
    "ExecuteTime": {
     "end_time": "2020-02-09T17:36:08.430969Z",
     "start_time": "2020-02-09T17:35:55.299989Z"
    },
    "hidden": true,
    "scrolled": true
   },
   "outputs": [],
   "source": [
    "end_time = df[\"End_Time\"].apply(lambda x: x.time())\n",
    "end_hour = end_time.apply(lambda x:x.hour)"
   ]
  },
  {
   "cell_type": "code",
   "execution_count": 16,
   "metadata": {
    "ExecuteTime": {
     "end_time": "2020-02-09T17:36:08.852972Z",
     "start_time": "2020-02-09T17:36:08.430969Z"
    },
    "hidden": true
   },
   "outputs": [
    {
     "data": {
      "image/png": "[encoded data removed]",
      "text/plain": [
       "<Figure size 1152x360 with 1 Axes>"
      ]
     },
     "metadata": {
      "needs_background": "light"
     },
     "output_type": "display_data"
    }
   ],
   "source": [
    "sh_vc = start_hour.value_counts().sort_index()\n",
    "eh_vc = end_hour.value_counts().sort_index()\n",
    "\n",
    "plt.figure(figsize=(16,5))\n",
    "plt.bar(sh_vc.index, sh_vc.values, width=0.4, label=\"start\")\n",
    "plt.bar(eh_vc.index+0.4, eh_vc.values, width=0.4, label=\"end\")\n",
    "plt.title(\"Start/End Hour\")\n",
    "plt.xlabel(\"hour\")\n",
    "plt.ylabel(\"frequency\")\n",
    "plt.legend()\n",
    "plt.show()"
   ]
  },
  {
   "cell_type": "markdown",
   "metadata": {
    "heading_collapsed": true,
    "hidden": true
   },
   "source": [
    "### Weekend"
   ]
  },
  {
   "cell_type": "code",
   "execution_count": 120,
   "metadata": {
    "ExecuteTime": {
     "end_time": "2020-02-09T19:33:34.109295Z",
     "start_time": "2020-02-09T19:33:06.241519Z"
    },
    "hidden": true
   },
   "outputs": [],
   "source": [
    "start_time_wd = df[\"Start_Time\"].apply(lambda x: x.weekday())\n",
    "start_time_weekend = start_time[(start_time_wd == 5) | (start_time_wd == 6)]\n",
    "start_hour_weekend = start_time_weekend.apply(lambda x:x.hour)"
   ]
  },
  {
   "cell_type": "code",
   "execution_count": 131,
   "metadata": {
    "ExecuteTime": {
     "end_time": "2020-02-09T19:40:55.568791Z",
     "start_time": "2020-02-09T19:40:27.982056Z"
    },
    "hidden": true
   },
   "outputs": [],
   "source": [
    "end_time_wd = df[\"End_Time\"].apply(lambda x: x.weekday())\n",
    "end_time_weekend = end_time[(end_time_wd == 5) | (end_time_wd == 6)]\n",
    "end_hour_weekend = end_time_weekend.apply(lambda x:x.hour)"
   ]
  },
  {
   "cell_type": "code",
   "execution_count": 133,
   "metadata": {
    "ExecuteTime": {
     "end_time": "2020-02-09T19:42:06.948655Z",
     "start_time": "2020-02-09T19:42:06.354724Z"
    },
    "hidden": true
   },
   "outputs": [
    {
     "data": {
      "image/png": "[encoded data removed]",
      "text/plain": [
       "<Figure size 1152x360 with 1 Axes>"
      ]
     },
     "metadata": {
      "needs_background": "light"
     },
     "output_type": "display_data"
    }
   ],
   "source": [
    "sh_wk = start_hour_weekend.value_counts().sort_index()\n",
    "eh_wk = end_hour_weekend.value_counts().sort_index()\n",
    "\n",
    "\n",
    "plt.figure(figsize=(16,5))\n",
    "plt.bar(sh_wk.index, sh_wk.values, width=0.4, label=\"start\")\n",
    "plt.bar(eh_wk.index+0.4, eh_wk.values, width=0.4, label=\"end\")\n",
    "plt.title(\"Start/End Hour during Weekend\")\n",
    "plt.xlabel(\"hour\")\n",
    "plt.ylabel(\"frequency\")\n",
    "plt.legend()\n",
    "plt.show()"
   ]
  },
  {
   "cell_type": "markdown",
   "metadata": {
    "heading_collapsed": true,
    "hidden": true
   },
   "source": [
    "### Working days"
   ]
  },
  {
   "cell_type": "code",
   "execution_count": 134,
   "metadata": {
    "ExecuteTime": {
     "end_time": "2020-02-09T19:52:43.314198Z",
     "start_time": "2020-02-09T19:52:40.891592Z"
    },
    "hidden": true
   },
   "outputs": [],
   "source": [
    "start_time_work = start_time[(start_time_wd != 5) & (start_time_wd != 6)]\n",
    "start_hour_work = start_time_work.apply(lambda x:x.hour)"
   ]
  },
  {
   "cell_type": "code",
   "execution_count": 135,
   "metadata": {
    "ExecuteTime": {
     "end_time": "2020-02-09T19:53:15.886246Z",
     "start_time": "2020-02-09T19:53:13.385476Z"
    },
    "hidden": true
   },
   "outputs": [],
   "source": [
    "end_time_work = end_time[(end_time_wd != 5) & (end_time_wd != 6)]\n",
    "end_hour_work = end_time_work.apply(lambda x:x.hour)"
   ]
  },
  {
   "cell_type": "code",
   "execution_count": 136,
   "metadata": {
    "ExecuteTime": {
     "end_time": "2020-02-09T19:53:28.483668Z",
     "start_time": "2020-02-09T19:53:27.749077Z"
    },
    "hidden": true
   },
   "outputs": [
    {
     "data": {
      "image/png": "[encoded data removed]",
      "text/plain": [
       "<Figure size 1152x360 with 1 Axes>"
      ]
     },
     "metadata": {
      "needs_background": "light"
     },
     "output_type": "display_data"
    }
   ],
   "source": [
    "sh_wk = start_hour_work.value_counts().sort_index()\n",
    "eh_wk = end_hour_work.value_counts().sort_index()\n",
    "\n",
    "\n",
    "plt.figure(figsize=(16,5))\n",
    "plt.bar(sh_wk.index, sh_wk.values, width=0.4, label=\"start\")\n",
    "plt.bar(eh_wk.index+0.4, eh_wk.values, width=0.4, label=\"end\")\n",
    "plt.title(\"Start/End Hour during Weekend\")\n",
    "plt.xlabel(\"hour\")\n",
    "plt.ylabel(\"frequency\")\n",
    "plt.legend()\n",
    "plt.show()"
   ]
  },
  {
   "cell_type": "markdown",
   "metadata": {
    "heading_collapsed": true
   },
   "source": [
    "## TMC"
   ]
  },
  {
   "cell_type": "code",
   "execution_count": 17,
   "metadata": {
    "ExecuteTime": {
     "end_time": "2020-02-09T17:36:09.228085Z",
     "start_time": "2020-02-09T17:36:08.852972Z"
    },
    "hidden": true
   },
   "outputs": [
    {
     "name": "stdout",
     "output_type": "stream",
     "text": [
      "There are 728071 NaN in the TMP column.\n"
     ]
    },
    {
     "data": {
      "image/png": "[encoded data removed]",
      "text/plain": [
       "<Figure size 1152x360 with 1 Axes>"
      ]
     },
     "metadata": {
      "needs_background": "light"
     },
     "output_type": "display_data"
    }
   ],
   "source": [
    "print(\"There are {} NaN in the TMP column.\".format(df[\"TMC\"].isna().sum()))\n",
    "\n",
    "TMC_vc = df[\"TMC\"].value_counts().sort_index()\n",
    "plt.figure(figsize=(16,5))\n",
    "plt.bar(TMC_vc.index.map(lambda x: str(int(x))), TMC_vc.values)\n",
    "plt.title(\"TMC: Traffic Message Channel\")\n",
    "plt.xlabel(\"code\")\n",
    "plt.ylabel(\"frequency\")\n",
    "plt.show()"
   ]
  },
  {
   "cell_type": "markdown",
   "metadata": {
    "heading_collapsed": true
   },
   "source": [
    "## Severity"
   ]
  },
  {
   "cell_type": "code",
   "execution_count": 18,
   "metadata": {
    "ExecuteTime": {
     "end_time": "2020-02-09T17:36:09.509420Z",
     "start_time": "2020-02-09T17:36:09.228085Z"
    },
    "hidden": true
   },
   "outputs": [
    {
     "data": {
      "image/png": "[encoded data removed]",
      "text/plain": [
       "<Figure size 1008x432 with 1 Axes>"
      ]
     },
     "metadata": {
      "needs_background": "light"
     },
     "output_type": "display_data"
    }
   ],
   "source": [
    "sev_vc = df[\"Severity\"].value_counts(dropna=False).sort_index()\n",
    "\n",
    "plt.figure(figsize=(14,6))\n",
    "plt.bar(sev_vc.index, sev_vc.values)\n",
    "plt.title(\"Severity\")\n",
    "plt.xlabel(\"code\")\n",
    "plt.ylabel(\"frequency\")\n",
    "plt.gca().set_xticklabels([None,None,1,None, 2, None, 3, None, 4])\n",
    "\n",
    "\n",
    "for i, v in enumerate(sev_vc.values):\n",
    "    plt.text(i+1, v+15000, str(v), color='black', fontweight=None, ha=\"center\")\n",
    "\n",
    "plt.show()"
   ]
  },
  {
   "cell_type": "markdown",
   "metadata": {
    "heading_collapsed": true
   },
   "source": [
    "## Distance"
   ]
  },
  {
   "cell_type": "code",
   "execution_count": 19,
   "metadata": {
    "ExecuteTime": {
     "end_time": "2020-02-09T17:36:09.556308Z",
     "start_time": "2020-02-09T17:36:09.509420Z"
    },
    "hidden": true
   },
   "outputs": [
    {
     "name": "stdout",
     "output_type": "stream",
     "text": [
      "null distances :  1996120\n",
      "distances <=0.1:  2357571\n"
     ]
    }
   ],
   "source": [
    "# too many distances are equal to zero\n",
    "print(\"null distances : \",(df[\"Distance(mi)\"]==0).sum())\n",
    "print(\"distances <=0.1: \", (df[\"Distance(mi)\"]<=0.1).sum())"
   ]
  },
  {
   "cell_type": "code",
   "execution_count": 20,
   "metadata": {
    "ExecuteTime": {
     "end_time": "2020-02-09T17:36:09.618831Z",
     "start_time": "2020-02-09T17:36:09.556308Z"
    },
    "hidden": true
   },
   "outputs": [],
   "source": [
    "dist_nonnull = df[\"Distance(mi)\"][df[\"Distance(mi)\"] != 0]"
   ]
  },
  {
   "cell_type": "code",
   "execution_count": 21,
   "metadata": {
    "ExecuteTime": {
     "end_time": "2020-02-09T17:36:09.665716Z",
     "start_time": "2020-02-09T17:36:09.618831Z"
    },
    "hidden": true
   },
   "outputs": [
    {
     "name": "stdout",
     "output_type": "stream",
     "text": [
      "95th percentile:  3.41000008583\n"
     ]
    }
   ],
   "source": [
    "p_95 = np.percentile(dist_nonnull,95)\n",
    "print(\"95th percentile: \", p_95)"
   ]
  },
  {
   "cell_type": "code",
   "execution_count": 22,
   "metadata": {
    "ExecuteTime": {
     "end_time": "2020-02-09T17:36:09.931422Z",
     "start_time": "2020-02-09T17:36:09.665716Z"
    },
    "hidden": true
   },
   "outputs": [
    {
     "data": {
      "image/png": "[encoded data removed]",
      "text/plain": [
       "<Figure size 1152x360 with 1 Axes>"
      ]
     },
     "metadata": {
      "needs_background": "light"
     },
     "output_type": "display_data"
    }
   ],
   "source": [
    "plt.figure(figsize=(16,5))\n",
    "plt.hist(dist_nonnull[dist_nonnull <= p_95], edgecolor=\"k\")\n",
    "plt.title(\"Distances (up to 95th percentile)\")\n",
    "plt.xlabel(\"distance in miles\")\n",
    "plt.ylabel(\"frequency\")\n",
    "plt.show()"
   ]
  },
  {
   "cell_type": "markdown",
   "metadata": {
    "heading_collapsed": true
   },
   "source": [
    "## Categorical Variables"
   ]
  },
  {
   "cell_type": "code",
   "execution_count": 23,
   "metadata": {
    "ExecuteTime": {
     "end_time": "2020-02-09T17:36:11.447506Z",
     "start_time": "2020-02-09T17:36:09.931422Z"
    },
    "code_folding": [],
    "hidden": true
   },
   "outputs": [
    {
     "data": {
      "image/png": "[encoded data removed]",
      "text/plain": [
       "<Figure size 1296x936 with 12 Axes>"
      ]
     },
     "metadata": {
      "needs_background": "light"
     },
     "output_type": "display_data"
    }
   ],
   "source": [
    "fig, ax = plt.subplots(3,4, figsize=(18,13), sharey=True)\n",
    "\n",
    "ind1 = 0\n",
    "ind2 = 0\n",
    "for name in df.columns:\n",
    "    if df[name].dtype == \"bool\":\n",
    "        vc = df[name].value_counts()\n",
    "        ax[ind2, ind1].set_title(name)\n",
    "        ax[ind2, ind1].bar(vc.index.map(lambda x: str(x)), vc.values, \n",
    "                           color=[\"crimson\", \"lightgreen\"], edgecolor=\"k\")\n",
    "        ind1 += 1\n",
    "        if ind1 == 4:\n",
    "            ind1 = 0\n",
    "            ind2 += 1\n",
    "plt.show()"
   ]
  },
  {
   "cell_type": "markdown",
   "metadata": {
    "heading_collapsed": true
   },
   "source": [
    "# Description"
   ]
  },
  {
   "cell_type": "code",
   "execution_count": 16,
   "metadata": {
    "ExecuteTime": {
     "end_time": "2020-02-16T08:52:04.062559Z",
     "start_time": "2020-02-16T08:52:01.147372Z"
    },
    "hidden": true
   },
   "outputs": [],
   "source": [
    "len_descr = df[\"Description\"].apply(lambda x: len(str(x).split(\" \")))"
   ]
  },
  {
   "cell_type": "code",
   "execution_count": 17,
   "metadata": {
    "ExecuteTime": {
     "end_time": "2020-02-16T08:52:06.224038Z",
     "start_time": "2020-02-16T08:52:05.253103Z"
    },
    "hidden": true
   },
   "outputs": [
    {
     "name": "stdout",
     "output_type": "stream",
     "text": [
      "Normalized contingency table of Severity and Description Length\n"
     ]
    },
    {
     "data": {
      "text/html": [
       "<style  type=\"text/css\" >\n",
       "    #T_9bca75ee_5099_11ea_96bc_acde48001122row0_col0 {\n",
       "            background-color:  #3b4cc0;\n",
       "            color:  #f1f1f1;\n",
       "        }    #T_9bca75ee_5099_11ea_96bc_acde48001122row0_col1 {\n",
       "            background-color:  #3b4cc0;\n",
       "            color:  #f1f1f1;\n",
       "        }    #T_9bca75ee_5099_11ea_96bc_acde48001122row0_col2 {\n",
       "            background-color:  #3b4cc0;\n",
       "            color:  #f1f1f1;\n",
       "        }    #T_9bca75ee_5099_11ea_96bc_acde48001122row0_col3 {\n",
       "            background-color:  #3b4cc0;\n",
       "            color:  #f1f1f1;\n",
       "        }    #T_9bca75ee_5099_11ea_96bc_acde48001122row0_col4 {\n",
       "            background-color:  #3b4cc0;\n",
       "            color:  #f1f1f1;\n",
       "        }    #T_9bca75ee_5099_11ea_96bc_acde48001122row0_col5 {\n",
       "            background-color:  #3b4cc0;\n",
       "            color:  #f1f1f1;\n",
       "        }    #T_9bca75ee_5099_11ea_96bc_acde48001122row0_col6 {\n",
       "            background-color:  #3b4cc0;\n",
       "            color:  #f1f1f1;\n",
       "        }    #T_9bca75ee_5099_11ea_96bc_acde48001122row0_col7 {\n",
       "            background-color:  #3b4cc0;\n",
       "            color:  #f1f1f1;\n",
       "        }    #T_9bca75ee_5099_11ea_96bc_acde48001122row0_col8 {\n",
       "            background-color:  #3b4cc0;\n",
       "            color:  #f1f1f1;\n",
       "        }    #T_9bca75ee_5099_11ea_96bc_acde48001122row0_col9 {\n",
       "            background-color:  #3b4cc0;\n",
       "            color:  #f1f1f1;\n",
       "        }    #T_9bca75ee_5099_11ea_96bc_acde48001122row1_col0 {\n",
       "            background-color:  #b40426;\n",
       "            color:  #f1f1f1;\n",
       "        }    #T_9bca75ee_5099_11ea_96bc_acde48001122row1_col1 {\n",
       "            background-color:  #b40426;\n",
       "            color:  #f1f1f1;\n",
       "        }    #T_9bca75ee_5099_11ea_96bc_acde48001122row1_col2 {\n",
       "            background-color:  #b40426;\n",
       "            color:  #f1f1f1;\n",
       "        }    #T_9bca75ee_5099_11ea_96bc_acde48001122row1_col3 {\n",
       "            background-color:  #b40426;\n",
       "            color:  #f1f1f1;\n",
       "        }    #T_9bca75ee_5099_11ea_96bc_acde48001122row1_col4 {\n",
       "            background-color:  #b40426;\n",
       "            color:  #f1f1f1;\n",
       "        }    #T_9bca75ee_5099_11ea_96bc_acde48001122row1_col5 {\n",
       "            background-color:  #b40426;\n",
       "            color:  #f1f1f1;\n",
       "        }    #T_9bca75ee_5099_11ea_96bc_acde48001122row1_col6 {\n",
       "            background-color:  #ec8165;\n",
       "            color:  #000000;\n",
       "        }    #T_9bca75ee_5099_11ea_96bc_acde48001122row1_col7 {\n",
       "            background-color:  #f4c6af;\n",
       "            color:  #000000;\n",
       "        }    #T_9bca75ee_5099_11ea_96bc_acde48001122row1_col8 {\n",
       "            background-color:  #cfdaea;\n",
       "            color:  #000000;\n",
       "        }    #T_9bca75ee_5099_11ea_96bc_acde48001122row1_col9 {\n",
       "            background-color:  #b40426;\n",
       "            color:  #f1f1f1;\n",
       "        }    #T_9bca75ee_5099_11ea_96bc_acde48001122row2_col0 {\n",
       "            background-color:  #7396f5;\n",
       "            color:  #000000;\n",
       "        }    #T_9bca75ee_5099_11ea_96bc_acde48001122row2_col1 {\n",
       "            background-color:  #536edd;\n",
       "            color:  #000000;\n",
       "        }    #T_9bca75ee_5099_11ea_96bc_acde48001122row2_col2 {\n",
       "            background-color:  #6384eb;\n",
       "            color:  #000000;\n",
       "        }    #T_9bca75ee_5099_11ea_96bc_acde48001122row2_col3 {\n",
       "            background-color:  #abc8fd;\n",
       "            color:  #000000;\n",
       "        }    #T_9bca75ee_5099_11ea_96bc_acde48001122row2_col4 {\n",
       "            background-color:  #e5d8d1;\n",
       "            color:  #000000;\n",
       "        }    #T_9bca75ee_5099_11ea_96bc_acde48001122row2_col5 {\n",
       "            background-color:  #f7b99e;\n",
       "            color:  #000000;\n",
       "        }    #T_9bca75ee_5099_11ea_96bc_acde48001122row2_col6 {\n",
       "            background-color:  #b40426;\n",
       "            color:  #f1f1f1;\n",
       "        }    #T_9bca75ee_5099_11ea_96bc_acde48001122row2_col7 {\n",
       "            background-color:  #b40426;\n",
       "            color:  #f1f1f1;\n",
       "        }    #T_9bca75ee_5099_11ea_96bc_acde48001122row2_col8 {\n",
       "            background-color:  #b40426;\n",
       "            color:  #f1f1f1;\n",
       "        }    #T_9bca75ee_5099_11ea_96bc_acde48001122row2_col9 {\n",
       "            background-color:  #cdd9ec;\n",
       "            color:  #000000;\n",
       "        }    #T_9bca75ee_5099_11ea_96bc_acde48001122row3_col0 {\n",
       "            background-color:  #3b4cc0;\n",
       "            color:  #f1f1f1;\n",
       "        }    #T_9bca75ee_5099_11ea_96bc_acde48001122row3_col1 {\n",
       "            background-color:  #3b4cc0;\n",
       "            color:  #f1f1f1;\n",
       "        }    #T_9bca75ee_5099_11ea_96bc_acde48001122row3_col2 {\n",
       "            background-color:  #3b4cc0;\n",
       "            color:  #f1f1f1;\n",
       "        }    #T_9bca75ee_5099_11ea_96bc_acde48001122row3_col3 {\n",
       "            background-color:  #4358cb;\n",
       "            color:  #f1f1f1;\n",
       "        }    #T_9bca75ee_5099_11ea_96bc_acde48001122row3_col4 {\n",
       "            background-color:  #6f92f3;\n",
       "            color:  #000000;\n",
       "        }    #T_9bca75ee_5099_11ea_96bc_acde48001122row3_col5 {\n",
       "            background-color:  #6e90f2;\n",
       "            color:  #000000;\n",
       "        }    #T_9bca75ee_5099_11ea_96bc_acde48001122row3_col6 {\n",
       "            background-color:  #5b7ae5;\n",
       "            color:  #000000;\n",
       "        }    #T_9bca75ee_5099_11ea_96bc_acde48001122row3_col7 {\n",
       "            background-color:  #4e68d8;\n",
       "            color:  #000000;\n",
       "        }    #T_9bca75ee_5099_11ea_96bc_acde48001122row3_col8 {\n",
       "            background-color:  #465ecf;\n",
       "            color:  #f1f1f1;\n",
       "        }    #T_9bca75ee_5099_11ea_96bc_acde48001122row3_col9 {\n",
       "            background-color:  #485fd1;\n",
       "            color:  #f1f1f1;\n",
       "        }</style><table id=\"T_9bca75ee_5099_11ea_96bc_acde48001122\" ><thead>    <tr>        <th class=\"index_name level0\" >Description</th>        <th class=\"col_heading level0 col0\" >(0.999, 6.0]</th>        <th class=\"col_heading level0 col1\" >(6.0, 7.0]</th>        <th class=\"col_heading level0 col2\" >(7.0, 8.0]</th>        <th class=\"col_heading level0 col3\" >(8.0, 9.0]</th>        <th class=\"col_heading level0 col4\" >(9.0, 10.0]</th>        <th class=\"col_heading level0 col5\" >(10.0, 12.0]</th>        <th class=\"col_heading level0 col6\" >(12.0, 14.0]</th>        <th class=\"col_heading level0 col7\" >(14.0, 16.0]</th>        <th class=\"col_heading level0 col8\" >(16.0, 75.0]</th>        <th class=\"col_heading level0 col9\" >All</th>    </tr>    <tr>        <th class=\"index_name level0\" >Severity</th>        <th class=\"blank\" ></th>        <th class=\"blank\" ></th>        <th class=\"blank\" ></th>        <th class=\"blank\" ></th>        <th class=\"blank\" ></th>        <th class=\"blank\" ></th>        <th class=\"blank\" ></th>        <th class=\"blank\" ></th>        <th class=\"blank\" ></th>        <th class=\"blank\" ></th>    </tr></thead><tbody>\n",
       "                <tr>\n",
       "                        <th id=\"T_9bca75ee_5099_11ea_96bc_acde48001122level0_row0\" class=\"row_heading level0 row0\" >1</th>\n",
       "                        <td id=\"T_9bca75ee_5099_11ea_96bc_acde48001122row0_col0\" class=\"data row0 col0\" >0.000</td>\n",
       "                        <td id=\"T_9bca75ee_5099_11ea_96bc_acde48001122row0_col1\" class=\"data row0 col1\" >0.000</td>\n",
       "                        <td id=\"T_9bca75ee_5099_11ea_96bc_acde48001122row0_col2\" class=\"data row0 col2\" >0.001</td>\n",
       "                        <td id=\"T_9bca75ee_5099_11ea_96bc_acde48001122row0_col3\" class=\"data row0 col3\" >0.001</td>\n",
       "                        <td id=\"T_9bca75ee_5099_11ea_96bc_acde48001122row0_col4\" class=\"data row0 col4\" >0.000</td>\n",
       "                        <td id=\"T_9bca75ee_5099_11ea_96bc_acde48001122row0_col5\" class=\"data row0 col5\" >0.000</td>\n",
       "                        <td id=\"T_9bca75ee_5099_11ea_96bc_acde48001122row0_col6\" class=\"data row0 col6\" >0.000</td>\n",
       "                        <td id=\"T_9bca75ee_5099_11ea_96bc_acde48001122row0_col7\" class=\"data row0 col7\" >0.000</td>\n",
       "                        <td id=\"T_9bca75ee_5099_11ea_96bc_acde48001122row0_col8\" class=\"data row0 col8\" >0.000</td>\n",
       "                        <td id=\"T_9bca75ee_5099_11ea_96bc_acde48001122row0_col9\" class=\"data row0 col9\" >0.000</td>\n",
       "            </tr>\n",
       "            <tr>\n",
       "                        <th id=\"T_9bca75ee_5099_11ea_96bc_acde48001122level0_row1\" class=\"row_heading level0 row1\" >2</th>\n",
       "                        <td id=\"T_9bca75ee_5099_11ea_96bc_acde48001122row1_col0\" class=\"data row1 col0\" >0.846</td>\n",
       "                        <td id=\"T_9bca75ee_5099_11ea_96bc_acde48001122row1_col1\" class=\"data row1 col1\" >0.925</td>\n",
       "                        <td id=\"T_9bca75ee_5099_11ea_96bc_acde48001122row1_col2\" class=\"data row1 col2\" >0.883</td>\n",
       "                        <td id=\"T_9bca75ee_5099_11ea_96bc_acde48001122row1_col3\" class=\"data row1 col3\" >0.730</td>\n",
       "                        <td id=\"T_9bca75ee_5099_11ea_96bc_acde48001122row1_col4\" class=\"data row1 col4\" >0.587</td>\n",
       "                        <td id=\"T_9bca75ee_5099_11ea_96bc_acde48001122row1_col5\" class=\"data row1 col5\" >0.548</td>\n",
       "                        <td id=\"T_9bca75ee_5099_11ea_96bc_acde48001122row1_col6\" class=\"data row1 col6\" >0.422</td>\n",
       "                        <td id=\"T_9bca75ee_5099_11ea_96bc_acde48001122row1_col7\" class=\"data row1 col7\" >0.369</td>\n",
       "                        <td id=\"T_9bca75ee_5099_11ea_96bc_acde48001122row1_col8\" class=\"data row1 col8\" >0.302</td>\n",
       "                        <td id=\"T_9bca75ee_5099_11ea_96bc_acde48001122row1_col9\" class=\"data row1 col9\" >0.670</td>\n",
       "            </tr>\n",
       "            <tr>\n",
       "                        <th id=\"T_9bca75ee_5099_11ea_96bc_acde48001122level0_row2\" class=\"row_heading level0 row2\" >3</th>\n",
       "                        <td id=\"T_9bca75ee_5099_11ea_96bc_acde48001122row2_col0\" class=\"data row2 col0\" >0.152</td>\n",
       "                        <td id=\"T_9bca75ee_5099_11ea_96bc_acde48001122row2_col1\" class=\"data row2 col1\" >0.073</td>\n",
       "                        <td id=\"T_9bca75ee_5099_11ea_96bc_acde48001122row2_col2\" class=\"data row2 col2\" >0.116</td>\n",
       "                        <td id=\"T_9bca75ee_5099_11ea_96bc_acde48001122row2_col3\" class=\"data row2 col3\" >0.246</td>\n",
       "                        <td id=\"T_9bca75ee_5099_11ea_96bc_acde48001122row2_col4\" class=\"data row2 col4\" >0.314</td>\n",
       "                        <td id=\"T_9bca75ee_5099_11ea_96bc_acde48001122row2_col5\" class=\"data row2 col5\" >0.363</td>\n",
       "                        <td id=\"T_9bca75ee_5099_11ea_96bc_acde48001122row2_col6\" class=\"data row2 col6\" >0.522</td>\n",
       "                        <td id=\"T_9bca75ee_5099_11ea_96bc_acde48001122row2_col7\" class=\"data row2 col7\" >0.594</td>\n",
       "                        <td id=\"T_9bca75ee_5099_11ea_96bc_acde48001122row2_col8\" class=\"data row2 col8\" >0.670</td>\n",
       "                        <td id=\"T_9bca75ee_5099_11ea_96bc_acde48001122row2_col9\" class=\"data row2 col9\" >0.298</td>\n",
       "            </tr>\n",
       "            <tr>\n",
       "                        <th id=\"T_9bca75ee_5099_11ea_96bc_acde48001122level0_row3\" class=\"row_heading level0 row3\" >4</th>\n",
       "                        <td id=\"T_9bca75ee_5099_11ea_96bc_acde48001122row3_col0\" class=\"data row3 col0\" >0.003</td>\n",
       "                        <td id=\"T_9bca75ee_5099_11ea_96bc_acde48001122row3_col1\" class=\"data row3 col1\" >0.001</td>\n",
       "                        <td id=\"T_9bca75ee_5099_11ea_96bc_acde48001122row3_col2\" class=\"data row3 col2\" >0.001</td>\n",
       "                        <td id=\"T_9bca75ee_5099_11ea_96bc_acde48001122row3_col3\" class=\"data row3 col3\" >0.023</td>\n",
       "                        <td id=\"T_9bca75ee_5099_11ea_96bc_acde48001122row3_col4\" class=\"data row3 col4\" >0.098</td>\n",
       "                        <td id=\"T_9bca75ee_5099_11ea_96bc_acde48001122row3_col5\" class=\"data row3 col5\" >0.089</td>\n",
       "                        <td id=\"T_9bca75ee_5099_11ea_96bc_acde48001122row3_col6\" class=\"data row3 col6\" >0.056</td>\n",
       "                        <td id=\"T_9bca75ee_5099_11ea_96bc_acde48001122row3_col7\" class=\"data row3 col7\" >0.037</td>\n",
       "                        <td id=\"T_9bca75ee_5099_11ea_96bc_acde48001122row3_col8\" class=\"data row3 col8\" >0.028</td>\n",
       "                        <td id=\"T_9bca75ee_5099_11ea_96bc_acde48001122row3_col9\" class=\"data row3 col9\" >0.031</td>\n",
       "            </tr>\n",
       "    </tbody></table>"
      ],
      "text/plain": [
       "<pandas.io.formats.style.Styler at 0x103dbcd30>"
      ]
     },
     "execution_count": 17,
     "metadata": {},
     "output_type": "execute_result"
    }
   ],
   "source": [
    "print(\"Normalized contingency table of Severity and Description Length\")\n",
    "\n",
    "sev_len_df = pd.crosstab(df[\"Severity\"], pd.qcut(len_descr, 10, duplicates=\"drop\"), \n",
    "            margins=True, normalize=\"columns\")\n",
    "\n",
    "sev_len_df.style.background_gradient(cmap='coolwarm').set_precision(3)"
   ]
  },
  {
   "cell_type": "code",
   "execution_count": 18,
   "metadata": {
    "ExecuteTime": {
     "end_time": "2020-02-16T08:52:08.759848Z",
     "start_time": "2020-02-16T08:52:07.470885Z"
    },
    "hidden": true
   },
   "outputs": [
    {
     "name": "stdout",
     "output_type": "stream",
     "text": [
      "Normalized contingency table of Distance (in miles) and Description Length\n"
     ]
    },
    {
     "data": {
      "text/html": [
       "<style  type=\"text/css\" >\n",
       "    #T_9d4cbd96_5099_11ea_96bc_acde48001122row0_col0 {\n",
       "            background-color:  #fde725;\n",
       "            color:  #000000;\n",
       "        }    #T_9d4cbd96_5099_11ea_96bc_acde48001122row0_col1 {\n",
       "            background-color:  #fde725;\n",
       "            color:  #000000;\n",
       "        }    #T_9d4cbd96_5099_11ea_96bc_acde48001122row0_col2 {\n",
       "            background-color:  #fde725;\n",
       "            color:  #000000;\n",
       "        }    #T_9d4cbd96_5099_11ea_96bc_acde48001122row0_col3 {\n",
       "            background-color:  #fde725;\n",
       "            color:  #000000;\n",
       "        }    #T_9d4cbd96_5099_11ea_96bc_acde48001122row0_col4 {\n",
       "            background-color:  #fde725;\n",
       "            color:  #000000;\n",
       "        }    #T_9d4cbd96_5099_11ea_96bc_acde48001122row0_col5 {\n",
       "            background-color:  #fde725;\n",
       "            color:  #000000;\n",
       "        }    #T_9d4cbd96_5099_11ea_96bc_acde48001122row0_col6 {\n",
       "            background-color:  #fde725;\n",
       "            color:  #000000;\n",
       "        }    #T_9d4cbd96_5099_11ea_96bc_acde48001122row0_col7 {\n",
       "            background-color:  #fde725;\n",
       "            color:  #000000;\n",
       "        }    #T_9d4cbd96_5099_11ea_96bc_acde48001122row0_col8 {\n",
       "            background-color:  #fde725;\n",
       "            color:  #000000;\n",
       "        }    #T_9d4cbd96_5099_11ea_96bc_acde48001122row0_col9 {\n",
       "            background-color:  #fde725;\n",
       "            color:  #000000;\n",
       "        }    #T_9d4cbd96_5099_11ea_96bc_acde48001122row1_col0 {\n",
       "            background-color:  #460a5d;\n",
       "            color:  #f1f1f1;\n",
       "        }    #T_9d4cbd96_5099_11ea_96bc_acde48001122row1_col1 {\n",
       "            background-color:  #481d6f;\n",
       "            color:  #f1f1f1;\n",
       "        }    #T_9d4cbd96_5099_11ea_96bc_acde48001122row1_col2 {\n",
       "            background-color:  #482071;\n",
       "            color:  #f1f1f1;\n",
       "        }    #T_9d4cbd96_5099_11ea_96bc_acde48001122row1_col3 {\n",
       "            background-color:  #472c7a;\n",
       "            color:  #f1f1f1;\n",
       "        }    #T_9d4cbd96_5099_11ea_96bc_acde48001122row1_col4 {\n",
       "            background-color:  #472c7a;\n",
       "            color:  #f1f1f1;\n",
       "        }    #T_9d4cbd96_5099_11ea_96bc_acde48001122row1_col5 {\n",
       "            background-color:  #472f7d;\n",
       "            color:  #f1f1f1;\n",
       "        }    #T_9d4cbd96_5099_11ea_96bc_acde48001122row1_col6 {\n",
       "            background-color:  #463480;\n",
       "            color:  #f1f1f1;\n",
       "        }    #T_9d4cbd96_5099_11ea_96bc_acde48001122row1_col7 {\n",
       "            background-color:  #423f85;\n",
       "            color:  #f1f1f1;\n",
       "        }    #T_9d4cbd96_5099_11ea_96bc_acde48001122row1_col8 {\n",
       "            background-color:  #404588;\n",
       "            color:  #f1f1f1;\n",
       "        }    #T_9d4cbd96_5099_11ea_96bc_acde48001122row1_col9 {\n",
       "            background-color:  #482576;\n",
       "            color:  #f1f1f1;\n",
       "        }    #T_9d4cbd96_5099_11ea_96bc_acde48001122row2_col0 {\n",
       "            background-color:  #482979;\n",
       "            color:  #f1f1f1;\n",
       "        }    #T_9d4cbd96_5099_11ea_96bc_acde48001122row2_col1 {\n",
       "            background-color:  #450559;\n",
       "            color:  #f1f1f1;\n",
       "        }    #T_9d4cbd96_5099_11ea_96bc_acde48001122row2_col2 {\n",
       "            background-color:  #440256;\n",
       "            color:  #f1f1f1;\n",
       "        }    #T_9d4cbd96_5099_11ea_96bc_acde48001122row2_col3 {\n",
       "            background-color:  #440154;\n",
       "            color:  #f1f1f1;\n",
       "        }    #T_9d4cbd96_5099_11ea_96bc_acde48001122row2_col4 {\n",
       "            background-color:  #440154;\n",
       "            color:  #f1f1f1;\n",
       "        }    #T_9d4cbd96_5099_11ea_96bc_acde48001122row2_col5 {\n",
       "            background-color:  #440154;\n",
       "            color:  #f1f1f1;\n",
       "        }    #T_9d4cbd96_5099_11ea_96bc_acde48001122row2_col6 {\n",
       "            background-color:  #440154;\n",
       "            color:  #f1f1f1;\n",
       "        }    #T_9d4cbd96_5099_11ea_96bc_acde48001122row2_col7 {\n",
       "            background-color:  #440154;\n",
       "            color:  #f1f1f1;\n",
       "        }    #T_9d4cbd96_5099_11ea_96bc_acde48001122row2_col8 {\n",
       "            background-color:  #440154;\n",
       "            color:  #f1f1f1;\n",
       "        }    #T_9d4cbd96_5099_11ea_96bc_acde48001122row2_col9 {\n",
       "            background-color:  #440154;\n",
       "            color:  #f1f1f1;\n",
       "        }    #T_9d4cbd96_5099_11ea_96bc_acde48001122row3_col0 {\n",
       "            background-color:  #453781;\n",
       "            color:  #f1f1f1;\n",
       "        }    #T_9d4cbd96_5099_11ea_96bc_acde48001122row3_col1 {\n",
       "            background-color:  #450559;\n",
       "            color:  #f1f1f1;\n",
       "        }    #T_9d4cbd96_5099_11ea_96bc_acde48001122row3_col2 {\n",
       "            background-color:  #440256;\n",
       "            color:  #f1f1f1;\n",
       "        }    #T_9d4cbd96_5099_11ea_96bc_acde48001122row3_col3 {\n",
       "            background-color:  #450457;\n",
       "            color:  #f1f1f1;\n",
       "        }    #T_9d4cbd96_5099_11ea_96bc_acde48001122row3_col4 {\n",
       "            background-color:  #450559;\n",
       "            color:  #f1f1f1;\n",
       "        }    #T_9d4cbd96_5099_11ea_96bc_acde48001122row3_col5 {\n",
       "            background-color:  #450559;\n",
       "            color:  #f1f1f1;\n",
       "        }    #T_9d4cbd96_5099_11ea_96bc_acde48001122row3_col6 {\n",
       "            background-color:  #440256;\n",
       "            color:  #f1f1f1;\n",
       "        }    #T_9d4cbd96_5099_11ea_96bc_acde48001122row3_col7 {\n",
       "            background-color:  #440154;\n",
       "            color:  #f1f1f1;\n",
       "        }    #T_9d4cbd96_5099_11ea_96bc_acde48001122row3_col8 {\n",
       "            background-color:  #440154;\n",
       "            color:  #f1f1f1;\n",
       "        }    #T_9d4cbd96_5099_11ea_96bc_acde48001122row3_col9 {\n",
       "            background-color:  #450457;\n",
       "            color:  #f1f1f1;\n",
       "        }    #T_9d4cbd96_5099_11ea_96bc_acde48001122row4_col0 {\n",
       "            background-color:  #46327e;\n",
       "            color:  #f1f1f1;\n",
       "        }    #T_9d4cbd96_5099_11ea_96bc_acde48001122row4_col1 {\n",
       "            background-color:  #450559;\n",
       "            color:  #f1f1f1;\n",
       "        }    #T_9d4cbd96_5099_11ea_96bc_acde48001122row4_col2 {\n",
       "            background-color:  #440256;\n",
       "            color:  #f1f1f1;\n",
       "        }    #T_9d4cbd96_5099_11ea_96bc_acde48001122row4_col3 {\n",
       "            background-color:  #450457;\n",
       "            color:  #f1f1f1;\n",
       "        }    #T_9d4cbd96_5099_11ea_96bc_acde48001122row4_col4 {\n",
       "            background-color:  #46075a;\n",
       "            color:  #f1f1f1;\n",
       "        }    #T_9d4cbd96_5099_11ea_96bc_acde48001122row4_col5 {\n",
       "            background-color:  #46075a;\n",
       "            color:  #f1f1f1;\n",
       "        }    #T_9d4cbd96_5099_11ea_96bc_acde48001122row4_col6 {\n",
       "            background-color:  #440256;\n",
       "            color:  #f1f1f1;\n",
       "        }    #T_9d4cbd96_5099_11ea_96bc_acde48001122row4_col7 {\n",
       "            background-color:  #440256;\n",
       "            color:  #f1f1f1;\n",
       "        }    #T_9d4cbd96_5099_11ea_96bc_acde48001122row4_col8 {\n",
       "            background-color:  #440154;\n",
       "            color:  #f1f1f1;\n",
       "        }    #T_9d4cbd96_5099_11ea_96bc_acde48001122row4_col9 {\n",
       "            background-color:  #450457;\n",
       "            color:  #f1f1f1;\n",
       "        }    #T_9d4cbd96_5099_11ea_96bc_acde48001122row5_col0 {\n",
       "            background-color:  #472e7c;\n",
       "            color:  #f1f1f1;\n",
       "        }    #T_9d4cbd96_5099_11ea_96bc_acde48001122row5_col1 {\n",
       "            background-color:  #450559;\n",
       "            color:  #f1f1f1;\n",
       "        }    #T_9d4cbd96_5099_11ea_96bc_acde48001122row5_col2 {\n",
       "            background-color:  #440256;\n",
       "            color:  #f1f1f1;\n",
       "        }    #T_9d4cbd96_5099_11ea_96bc_acde48001122row5_col3 {\n",
       "            background-color:  #450559;\n",
       "            color:  #f1f1f1;\n",
       "        }    #T_9d4cbd96_5099_11ea_96bc_acde48001122row5_col4 {\n",
       "            background-color:  #46085c;\n",
       "            color:  #f1f1f1;\n",
       "        }    #T_9d4cbd96_5099_11ea_96bc_acde48001122row5_col5 {\n",
       "            background-color:  #46075a;\n",
       "            color:  #f1f1f1;\n",
       "        }    #T_9d4cbd96_5099_11ea_96bc_acde48001122row5_col6 {\n",
       "            background-color:  #450457;\n",
       "            color:  #f1f1f1;\n",
       "        }    #T_9d4cbd96_5099_11ea_96bc_acde48001122row5_col7 {\n",
       "            background-color:  #440256;\n",
       "            color:  #f1f1f1;\n",
       "        }    #T_9d4cbd96_5099_11ea_96bc_acde48001122row5_col8 {\n",
       "            background-color:  #440256;\n",
       "            color:  #f1f1f1;\n",
       "        }    #T_9d4cbd96_5099_11ea_96bc_acde48001122row5_col9 {\n",
       "            background-color:  #450457;\n",
       "            color:  #f1f1f1;\n",
       "        }    #T_9d4cbd96_5099_11ea_96bc_acde48001122row6_col0 {\n",
       "            background-color:  #472e7c;\n",
       "            color:  #f1f1f1;\n",
       "        }    #T_9d4cbd96_5099_11ea_96bc_acde48001122row6_col1 {\n",
       "            background-color:  #450559;\n",
       "            color:  #f1f1f1;\n",
       "        }    #T_9d4cbd96_5099_11ea_96bc_acde48001122row6_col2 {\n",
       "            background-color:  #440256;\n",
       "            color:  #f1f1f1;\n",
       "        }    #T_9d4cbd96_5099_11ea_96bc_acde48001122row6_col3 {\n",
       "            background-color:  #450559;\n",
       "            color:  #f1f1f1;\n",
       "        }    #T_9d4cbd96_5099_11ea_96bc_acde48001122row6_col4 {\n",
       "            background-color:  #46075a;\n",
       "            color:  #f1f1f1;\n",
       "        }    #T_9d4cbd96_5099_11ea_96bc_acde48001122row6_col5 {\n",
       "            background-color:  #46075a;\n",
       "            color:  #f1f1f1;\n",
       "        }    #T_9d4cbd96_5099_11ea_96bc_acde48001122row6_col6 {\n",
       "            background-color:  #450457;\n",
       "            color:  #f1f1f1;\n",
       "        }    #T_9d4cbd96_5099_11ea_96bc_acde48001122row6_col7 {\n",
       "            background-color:  #440256;\n",
       "            color:  #f1f1f1;\n",
       "        }    #T_9d4cbd96_5099_11ea_96bc_acde48001122row6_col8 {\n",
       "            background-color:  #440256;\n",
       "            color:  #f1f1f1;\n",
       "        }    #T_9d4cbd96_5099_11ea_96bc_acde48001122row6_col9 {\n",
       "            background-color:  #450457;\n",
       "            color:  #f1f1f1;\n",
       "        }    #T_9d4cbd96_5099_11ea_96bc_acde48001122row7_col0 {\n",
       "            background-color:  #472f7d;\n",
       "            color:  #f1f1f1;\n",
       "        }    #T_9d4cbd96_5099_11ea_96bc_acde48001122row7_col1 {\n",
       "            background-color:  #450559;\n",
       "            color:  #f1f1f1;\n",
       "        }    #T_9d4cbd96_5099_11ea_96bc_acde48001122row7_col2 {\n",
       "            background-color:  #450457;\n",
       "            color:  #f1f1f1;\n",
       "        }    #T_9d4cbd96_5099_11ea_96bc_acde48001122row7_col3 {\n",
       "            background-color:  #450559;\n",
       "            color:  #f1f1f1;\n",
       "        }    #T_9d4cbd96_5099_11ea_96bc_acde48001122row7_col4 {\n",
       "            background-color:  #46075a;\n",
       "            color:  #f1f1f1;\n",
       "        }    #T_9d4cbd96_5099_11ea_96bc_acde48001122row7_col5 {\n",
       "            background-color:  #450559;\n",
       "            color:  #f1f1f1;\n",
       "        }    #T_9d4cbd96_5099_11ea_96bc_acde48001122row7_col6 {\n",
       "            background-color:  #450457;\n",
       "            color:  #f1f1f1;\n",
       "        }    #T_9d4cbd96_5099_11ea_96bc_acde48001122row7_col7 {\n",
       "            background-color:  #440256;\n",
       "            color:  #f1f1f1;\n",
       "        }    #T_9d4cbd96_5099_11ea_96bc_acde48001122row7_col8 {\n",
       "            background-color:  #450457;\n",
       "            color:  #f1f1f1;\n",
       "        }    #T_9d4cbd96_5099_11ea_96bc_acde48001122row7_col9 {\n",
       "            background-color:  #450457;\n",
       "            color:  #f1f1f1;\n",
       "        }    #T_9d4cbd96_5099_11ea_96bc_acde48001122row8_col0 {\n",
       "            background-color:  #472e7c;\n",
       "            color:  #f1f1f1;\n",
       "        }    #T_9d4cbd96_5099_11ea_96bc_acde48001122row8_col1 {\n",
       "            background-color:  #450559;\n",
       "            color:  #f1f1f1;\n",
       "        }    #T_9d4cbd96_5099_11ea_96bc_acde48001122row8_col2 {\n",
       "            background-color:  #440256;\n",
       "            color:  #f1f1f1;\n",
       "        }    #T_9d4cbd96_5099_11ea_96bc_acde48001122row8_col3 {\n",
       "            background-color:  #450559;\n",
       "            color:  #f1f1f1;\n",
       "        }    #T_9d4cbd96_5099_11ea_96bc_acde48001122row8_col4 {\n",
       "            background-color:  #46075a;\n",
       "            color:  #f1f1f1;\n",
       "        }    #T_9d4cbd96_5099_11ea_96bc_acde48001122row8_col5 {\n",
       "            background-color:  #450559;\n",
       "            color:  #f1f1f1;\n",
       "        }    #T_9d4cbd96_5099_11ea_96bc_acde48001122row8_col6 {\n",
       "            background-color:  #450457;\n",
       "            color:  #f1f1f1;\n",
       "        }    #T_9d4cbd96_5099_11ea_96bc_acde48001122row8_col7 {\n",
       "            background-color:  #450457;\n",
       "            color:  #f1f1f1;\n",
       "        }    #T_9d4cbd96_5099_11ea_96bc_acde48001122row8_col8 {\n",
       "            background-color:  #450457;\n",
       "            color:  #f1f1f1;\n",
       "        }    #T_9d4cbd96_5099_11ea_96bc_acde48001122row8_col9 {\n",
       "            background-color:  #450457;\n",
       "            color:  #f1f1f1;\n",
       "        }    #T_9d4cbd96_5099_11ea_96bc_acde48001122row9_col0 {\n",
       "            background-color:  #482979;\n",
       "            color:  #f1f1f1;\n",
       "        }    #T_9d4cbd96_5099_11ea_96bc_acde48001122row9_col1 {\n",
       "            background-color:  #450559;\n",
       "            color:  #f1f1f1;\n",
       "        }    #T_9d4cbd96_5099_11ea_96bc_acde48001122row9_col2 {\n",
       "            background-color:  #440256;\n",
       "            color:  #f1f1f1;\n",
       "        }    #T_9d4cbd96_5099_11ea_96bc_acde48001122row9_col3 {\n",
       "            background-color:  #450559;\n",
       "            color:  #f1f1f1;\n",
       "        }    #T_9d4cbd96_5099_11ea_96bc_acde48001122row9_col4 {\n",
       "            background-color:  #46085c;\n",
       "            color:  #f1f1f1;\n",
       "        }    #T_9d4cbd96_5099_11ea_96bc_acde48001122row9_col5 {\n",
       "            background-color:  #46075a;\n",
       "            color:  #f1f1f1;\n",
       "        }    #T_9d4cbd96_5099_11ea_96bc_acde48001122row9_col6 {\n",
       "            background-color:  #450559;\n",
       "            color:  #f1f1f1;\n",
       "        }    #T_9d4cbd96_5099_11ea_96bc_acde48001122row9_col7 {\n",
       "            background-color:  #450457;\n",
       "            color:  #f1f1f1;\n",
       "        }    #T_9d4cbd96_5099_11ea_96bc_acde48001122row9_col8 {\n",
       "            background-color:  #450559;\n",
       "            color:  #f1f1f1;\n",
       "        }    #T_9d4cbd96_5099_11ea_96bc_acde48001122row9_col9 {\n",
       "            background-color:  #450457;\n",
       "            color:  #f1f1f1;\n",
       "        }    #T_9d4cbd96_5099_11ea_96bc_acde48001122row10_col0 {\n",
       "            background-color:  #482071;\n",
       "            color:  #f1f1f1;\n",
       "        }    #T_9d4cbd96_5099_11ea_96bc_acde48001122row10_col1 {\n",
       "            background-color:  #450457;\n",
       "            color:  #f1f1f1;\n",
       "        }    #T_9d4cbd96_5099_11ea_96bc_acde48001122row10_col2 {\n",
       "            background-color:  #440256;\n",
       "            color:  #f1f1f1;\n",
       "        }    #T_9d4cbd96_5099_11ea_96bc_acde48001122row10_col3 {\n",
       "            background-color:  #450457;\n",
       "            color:  #f1f1f1;\n",
       "        }    #T_9d4cbd96_5099_11ea_96bc_acde48001122row10_col4 {\n",
       "            background-color:  #460b5e;\n",
       "            color:  #f1f1f1;\n",
       "        }    #T_9d4cbd96_5099_11ea_96bc_acde48001122row10_col5 {\n",
       "            background-color:  #460a5d;\n",
       "            color:  #f1f1f1;\n",
       "        }    #T_9d4cbd96_5099_11ea_96bc_acde48001122row10_col6 {\n",
       "            background-color:  #46085c;\n",
       "            color:  #f1f1f1;\n",
       "        }    #T_9d4cbd96_5099_11ea_96bc_acde48001122row10_col7 {\n",
       "            background-color:  #46075a;\n",
       "            color:  #f1f1f1;\n",
       "        }    #T_9d4cbd96_5099_11ea_96bc_acde48001122row10_col8 {\n",
       "            background-color:  #460a5d;\n",
       "            color:  #f1f1f1;\n",
       "        }    #T_9d4cbd96_5099_11ea_96bc_acde48001122row10_col9 {\n",
       "            background-color:  #450457;\n",
       "            color:  #f1f1f1;\n",
       "        }    #T_9d4cbd96_5099_11ea_96bc_acde48001122row11_col0 {\n",
       "            background-color:  #471164;\n",
       "            color:  #f1f1f1;\n",
       "        }    #T_9d4cbd96_5099_11ea_96bc_acde48001122row11_col1 {\n",
       "            background-color:  #440256;\n",
       "            color:  #f1f1f1;\n",
       "        }    #T_9d4cbd96_5099_11ea_96bc_acde48001122row11_col2 {\n",
       "            background-color:  #440154;\n",
       "            color:  #f1f1f1;\n",
       "        }    #T_9d4cbd96_5099_11ea_96bc_acde48001122row11_col3 {\n",
       "            background-color:  #450457;\n",
       "            color:  #f1f1f1;\n",
       "        }    #T_9d4cbd96_5099_11ea_96bc_acde48001122row11_col4 {\n",
       "            background-color:  #470d60;\n",
       "            color:  #f1f1f1;\n",
       "        }    #T_9d4cbd96_5099_11ea_96bc_acde48001122row11_col5 {\n",
       "            background-color:  #470d60;\n",
       "            color:  #f1f1f1;\n",
       "        }    #T_9d4cbd96_5099_11ea_96bc_acde48001122row11_col6 {\n",
       "            background-color:  #460b5e;\n",
       "            color:  #f1f1f1;\n",
       "        }    #T_9d4cbd96_5099_11ea_96bc_acde48001122row11_col7 {\n",
       "            background-color:  #460b5e;\n",
       "            color:  #f1f1f1;\n",
       "        }    #T_9d4cbd96_5099_11ea_96bc_acde48001122row11_col8 {\n",
       "            background-color:  #481668;\n",
       "            color:  #f1f1f1;\n",
       "        }    #T_9d4cbd96_5099_11ea_96bc_acde48001122row11_col9 {\n",
       "            background-color:  #450457;\n",
       "            color:  #f1f1f1;\n",
       "        }    #T_9d4cbd96_5099_11ea_96bc_acde48001122row12_col0 {\n",
       "            background-color:  #450559;\n",
       "            color:  #f1f1f1;\n",
       "        }    #T_9d4cbd96_5099_11ea_96bc_acde48001122row12_col1 {\n",
       "            background-color:  #440154;\n",
       "            color:  #f1f1f1;\n",
       "        }    #T_9d4cbd96_5099_11ea_96bc_acde48001122row12_col2 {\n",
       "            background-color:  #440154;\n",
       "            color:  #f1f1f1;\n",
       "        }    #T_9d4cbd96_5099_11ea_96bc_acde48001122row12_col3 {\n",
       "            background-color:  #440256;\n",
       "            color:  #f1f1f1;\n",
       "        }    #T_9d4cbd96_5099_11ea_96bc_acde48001122row12_col4 {\n",
       "            background-color:  #460a5d;\n",
       "            color:  #f1f1f1;\n",
       "        }    #T_9d4cbd96_5099_11ea_96bc_acde48001122row12_col5 {\n",
       "            background-color:  #470d60;\n",
       "            color:  #f1f1f1;\n",
       "        }    #T_9d4cbd96_5099_11ea_96bc_acde48001122row12_col6 {\n",
       "            background-color:  #470e61;\n",
       "            color:  #f1f1f1;\n",
       "        }    #T_9d4cbd96_5099_11ea_96bc_acde48001122row12_col7 {\n",
       "            background-color:  #470e61;\n",
       "            color:  #f1f1f1;\n",
       "        }    #T_9d4cbd96_5099_11ea_96bc_acde48001122row12_col8 {\n",
       "            background-color:  #482475;\n",
       "            color:  #f1f1f1;\n",
       "        }    #T_9d4cbd96_5099_11ea_96bc_acde48001122row12_col9 {\n",
       "            background-color:  #450457;\n",
       "            color:  #f1f1f1;\n",
       "        }    #T_9d4cbd96_5099_11ea_96bc_acde48001122row13_col0 {\n",
       "            background-color:  #440154;\n",
       "            color:  #f1f1f1;\n",
       "        }    #T_9d4cbd96_5099_11ea_96bc_acde48001122row13_col1 {\n",
       "            background-color:  #440154;\n",
       "            color:  #f1f1f1;\n",
       "        }    #T_9d4cbd96_5099_11ea_96bc_acde48001122row13_col2 {\n",
       "            background-color:  #440154;\n",
       "            color:  #f1f1f1;\n",
       "        }    #T_9d4cbd96_5099_11ea_96bc_acde48001122row13_col3 {\n",
       "            background-color:  #440154;\n",
       "            color:  #f1f1f1;\n",
       "        }    #T_9d4cbd96_5099_11ea_96bc_acde48001122row13_col4 {\n",
       "            background-color:  #450457;\n",
       "            color:  #f1f1f1;\n",
       "        }    #T_9d4cbd96_5099_11ea_96bc_acde48001122row13_col5 {\n",
       "            background-color:  #460a5d;\n",
       "            color:  #f1f1f1;\n",
       "        }    #T_9d4cbd96_5099_11ea_96bc_acde48001122row13_col6 {\n",
       "            background-color:  #471063;\n",
       "            color:  #f1f1f1;\n",
       "        }    #T_9d4cbd96_5099_11ea_96bc_acde48001122row13_col7 {\n",
       "            background-color:  #470e61;\n",
       "            color:  #f1f1f1;\n",
       "        }    #T_9d4cbd96_5099_11ea_96bc_acde48001122row13_col8 {\n",
       "            background-color:  #453781;\n",
       "            color:  #f1f1f1;\n",
       "        }    #T_9d4cbd96_5099_11ea_96bc_acde48001122row13_col9 {\n",
       "            background-color:  #450457;\n",
       "            color:  #f1f1f1;\n",
       "        }</style><table id=\"T_9d4cbd96_5099_11ea_96bc_acde48001122\" ><thead>    <tr>        <th class=\"index_name level0\" >Description</th>        <th class=\"col_heading level0 col0\" >(0.999, 6.0]</th>        <th class=\"col_heading level0 col1\" >(6.0, 7.0]</th>        <th class=\"col_heading level0 col2\" >(7.0, 8.0]</th>        <th class=\"col_heading level0 col3\" >(8.0, 9.0]</th>        <th class=\"col_heading level0 col4\" >(9.0, 10.0]</th>        <th class=\"col_heading level0 col5\" >(10.0, 12.0]</th>        <th class=\"col_heading level0 col6\" >(12.0, 14.0]</th>        <th class=\"col_heading level0 col7\" >(14.0, 16.0]</th>        <th class=\"col_heading level0 col8\" >(16.0, 75.0]</th>        <th class=\"col_heading level0 col9\" >All</th>    </tr>    <tr>        <th class=\"index_name level0\" >Distance(mi)</th>        <th class=\"blank\" ></th>        <th class=\"blank\" ></th>        <th class=\"blank\" ></th>        <th class=\"blank\" ></th>        <th class=\"blank\" ></th>        <th class=\"blank\" ></th>        <th class=\"blank\" ></th>        <th class=\"blank\" ></th>        <th class=\"blank\" ></th>        <th class=\"blank\" ></th>    </tr></thead><tbody>\n",
       "                <tr>\n",
       "                        <th id=\"T_9d4cbd96_5099_11ea_96bc_acde48001122level0_row0\" class=\"row_heading level0 row0\" >(-1e-08, 0.0099999998]</th>\n",
       "                        <td id=\"T_9d4cbd96_5099_11ea_96bc_acde48001122row0_col0\" class=\"data row0 col0\" >0.418</td>\n",
       "                        <td id=\"T_9d4cbd96_5099_11ea_96bc_acde48001122row0_col1\" class=\"data row0 col1\" >0.807</td>\n",
       "                        <td id=\"T_9d4cbd96_5099_11ea_96bc_acde48001122row0_col2\" class=\"data row0 col2\" >0.787</td>\n",
       "                        <td id=\"T_9d4cbd96_5099_11ea_96bc_acde48001122row0_col3\" class=\"data row0 col3\" >0.727</td>\n",
       "                        <td id=\"T_9d4cbd96_5099_11ea_96bc_acde48001122row0_col4\" class=\"data row0 col4\" >0.649</td>\n",
       "                        <td id=\"T_9d4cbd96_5099_11ea_96bc_acde48001122row0_col5\" class=\"data row0 col5\" >0.671</td>\n",
       "                        <td id=\"T_9d4cbd96_5099_11ea_96bc_acde48001122row0_col6\" class=\"data row0 col6\" >0.723</td>\n",
       "                        <td id=\"T_9d4cbd96_5099_11ea_96bc_acde48001122row0_col7\" class=\"data row0 col7\" >0.732</td>\n",
       "                        <td id=\"T_9d4cbd96_5099_11ea_96bc_acde48001122row0_col8\" class=\"data row0 col8\" >0.617</td>\n",
       "                        <td id=\"T_9d4cbd96_5099_11ea_96bc_acde48001122row0_col9\" class=\"data row0 col9\" >0.682</td>\n",
       "            </tr>\n",
       "            <tr>\n",
       "                        <th id=\"T_9d4cbd96_5099_11ea_96bc_acde48001122level0_row1\" class=\"row_heading level0 row1\" >(0.0099999998, 0.01]</th>\n",
       "                        <td id=\"T_9d4cbd96_5099_11ea_96bc_acde48001122row1_col0\" class=\"data row1 col0\" >0.017</td>\n",
       "                        <td id=\"T_9d4cbd96_5099_11ea_96bc_acde48001122row1_col1\" class=\"data row1 col1\" >0.068</td>\n",
       "                        <td id=\"T_9d4cbd96_5099_11ea_96bc_acde48001122row1_col2\" class=\"data row1 col2\" >0.076</td>\n",
       "                        <td id=\"T_9d4cbd96_5099_11ea_96bc_acde48001122row1_col3\" class=\"data row1 col3\" >0.096</td>\n",
       "                        <td id=\"T_9d4cbd96_5099_11ea_96bc_acde48001122row1_col4\" class=\"data row1 col4\" >0.090</td>\n",
       "                        <td id=\"T_9d4cbd96_5099_11ea_96bc_acde48001122row1_col5\" class=\"data row1 col5\" >0.096</td>\n",
       "                        <td id=\"T_9d4cbd96_5099_11ea_96bc_acde48001122row1_col6\" class=\"data row1 col6\" >0.110</td>\n",
       "                        <td id=\"T_9d4cbd96_5099_11ea_96bc_acde48001122row1_col7\" class=\"data row1 col7\" >0.137</td>\n",
       "                        <td id=\"T_9d4cbd96_5099_11ea_96bc_acde48001122row1_col8\" class=\"data row1 col8\" >0.127</td>\n",
       "                        <td id=\"T_9d4cbd96_5099_11ea_96bc_acde48001122row1_col9\" class=\"data row1 col9\" >0.084</td>\n",
       "            </tr>\n",
       "            <tr>\n",
       "                        <th id=\"T_9d4cbd96_5099_11ea_96bc_acde48001122level0_row2\" class=\"row_heading level0 row2\" >(0.01, 0.05]</th>\n",
       "                        <td id=\"T_9d4cbd96_5099_11ea_96bc_acde48001122row2_col0\" class=\"data row2 col0\" >0.054</td>\n",
       "                        <td id=\"T_9d4cbd96_5099_11ea_96bc_acde48001122row2_col1\" class=\"data row2 col1\" >0.012</td>\n",
       "                        <td id=\"T_9d4cbd96_5099_11ea_96bc_acde48001122row2_col2\" class=\"data row2 col2\" >0.011</td>\n",
       "                        <td id=\"T_9d4cbd96_5099_11ea_96bc_acde48001122row2_col3\" class=\"data row2 col3\" >0.009</td>\n",
       "                        <td id=\"T_9d4cbd96_5099_11ea_96bc_acde48001122row2_col4\" class=\"data row2 col4\" >0.010</td>\n",
       "                        <td id=\"T_9d4cbd96_5099_11ea_96bc_acde48001122row2_col5\" class=\"data row2 col5\" >0.007</td>\n",
       "                        <td id=\"T_9d4cbd96_5099_11ea_96bc_acde48001122row2_col6\" class=\"data row2 col6\" >0.002</td>\n",
       "                        <td id=\"T_9d4cbd96_5099_11ea_96bc_acde48001122row2_col7\" class=\"data row2 col7\" >0.001</td>\n",
       "                        <td id=\"T_9d4cbd96_5099_11ea_96bc_acde48001122row2_col8\" class=\"data row2 col8\" >0.001</td>\n",
       "                        <td id=\"T_9d4cbd96_5099_11ea_96bc_acde48001122row2_col9\" class=\"data row2 col9\" >0.014</td>\n",
       "            </tr>\n",
       "            <tr>\n",
       "                        <th id=\"T_9d4cbd96_5099_11ea_96bc_acde48001122level0_row3\" class=\"row_heading level0 row3\" >(0.05, 0.132]</th>\n",
       "                        <td id=\"T_9d4cbd96_5099_11ea_96bc_acde48001122row3_col0\" class=\"data row3 col0\" >0.071</td>\n",
       "                        <td id=\"T_9d4cbd96_5099_11ea_96bc_acde48001122row3_col1\" class=\"data row3 col1\" >0.013</td>\n",
       "                        <td id=\"T_9d4cbd96_5099_11ea_96bc_acde48001122row3_col2\" class=\"data row3 col2\" >0.012</td>\n",
       "                        <td id=\"T_9d4cbd96_5099_11ea_96bc_acde48001122row3_col3\" class=\"data row3 col3\" >0.014</td>\n",
       "                        <td id=\"T_9d4cbd96_5099_11ea_96bc_acde48001122row3_col4\" class=\"data row3 col4\" >0.019</td>\n",
       "                        <td id=\"T_9d4cbd96_5099_11ea_96bc_acde48001122row3_col5\" class=\"data row3 col5\" >0.015</td>\n",
       "                        <td id=\"T_9d4cbd96_5099_11ea_96bc_acde48001122row3_col6\" class=\"data row3 col6\" >0.006</td>\n",
       "                        <td id=\"T_9d4cbd96_5099_11ea_96bc_acde48001122row3_col7\" class=\"data row3 col7\" >0.003</td>\n",
       "                        <td id=\"T_9d4cbd96_5099_11ea_96bc_acde48001122row3_col8\" class=\"data row3 col8\" >0.003</td>\n",
       "                        <td id=\"T_9d4cbd96_5099_11ea_96bc_acde48001122row3_col9\" class=\"data row3 col9\" >0.020</td>\n",
       "            </tr>\n",
       "            <tr>\n",
       "                        <th id=\"T_9d4cbd96_5099_11ea_96bc_acde48001122level0_row4\" class=\"row_heading level0 row4\" >(0.132, 0.217]</th>\n",
       "                        <td id=\"T_9d4cbd96_5099_11ea_96bc_acde48001122row4_col0\" class=\"data row4 col0\" >0.064</td>\n",
       "                        <td id=\"T_9d4cbd96_5099_11ea_96bc_acde48001122row4_col1\" class=\"data row4 col1\" >0.014</td>\n",
       "                        <td id=\"T_9d4cbd96_5099_11ea_96bc_acde48001122row4_col2\" class=\"data row4 col2\" >0.013</td>\n",
       "                        <td id=\"T_9d4cbd96_5099_11ea_96bc_acde48001122row4_col3\" class=\"data row4 col3\" >0.016</td>\n",
       "                        <td id=\"T_9d4cbd96_5099_11ea_96bc_acde48001122row4_col4\" class=\"data row4 col4\" >0.021</td>\n",
       "                        <td id=\"T_9d4cbd96_5099_11ea_96bc_acde48001122row4_col5\" class=\"data row4 col5\" >0.019</td>\n",
       "                        <td id=\"T_9d4cbd96_5099_11ea_96bc_acde48001122row4_col6\" class=\"data row4 col6\" >0.008</td>\n",
       "                        <td id=\"T_9d4cbd96_5099_11ea_96bc_acde48001122row4_col7\" class=\"data row4 col7\" >0.004</td>\n",
       "                        <td id=\"T_9d4cbd96_5099_11ea_96bc_acde48001122row4_col8\" class=\"data row4 col8\" >0.003</td>\n",
       "                        <td id=\"T_9d4cbd96_5099_11ea_96bc_acde48001122row4_col9\" class=\"data row4 col9\" >0.020</td>\n",
       "            </tr>\n",
       "            <tr>\n",
       "                        <th id=\"T_9d4cbd96_5099_11ea_96bc_acde48001122level0_row5\" class=\"row_heading level0 row5\" >(0.217, 0.305]</th>\n",
       "                        <td id=\"T_9d4cbd96_5099_11ea_96bc_acde48001122row5_col0\" class=\"data row5 col0\" >0.060</td>\n",
       "                        <td id=\"T_9d4cbd96_5099_11ea_96bc_acde48001122row5_col1\" class=\"data row5 col1\" >0.013</td>\n",
       "                        <td id=\"T_9d4cbd96_5099_11ea_96bc_acde48001122row5_col2\" class=\"data row5 col2\" >0.013</td>\n",
       "                        <td id=\"T_9d4cbd96_5099_11ea_96bc_acde48001122row5_col3\" class=\"data row5 col3\" >0.017</td>\n",
       "                        <td id=\"T_9d4cbd96_5099_11ea_96bc_acde48001122row5_col4\" class=\"data row5 col4\" >0.022</td>\n",
       "                        <td id=\"T_9d4cbd96_5099_11ea_96bc_acde48001122row5_col5\" class=\"data row5 col5\" >0.019</td>\n",
       "                        <td id=\"T_9d4cbd96_5099_11ea_96bc_acde48001122row5_col6\" class=\"data row5 col6\" >0.009</td>\n",
       "                        <td id=\"T_9d4cbd96_5099_11ea_96bc_acde48001122row5_col7\" class=\"data row5 col7\" >0.005</td>\n",
       "                        <td id=\"T_9d4cbd96_5099_11ea_96bc_acde48001122row5_col8\" class=\"data row5 col8\" >0.005</td>\n",
       "                        <td id=\"T_9d4cbd96_5099_11ea_96bc_acde48001122row5_col9\" class=\"data row5 col9\" >0.020</td>\n",
       "            </tr>\n",
       "            <tr>\n",
       "                        <th id=\"T_9d4cbd96_5099_11ea_96bc_acde48001122level0_row6\" class=\"row_heading level0 row6\" >(0.305, 0.398]</th>\n",
       "                        <td id=\"T_9d4cbd96_5099_11ea_96bc_acde48001122row6_col0\" class=\"data row6 col0\" >0.060</td>\n",
       "                        <td id=\"T_9d4cbd96_5099_11ea_96bc_acde48001122row6_col1\" class=\"data row6 col1\" >0.013</td>\n",
       "                        <td id=\"T_9d4cbd96_5099_11ea_96bc_acde48001122row6_col2\" class=\"data row6 col2\" >0.012</td>\n",
       "                        <td id=\"T_9d4cbd96_5099_11ea_96bc_acde48001122row6_col3\" class=\"data row6 col3\" >0.019</td>\n",
       "                        <td id=\"T_9d4cbd96_5099_11ea_96bc_acde48001122row6_col4\" class=\"data row6 col4\" >0.022</td>\n",
       "                        <td id=\"T_9d4cbd96_5099_11ea_96bc_acde48001122row6_col5\" class=\"data row6 col5\" >0.018</td>\n",
       "                        <td id=\"T_9d4cbd96_5099_11ea_96bc_acde48001122row6_col6\" class=\"data row6 col6\" >0.009</td>\n",
       "                        <td id=\"T_9d4cbd96_5099_11ea_96bc_acde48001122row6_col7\" class=\"data row6 col7\" >0.005</td>\n",
       "                        <td id=\"T_9d4cbd96_5099_11ea_96bc_acde48001122row6_col8\" class=\"data row6 col8\" >0.006</td>\n",
       "                        <td id=\"T_9d4cbd96_5099_11ea_96bc_acde48001122row6_col9\" class=\"data row6 col9\" >0.020</td>\n",
       "            </tr>\n",
       "            <tr>\n",
       "                        <th id=\"T_9d4cbd96_5099_11ea_96bc_acde48001122level0_row7\" class=\"row_heading level0 row7\" >(0.398, 0.489]</th>\n",
       "                        <td id=\"T_9d4cbd96_5099_11ea_96bc_acde48001122row7_col0\" class=\"data row7 col0\" >0.061</td>\n",
       "                        <td id=\"T_9d4cbd96_5099_11ea_96bc_acde48001122row7_col1\" class=\"data row7 col1\" >0.013</td>\n",
       "                        <td id=\"T_9d4cbd96_5099_11ea_96bc_acde48001122row7_col2\" class=\"data row7 col2\" >0.014</td>\n",
       "                        <td id=\"T_9d4cbd96_5099_11ea_96bc_acde48001122row7_col3\" class=\"data row7 col3\" >0.018</td>\n",
       "                        <td id=\"T_9d4cbd96_5099_11ea_96bc_acde48001122row7_col4\" class=\"data row7 col4\" >0.021</td>\n",
       "                        <td id=\"T_9d4cbd96_5099_11ea_96bc_acde48001122row7_col5\" class=\"data row7 col5\" >0.016</td>\n",
       "                        <td id=\"T_9d4cbd96_5099_11ea_96bc_acde48001122row7_col6\" class=\"data row7 col6\" >0.009</td>\n",
       "                        <td id=\"T_9d4cbd96_5099_11ea_96bc_acde48001122row7_col7\" class=\"data row7 col7\" >0.005</td>\n",
       "                        <td id=\"T_9d4cbd96_5099_11ea_96bc_acde48001122row7_col8\" class=\"data row7 col8\" >0.006</td>\n",
       "                        <td id=\"T_9d4cbd96_5099_11ea_96bc_acde48001122row7_col9\" class=\"data row7 col9\" >0.020</td>\n",
       "            </tr>\n",
       "            <tr>\n",
       "                        <th id=\"T_9d4cbd96_5099_11ea_96bc_acde48001122level0_row8\" class=\"row_heading level0 row8\" >(0.489, 0.592]</th>\n",
       "                        <td id=\"T_9d4cbd96_5099_11ea_96bc_acde48001122row8_col0\" class=\"data row8 col0\" >0.060</td>\n",
       "                        <td id=\"T_9d4cbd96_5099_11ea_96bc_acde48001122row8_col1\" class=\"data row8 col1\" >0.013</td>\n",
       "                        <td id=\"T_9d4cbd96_5099_11ea_96bc_acde48001122row8_col2\" class=\"data row8 col2\" >0.013</td>\n",
       "                        <td id=\"T_9d4cbd96_5099_11ea_96bc_acde48001122row8_col3\" class=\"data row8 col3\" >0.017</td>\n",
       "                        <td id=\"T_9d4cbd96_5099_11ea_96bc_acde48001122row8_col4\" class=\"data row8 col4\" >0.021</td>\n",
       "                        <td id=\"T_9d4cbd96_5099_11ea_96bc_acde48001122row8_col5\" class=\"data row8 col5\" >0.017</td>\n",
       "                        <td id=\"T_9d4cbd96_5099_11ea_96bc_acde48001122row8_col6\" class=\"data row8 col6\" >0.010</td>\n",
       "                        <td id=\"T_9d4cbd96_5099_11ea_96bc_acde48001122row8_col7\" class=\"data row8 col7\" >0.007</td>\n",
       "                        <td id=\"T_9d4cbd96_5099_11ea_96bc_acde48001122row8_col8\" class=\"data row8 col8\" >0.008</td>\n",
       "                        <td id=\"T_9d4cbd96_5099_11ea_96bc_acde48001122row8_col9\" class=\"data row8 col9\" >0.020</td>\n",
       "            </tr>\n",
       "            <tr>\n",
       "                        <th id=\"T_9d4cbd96_5099_11ea_96bc_acde48001122level0_row9\" class=\"row_heading level0 row9\" >(0.592, 0.742]</th>\n",
       "                        <td id=\"T_9d4cbd96_5099_11ea_96bc_acde48001122row9_col0\" class=\"data row9 col0\" >0.054</td>\n",
       "                        <td id=\"T_9d4cbd96_5099_11ea_96bc_acde48001122row9_col1\" class=\"data row9 col1\" >0.012</td>\n",
       "                        <td id=\"T_9d4cbd96_5099_11ea_96bc_acde48001122row9_col2\" class=\"data row9 col2\" >0.012</td>\n",
       "                        <td id=\"T_9d4cbd96_5099_11ea_96bc_acde48001122row9_col3\" class=\"data row9 col3\" >0.017</td>\n",
       "                        <td id=\"T_9d4cbd96_5099_11ea_96bc_acde48001122row9_col4\" class=\"data row9 col4\" >0.024</td>\n",
       "                        <td id=\"T_9d4cbd96_5099_11ea_96bc_acde48001122row9_col5\" class=\"data row9 col5\" >0.018</td>\n",
       "                        <td id=\"T_9d4cbd96_5099_11ea_96bc_acde48001122row9_col6\" class=\"data row9 col6\" >0.012</td>\n",
       "                        <td id=\"T_9d4cbd96_5099_11ea_96bc_acde48001122row9_col7\" class=\"data row9 col7\" >0.008</td>\n",
       "                        <td id=\"T_9d4cbd96_5099_11ea_96bc_acde48001122row9_col8\" class=\"data row9 col8\" >0.011</td>\n",
       "                        <td id=\"T_9d4cbd96_5099_11ea_96bc_acde48001122row9_col9\" class=\"data row9 col9\" >0.020</td>\n",
       "            </tr>\n",
       "            <tr>\n",
       "                        <th id=\"T_9d4cbd96_5099_11ea_96bc_acde48001122level0_row10\" class=\"row_heading level0 row10\" >(0.742, 0.998]</th>\n",
       "                        <td id=\"T_9d4cbd96_5099_11ea_96bc_acde48001122row10_col0\" class=\"data row10 col0\" >0.041</td>\n",
       "                        <td id=\"T_9d4cbd96_5099_11ea_96bc_acde48001122row10_col1\" class=\"data row10 col1\" >0.009</td>\n",
       "                        <td id=\"T_9d4cbd96_5099_11ea_96bc_acde48001122row10_col2\" class=\"data row10 col2\" >0.012</td>\n",
       "                        <td id=\"T_9d4cbd96_5099_11ea_96bc_acde48001122row10_col3\" class=\"data row10 col3\" >0.016</td>\n",
       "                        <td id=\"T_9d4cbd96_5099_11ea_96bc_acde48001122row10_col4\" class=\"data row10 col4\" >0.028</td>\n",
       "                        <td id=\"T_9d4cbd96_5099_11ea_96bc_acde48001122row10_col5\" class=\"data row10 col5\" >0.023</td>\n",
       "                        <td id=\"T_9d4cbd96_5099_11ea_96bc_acde48001122row10_col6\" class=\"data row10 col6\" >0.019</td>\n",
       "                        <td id=\"T_9d4cbd96_5099_11ea_96bc_acde48001122row10_col7\" class=\"data row10 col7\" >0.013</td>\n",
       "                        <td id=\"T_9d4cbd96_5099_11ea_96bc_acde48001122row10_col8\" class=\"data row10 col8\" >0.018</td>\n",
       "                        <td id=\"T_9d4cbd96_5099_11ea_96bc_acde48001122row10_col9\" class=\"data row10 col9\" >0.020</td>\n",
       "            </tr>\n",
       "            <tr>\n",
       "                        <th id=\"T_9d4cbd96_5099_11ea_96bc_acde48001122level0_row11\" class=\"row_heading level0 row11\" >(0.998, 1.549]</th>\n",
       "                        <td id=\"T_9d4cbd96_5099_11ea_96bc_acde48001122row11_col0\" class=\"data row11 col0\" >0.024</td>\n",
       "                        <td id=\"T_9d4cbd96_5099_11ea_96bc_acde48001122row11_col1\" class=\"data row11 col1\" >0.006</td>\n",
       "                        <td id=\"T_9d4cbd96_5099_11ea_96bc_acde48001122row11_col2\" class=\"data row11 col2\" >0.010</td>\n",
       "                        <td id=\"T_9d4cbd96_5099_11ea_96bc_acde48001122row11_col3\" class=\"data row11 col3\" >0.015</td>\n",
       "                        <td id=\"T_9d4cbd96_5099_11ea_96bc_acde48001122row11_col4\" class=\"data row11 col4\" >0.030</td>\n",
       "                        <td id=\"T_9d4cbd96_5099_11ea_96bc_acde48001122row11_col5\" class=\"data row11 col5\" >0.029</td>\n",
       "                        <td id=\"T_9d4cbd96_5099_11ea_96bc_acde48001122row11_col6\" class=\"data row11 col6\" >0.024</td>\n",
       "                        <td id=\"T_9d4cbd96_5099_11ea_96bc_acde48001122row11_col7\" class=\"data row11 col7\" >0.022</td>\n",
       "                        <td id=\"T_9d4cbd96_5099_11ea_96bc_acde48001122row11_col8\" class=\"data row11 col8\" >0.035</td>\n",
       "                        <td id=\"T_9d4cbd96_5099_11ea_96bc_acde48001122row11_col9\" class=\"data row11 col9\" >0.020</td>\n",
       "            </tr>\n",
       "            <tr>\n",
       "                        <th id=\"T_9d4cbd96_5099_11ea_96bc_acde48001122level0_row12\" class=\"row_heading level0 row12\" >(1.549, 2.881]</th>\n",
       "                        <td id=\"T_9d4cbd96_5099_11ea_96bc_acde48001122row12_col0\" class=\"data row12 col0\" >0.011</td>\n",
       "                        <td id=\"T_9d4cbd96_5099_11ea_96bc_acde48001122row12_col1\" class=\"data row12 col1\" >0.004</td>\n",
       "                        <td id=\"T_9d4cbd96_5099_11ea_96bc_acde48001122row12_col2\" class=\"data row12 col2\" >0.008</td>\n",
       "                        <td id=\"T_9d4cbd96_5099_11ea_96bc_acde48001122row12_col3\" class=\"data row12 col3\" >0.013</td>\n",
       "                        <td id=\"T_9d4cbd96_5099_11ea_96bc_acde48001122row12_col4\" class=\"data row12 col4\" >0.026</td>\n",
       "                        <td id=\"T_9d4cbd96_5099_11ea_96bc_acde48001122row12_col5\" class=\"data row12 col5\" >0.029</td>\n",
       "                        <td id=\"T_9d4cbd96_5099_11ea_96bc_acde48001122row12_col6\" class=\"data row12 col6\" >0.028</td>\n",
       "                        <td id=\"T_9d4cbd96_5099_11ea_96bc_acde48001122row12_col7\" class=\"data row12 col7\" >0.027</td>\n",
       "                        <td id=\"T_9d4cbd96_5099_11ea_96bc_acde48001122row12_col8\" class=\"data row12 col8\" >0.062</td>\n",
       "                        <td id=\"T_9d4cbd96_5099_11ea_96bc_acde48001122row12_col9\" class=\"data row12 col9\" >0.020</td>\n",
       "            </tr>\n",
       "            <tr>\n",
       "                        <th id=\"T_9d4cbd96_5099_11ea_96bc_acde48001122level0_row13\" class=\"row_heading level0 row13\" >(2.881, 333.63000488]</th>\n",
       "                        <td id=\"T_9d4cbd96_5099_11ea_96bc_acde48001122row13_col0\" class=\"data row13 col0\" >0.006</td>\n",
       "                        <td id=\"T_9d4cbd96_5099_11ea_96bc_acde48001122row13_col1\" class=\"data row13 col1\" >0.002</td>\n",
       "                        <td id=\"T_9d4cbd96_5099_11ea_96bc_acde48001122row13_col2\" class=\"data row13 col2\" >0.008</td>\n",
       "                        <td id=\"T_9d4cbd96_5099_11ea_96bc_acde48001122row13_col3\" class=\"data row13 col3\" >0.008</td>\n",
       "                        <td id=\"T_9d4cbd96_5099_11ea_96bc_acde48001122row13_col4\" class=\"data row13 col4\" >0.016</td>\n",
       "                        <td id=\"T_9d4cbd96_5099_11ea_96bc_acde48001122row13_col5\" class=\"data row13 col5\" >0.023</td>\n",
       "                        <td id=\"T_9d4cbd96_5099_11ea_96bc_acde48001122row13_col6\" class=\"data row13 col6\" >0.031</td>\n",
       "                        <td id=\"T_9d4cbd96_5099_11ea_96bc_acde48001122row13_col7\" class=\"data row13 col7\" >0.028</td>\n",
       "                        <td id=\"T_9d4cbd96_5099_11ea_96bc_acde48001122row13_col8\" class=\"data row13 col8\" >0.098</td>\n",
       "                        <td id=\"T_9d4cbd96_5099_11ea_96bc_acde48001122row13_col9\" class=\"data row13 col9\" >0.020</td>\n",
       "            </tr>\n",
       "    </tbody></table>"
      ],
      "text/plain": [
       "<pandas.io.formats.style.Styler at 0x103e57190>"
      ]
     },
     "execution_count": 18,
     "metadata": {},
     "output_type": "execute_result"
    }
   ],
   "source": [
    "print(\"Normalized contingency table of Distance (in miles) and Description Length\")\n",
    "\n",
    "dist_len_df = pd.crosstab(pd.qcut(df[\"Distance(mi)\"], 50, duplicates=\"drop\"), \n",
    "                         pd.qcut(len_descr, 10, duplicates=\"drop\"), \n",
    "                         margins=True, normalize=\"columns\")\n",
    "\n",
    "dist_len_df.style.background_gradient(cmap='viridis').set_precision(3)"
   ]
  },
  {
   "cell_type": "markdown",
   "metadata": {},
   "source": [
    "# Correlations"
   ]
  },
  {
   "cell_type": "markdown",
   "metadata": {},
   "source": [
    "Article on TowardsDataScience about categorical correlation:\n",
    "    https://towardsdatascience.com/the-search-for-categorical-correlation-a1cf7f1888c9\n",
    "\n",
    "Article on medium on the same topic:\n",
    "    https://medium.com/@outside2SDs/an-overview-of-correlation-measures-between-categorical-and-continuous-variables-4c7f85610365"
   ]
  },
  {
   "cell_type": "markdown",
   "metadata": {
    "heading_collapsed": true
   },
   "source": [
    "## Continuos variables"
   ]
  },
  {
   "cell_type": "code",
   "execution_count": 19,
   "metadata": {
    "ExecuteTime": {
     "end_time": "2020-02-16T08:52:17.086534Z",
     "start_time": "2020-02-16T08:52:17.083292Z"
    },
    "code_folding": [],
    "hidden": true
   },
   "outputs": [],
   "source": [
    "numeric_columns = []\n",
    "for name in df.columns:\n",
    "    if (df[name].dtype == \"float64\"):\n",
    "        numeric_columns.append(name)"
   ]
  },
  {
   "cell_type": "code",
   "execution_count": 20,
   "metadata": {
    "ExecuteTime": {
     "end_time": "2020-02-16T08:52:18.799914Z",
     "start_time": "2020-02-16T08:52:18.258365Z"
    },
    "hidden": true
   },
   "outputs": [],
   "source": [
    "corr = df[numeric_columns].corr()"
   ]
  },
  {
   "cell_type": "code",
   "execution_count": 21,
   "metadata": {
    "ExecuteTime": {
     "end_time": "2020-02-16T08:52:20.584205Z",
     "start_time": "2020-02-16T08:52:19.958932Z"
    },
    "hidden": true
   },
   "outputs": [
    {
     "data": {
      "image/png": "[encoded data removed]",
      "text/plain": [
       "<Figure size 1008x576 with 2 Axes>"
      ]
     },
     "metadata": {
      "needs_background": "light"
     },
     "output_type": "display_data"
    }
   ],
   "source": [
    "plt.figure(figsize=(14,8))\n",
    "plt.title(\"Pearson's correlation for continuos variables\")\n",
    "sns.heatmap(corr, annot=True)\n",
    "plt.show()"
   ]
  },
  {
   "cell_type": "code",
   "execution_count": 22,
   "metadata": {
    "ExecuteTime": {
     "end_time": "2020-02-16T08:52:21.949179Z",
     "start_time": "2020-02-16T08:52:21.893708Z"
    },
    "hidden": true
   },
   "outputs": [
    {
     "data": {
      "text/html": [
       "<style  type=\"text/css\" >\n",
       "    #T_a529eab6_5099_11ea_96bc_acde48001122row0_col0 {\n",
       "            background-color:  #b40426;\n",
       "            color:  #f1f1f1;\n",
       "            max-width:  70px;\n",
       "            font-size:  12pt;\n",
       "        }    #T_a529eab6_5099_11ea_96bc_acde48001122row0_col1 {\n",
       "            background-color:  #9dbdff;\n",
       "            color:  #000000;\n",
       "            max-width:  70px;\n",
       "            font-size:  12pt;\n",
       "        }    #T_a529eab6_5099_11ea_96bc_acde48001122row0_col2 {\n",
       "            background-color:  #485fd1;\n",
       "            color:  #f1f1f1;\n",
       "            max-width:  70px;\n",
       "            font-size:  12pt;\n",
       "        }    #T_a529eab6_5099_11ea_96bc_acde48001122row0_col3 {\n",
       "            background-color:  #536edd;\n",
       "            color:  #000000;\n",
       "            max-width:  70px;\n",
       "            font-size:  12pt;\n",
       "        }    #T_a529eab6_5099_11ea_96bc_acde48001122row0_col4 {\n",
       "            background-color:  #9ebeff;\n",
       "            color:  #000000;\n",
       "            max-width:  70px;\n",
       "            font-size:  12pt;\n",
       "        }    #T_a529eab6_5099_11ea_96bc_acde48001122row0_col5 {\n",
       "            background-color:  #97b8ff;\n",
       "            color:  #000000;\n",
       "            max-width:  70px;\n",
       "            font-size:  12pt;\n",
       "        }    #T_a529eab6_5099_11ea_96bc_acde48001122row0_col6 {\n",
       "            background-color:  #4961d2;\n",
       "            color:  #f1f1f1;\n",
       "            max-width:  70px;\n",
       "            font-size:  12pt;\n",
       "        }    #T_a529eab6_5099_11ea_96bc_acde48001122row0_col7 {\n",
       "            background-color:  #96b7ff;\n",
       "            color:  #000000;\n",
       "            max-width:  70px;\n",
       "            font-size:  12pt;\n",
       "        }    #T_a529eab6_5099_11ea_96bc_acde48001122row0_col8 {\n",
       "            background-color:  #5f7fe8;\n",
       "            color:  #000000;\n",
       "            max-width:  70px;\n",
       "            font-size:  12pt;\n",
       "        }    #T_a529eab6_5099_11ea_96bc_acde48001122row1_col0 {\n",
       "            background-color:  #4055c8;\n",
       "            color:  #f1f1f1;\n",
       "            max-width:  70px;\n",
       "            font-size:  12pt;\n",
       "        }    #T_a529eab6_5099_11ea_96bc_acde48001122row1_col1 {\n",
       "            background-color:  #b40426;\n",
       "            color:  #f1f1f1;\n",
       "            max-width:  70px;\n",
       "            font-size:  12pt;\n",
       "        }    #T_a529eab6_5099_11ea_96bc_acde48001122row1_col2 {\n",
       "            background-color:  #4a63d3;\n",
       "            color:  #f1f1f1;\n",
       "            max-width:  70px;\n",
       "            font-size:  12pt;\n",
       "        }    #T_a529eab6_5099_11ea_96bc_acde48001122row1_col3 {\n",
       "            background-color:  #5b7ae5;\n",
       "            color:  #000000;\n",
       "            max-width:  70px;\n",
       "            font-size:  12pt;\n",
       "        }    #T_a529eab6_5099_11ea_96bc_acde48001122row1_col4 {\n",
       "            background-color:  #3b4cc0;\n",
       "            color:  #f1f1f1;\n",
       "            max-width:  70px;\n",
       "            font-size:  12pt;\n",
       "        }    #T_a529eab6_5099_11ea_96bc_acde48001122row1_col5 {\n",
       "            background-color:  #a2c1ff;\n",
       "            color:  #000000;\n",
       "            max-width:  70px;\n",
       "            font-size:  12pt;\n",
       "        }    #T_a529eab6_5099_11ea_96bc_acde48001122row1_col6 {\n",
       "            background-color:  #3b4cc0;\n",
       "            color:  #f1f1f1;\n",
       "            max-width:  70px;\n",
       "            font-size:  12pt;\n",
       "        }    #T_a529eab6_5099_11ea_96bc_acde48001122row1_col7 {\n",
       "            background-color:  #88abfd;\n",
       "            color:  #000000;\n",
       "            max-width:  70px;\n",
       "            font-size:  12pt;\n",
       "        }    #T_a529eab6_5099_11ea_96bc_acde48001122row1_col8 {\n",
       "            background-color:  #6e90f2;\n",
       "            color:  #000000;\n",
       "            max-width:  70px;\n",
       "            font-size:  12pt;\n",
       "        }    #T_a529eab6_5099_11ea_96bc_acde48001122row2_col0 {\n",
       "            background-color:  #3c4ec2;\n",
       "            color:  #f1f1f1;\n",
       "            max-width:  70px;\n",
       "            font-size:  12pt;\n",
       "        }    #T_a529eab6_5099_11ea_96bc_acde48001122row2_col1 {\n",
       "            background-color:  #9abbff;\n",
       "            color:  #000000;\n",
       "            max-width:  70px;\n",
       "            font-size:  12pt;\n",
       "        }    #T_a529eab6_5099_11ea_96bc_acde48001122row2_col2 {\n",
       "            background-color:  #b40426;\n",
       "            color:  #f1f1f1;\n",
       "            max-width:  70px;\n",
       "            font-size:  12pt;\n",
       "        }    #T_a529eab6_5099_11ea_96bc_acde48001122row2_col3 {\n",
       "            background-color:  #536edd;\n",
       "            color:  #000000;\n",
       "            max-width:  70px;\n",
       "            font-size:  12pt;\n",
       "        }    #T_a529eab6_5099_11ea_96bc_acde48001122row2_col4 {\n",
       "            background-color:  #8caffe;\n",
       "            color:  #000000;\n",
       "            max-width:  70px;\n",
       "            font-size:  12pt;\n",
       "        }    #T_a529eab6_5099_11ea_96bc_acde48001122row2_col5 {\n",
       "            background-color:  #c3d5f4;\n",
       "            color:  #000000;\n",
       "            max-width:  70px;\n",
       "            font-size:  12pt;\n",
       "        }    #T_a529eab6_5099_11ea_96bc_acde48001122row2_col6 {\n",
       "            background-color:  #7da0f9;\n",
       "            color:  #000000;\n",
       "            max-width:  70px;\n",
       "            font-size:  12pt;\n",
       "        }    #T_a529eab6_5099_11ea_96bc_acde48001122row2_col7 {\n",
       "            background-color:  #89acfd;\n",
       "            color:  #000000;\n",
       "            max-width:  70px;\n",
       "            font-size:  12pt;\n",
       "        }    #T_a529eab6_5099_11ea_96bc_acde48001122row2_col8 {\n",
       "            background-color:  #7396f5;\n",
       "            color:  #000000;\n",
       "            max-width:  70px;\n",
       "            font-size:  12pt;\n",
       "        }    #T_a529eab6_5099_11ea_96bc_acde48001122row3_col0 {\n",
       "            background-color:  #4e68d8;\n",
       "            color:  #000000;\n",
       "            max-width:  70px;\n",
       "            font-size:  12pt;\n",
       "        }    #T_a529eab6_5099_11ea_96bc_acde48001122row3_col1 {\n",
       "            background-color:  #aec9fc;\n",
       "            color:  #000000;\n",
       "            max-width:  70px;\n",
       "            font-size:  12pt;\n",
       "        }    #T_a529eab6_5099_11ea_96bc_acde48001122row3_col2 {\n",
       "            background-color:  #5977e3;\n",
       "            color:  #000000;\n",
       "            max-width:  70px;\n",
       "            font-size:  12pt;\n",
       "        }    #T_a529eab6_5099_11ea_96bc_acde48001122row3_col3 {\n",
       "            background-color:  #b40426;\n",
       "            color:  #f1f1f1;\n",
       "            max-width:  70px;\n",
       "            font-size:  12pt;\n",
       "        }    #T_a529eab6_5099_11ea_96bc_acde48001122row3_col4 {\n",
       "            background-color:  #93b5fe;\n",
       "            color:  #000000;\n",
       "            max-width:  70px;\n",
       "            font-size:  12pt;\n",
       "        }    #T_a529eab6_5099_11ea_96bc_acde48001122row3_col5 {\n",
       "            background-color:  #9abbff;\n",
       "            color:  #000000;\n",
       "            max-width:  70px;\n",
       "            font-size:  12pt;\n",
       "        }    #T_a529eab6_5099_11ea_96bc_acde48001122row3_col6 {\n",
       "            background-color:  #485fd1;\n",
       "            color:  #f1f1f1;\n",
       "            max-width:  70px;\n",
       "            font-size:  12pt;\n",
       "        }    #T_a529eab6_5099_11ea_96bc_acde48001122row3_col7 {\n",
       "            background-color:  #93b5fe;\n",
       "            color:  #000000;\n",
       "            max-width:  70px;\n",
       "            font-size:  12pt;\n",
       "        }    #T_a529eab6_5099_11ea_96bc_acde48001122row3_col8 {\n",
       "            background-color:  #6384eb;\n",
       "            color:  #000000;\n",
       "            max-width:  70px;\n",
       "            font-size:  12pt;\n",
       "        }    #T_a529eab6_5099_11ea_96bc_acde48001122row4_col0 {\n",
       "            background-color:  #4358cb;\n",
       "            color:  #f1f1f1;\n",
       "            max-width:  70px;\n",
       "            font-size:  12pt;\n",
       "        }    #T_a529eab6_5099_11ea_96bc_acde48001122row4_col1 {\n",
       "            background-color:  #3b4cc0;\n",
       "            color:  #f1f1f1;\n",
       "            max-width:  70px;\n",
       "            font-size:  12pt;\n",
       "        }    #T_a529eab6_5099_11ea_96bc_acde48001122row4_col2 {\n",
       "            background-color:  #3b4cc0;\n",
       "            color:  #f1f1f1;\n",
       "            max-width:  70px;\n",
       "            font-size:  12pt;\n",
       "        }    #T_a529eab6_5099_11ea_96bc_acde48001122row4_col3 {\n",
       "            background-color:  #3b4cc0;\n",
       "            color:  #f1f1f1;\n",
       "            max-width:  70px;\n",
       "            font-size:  12pt;\n",
       "        }    #T_a529eab6_5099_11ea_96bc_acde48001122row4_col4 {\n",
       "            background-color:  #b40426;\n",
       "            color:  #f1f1f1;\n",
       "            max-width:  70px;\n",
       "            font-size:  12pt;\n",
       "        }    #T_a529eab6_5099_11ea_96bc_acde48001122row4_col5 {\n",
       "            background-color:  #455cce;\n",
       "            color:  #f1f1f1;\n",
       "            max-width:  70px;\n",
       "            font-size:  12pt;\n",
       "        }    #T_a529eab6_5099_11ea_96bc_acde48001122row4_col6 {\n",
       "            background-color:  #3c4ec2;\n",
       "            color:  #f1f1f1;\n",
       "            max-width:  70px;\n",
       "            font-size:  12pt;\n",
       "        }    #T_a529eab6_5099_11ea_96bc_acde48001122row4_col7 {\n",
       "            background-color:  #c0d4f5;\n",
       "            color:  #000000;\n",
       "            max-width:  70px;\n",
       "            font-size:  12pt;\n",
       "        }    #T_a529eab6_5099_11ea_96bc_acde48001122row4_col8 {\n",
       "            background-color:  #5673e0;\n",
       "            color:  #000000;\n",
       "            max-width:  70px;\n",
       "            font-size:  12pt;\n",
       "        }    #T_a529eab6_5099_11ea_96bc_acde48001122row5_col0 {\n",
       "            background-color:  #445acc;\n",
       "            color:  #f1f1f1;\n",
       "            max-width:  70px;\n",
       "            font-size:  12pt;\n",
       "        }    #T_a529eab6_5099_11ea_96bc_acde48001122row5_col1 {\n",
       "            background-color:  #a9c6fd;\n",
       "            color:  #000000;\n",
       "            max-width:  70px;\n",
       "            font-size:  12pt;\n",
       "        }    #T_a529eab6_5099_11ea_96bc_acde48001122row5_col2 {\n",
       "            background-color:  #88abfd;\n",
       "            color:  #000000;\n",
       "            max-width:  70px;\n",
       "            font-size:  12pt;\n",
       "        }    #T_a529eab6_5099_11ea_96bc_acde48001122row5_col3 {\n",
       "            background-color:  #4c66d6;\n",
       "            color:  #000000;\n",
       "            max-width:  70px;\n",
       "            font-size:  12pt;\n",
       "        }    #T_a529eab6_5099_11ea_96bc_acde48001122row5_col4 {\n",
       "            background-color:  #4f69d9;\n",
       "            color:  #000000;\n",
       "            max-width:  70px;\n",
       "            font-size:  12pt;\n",
       "        }    #T_a529eab6_5099_11ea_96bc_acde48001122row5_col5 {\n",
       "            background-color:  #b40426;\n",
       "            color:  #f1f1f1;\n",
       "            max-width:  70px;\n",
       "            font-size:  12pt;\n",
       "        }    #T_a529eab6_5099_11ea_96bc_acde48001122row5_col6 {\n",
       "            background-color:  #6c8ff1;\n",
       "            color:  #000000;\n",
       "            max-width:  70px;\n",
       "            font-size:  12pt;\n",
       "        }    #T_a529eab6_5099_11ea_96bc_acde48001122row5_col7 {\n",
       "            background-color:  #3b4cc0;\n",
       "            color:  #f1f1f1;\n",
       "            max-width:  70px;\n",
       "            font-size:  12pt;\n",
       "        }    #T_a529eab6_5099_11ea_96bc_acde48001122row5_col8 {\n",
       "            background-color:  #3b4cc0;\n",
       "            color:  #f1f1f1;\n",
       "            max-width:  70px;\n",
       "            font-size:  12pt;\n",
       "        }    #T_a529eab6_5099_11ea_96bc_acde48001122row6_col0 {\n",
       "            background-color:  #3b4cc0;\n",
       "            color:  #f1f1f1;\n",
       "            max-width:  70px;\n",
       "            font-size:  12pt;\n",
       "        }    #T_a529eab6_5099_11ea_96bc_acde48001122row6_col1 {\n",
       "            background-color:  #89acfd;\n",
       "            color:  #000000;\n",
       "            max-width:  70px;\n",
       "            font-size:  12pt;\n",
       "        }    #T_a529eab6_5099_11ea_96bc_acde48001122row6_col2 {\n",
       "            background-color:  #7a9df8;\n",
       "            color:  #000000;\n",
       "            max-width:  70px;\n",
       "            font-size:  12pt;\n",
       "        }    #T_a529eab6_5099_11ea_96bc_acde48001122row6_col3 {\n",
       "            background-color:  #3d50c3;\n",
       "            color:  #f1f1f1;\n",
       "            max-width:  70px;\n",
       "            font-size:  12pt;\n",
       "        }    #T_a529eab6_5099_11ea_96bc_acde48001122row6_col4 {\n",
       "            background-color:  #8caffe;\n",
       "            color:  #000000;\n",
       "            max-width:  70px;\n",
       "            font-size:  12pt;\n",
       "        }    #T_a529eab6_5099_11ea_96bc_acde48001122row6_col5 {\n",
       "            background-color:  #adc9fd;\n",
       "            color:  #000000;\n",
       "            max-width:  70px;\n",
       "            font-size:  12pt;\n",
       "        }    #T_a529eab6_5099_11ea_96bc_acde48001122row6_col6 {\n",
       "            background-color:  #b40426;\n",
       "            color:  #f1f1f1;\n",
       "            max-width:  70px;\n",
       "            font-size:  12pt;\n",
       "        }    #T_a529eab6_5099_11ea_96bc_acde48001122row6_col7 {\n",
       "            background-color:  #90b2fe;\n",
       "            color:  #000000;\n",
       "            max-width:  70px;\n",
       "            font-size:  12pt;\n",
       "        }    #T_a529eab6_5099_11ea_96bc_acde48001122row6_col8 {\n",
       "            background-color:  #6485ec;\n",
       "            color:  #000000;\n",
       "            max-width:  70px;\n",
       "            font-size:  12pt;\n",
       "        }    #T_a529eab6_5099_11ea_96bc_acde48001122row7_col0 {\n",
       "            background-color:  #4358cb;\n",
       "            color:  #f1f1f1;\n",
       "            max-width:  70px;\n",
       "            font-size:  12pt;\n",
       "        }    #T_a529eab6_5099_11ea_96bc_acde48001122row7_col1 {\n",
       "            background-color:  #90b2fe;\n",
       "            color:  #000000;\n",
       "            max-width:  70px;\n",
       "            font-size:  12pt;\n",
       "        }    #T_a529eab6_5099_11ea_96bc_acde48001122row7_col2 {\n",
       "            background-color:  #3f53c6;\n",
       "            color:  #f1f1f1;\n",
       "            max-width:  70px;\n",
       "            font-size:  12pt;\n",
       "        }    #T_a529eab6_5099_11ea_96bc_acde48001122row7_col3 {\n",
       "            background-color:  #445acc;\n",
       "            color:  #f1f1f1;\n",
       "            max-width:  70px;\n",
       "            font-size:  12pt;\n",
       "        }    #T_a529eab6_5099_11ea_96bc_acde48001122row7_col4 {\n",
       "            background-color:  #c6d6f1;\n",
       "            color:  #000000;\n",
       "            max-width:  70px;\n",
       "            font-size:  12pt;\n",
       "        }    #T_a529eab6_5099_11ea_96bc_acde48001122row7_col5 {\n",
       "            background-color:  #3b4cc0;\n",
       "            color:  #f1f1f1;\n",
       "            max-width:  70px;\n",
       "            font-size:  12pt;\n",
       "        }    #T_a529eab6_5099_11ea_96bc_acde48001122row7_col6 {\n",
       "            background-color:  #4b64d5;\n",
       "            color:  #f1f1f1;\n",
       "            max-width:  70px;\n",
       "            font-size:  12pt;\n",
       "        }    #T_a529eab6_5099_11ea_96bc_acde48001122row7_col7 {\n",
       "            background-color:  #b40426;\n",
       "            color:  #f1f1f1;\n",
       "            max-width:  70px;\n",
       "            font-size:  12pt;\n",
       "        }    #T_a529eab6_5099_11ea_96bc_acde48001122row7_col8 {\n",
       "            background-color:  #6180e9;\n",
       "            color:  #000000;\n",
       "            max-width:  70px;\n",
       "            font-size:  12pt;\n",
       "        }    #T_a529eab6_5099_11ea_96bc_acde48001122row8_col0 {\n",
       "            background-color:  #4257c9;\n",
       "            color:  #f1f1f1;\n",
       "            max-width:  70px;\n",
       "            font-size:  12pt;\n",
       "        }    #T_a529eab6_5099_11ea_96bc_acde48001122row8_col1 {\n",
       "            background-color:  #aac7fd;\n",
       "            color:  #000000;\n",
       "            max-width:  70px;\n",
       "            font-size:  12pt;\n",
       "        }    #T_a529eab6_5099_11ea_96bc_acde48001122row8_col2 {\n",
       "            background-color:  #6384eb;\n",
       "            color:  #000000;\n",
       "            max-width:  70px;\n",
       "            font-size:  12pt;\n",
       "        }    #T_a529eab6_5099_11ea_96bc_acde48001122row8_col3 {\n",
       "            background-color:  #4b64d5;\n",
       "            color:  #f1f1f1;\n",
       "            max-width:  70px;\n",
       "            font-size:  12pt;\n",
       "        }    #T_a529eab6_5099_11ea_96bc_acde48001122row8_col4 {\n",
       "            background-color:  #96b7ff;\n",
       "            color:  #000000;\n",
       "            max-width:  70px;\n",
       "            font-size:  12pt;\n",
       "        }    #T_a529eab6_5099_11ea_96bc_acde48001122row8_col5 {\n",
       "            background-color:  #7396f5;\n",
       "            color:  #000000;\n",
       "            max-width:  70px;\n",
       "            font-size:  12pt;\n",
       "        }    #T_a529eab6_5099_11ea_96bc_acde48001122row8_col6 {\n",
       "            background-color:  #5673e0;\n",
       "            color:  #000000;\n",
       "            max-width:  70px;\n",
       "            font-size:  12pt;\n",
       "        }    #T_a529eab6_5099_11ea_96bc_acde48001122row8_col7 {\n",
       "            background-color:  #97b8ff;\n",
       "            color:  #000000;\n",
       "            max-width:  70px;\n",
       "            font-size:  12pt;\n",
       "        }    #T_a529eab6_5099_11ea_96bc_acde48001122row8_col8 {\n",
       "            background-color:  #b40426;\n",
       "            color:  #f1f1f1;\n",
       "            max-width:  70px;\n",
       "            font-size:  12pt;\n",
       "        }</style><table id=\"T_a529eab6_5099_11ea_96bc_acde48001122\" ><thead>    <tr>        <th class=\"blank level0\" ></th>        <th class=\"col_heading level0 col0\" >TMC</th>        <th class=\"col_heading level0 col1\" >Start_Lat</th>        <th class=\"col_heading level0 col2\" >Start_Lng</th>        <th class=\"col_heading level0 col3\" >Distance(mi)</th>        <th class=\"col_heading level0 col4\" >Temperature(F)</th>        <th class=\"col_heading level0 col5\" >Humidity(%)</th>        <th class=\"col_heading level0 col6\" >Pressure(in)</th>        <th class=\"col_heading level0 col7\" >Visibility(mi)</th>        <th class=\"col_heading level0 col8\" >Wind_Speed(mph)</th>    </tr></thead><tbody>\n",
       "                <tr>\n",
       "                        <th id=\"T_a529eab6_5099_11ea_96bc_acde48001122level0_row0\" class=\"row_heading level0 row0\" >TMC</th>\n",
       "                        <td id=\"T_a529eab6_5099_11ea_96bc_acde48001122row0_col0\" class=\"data row0 col0\" >1.00</td>\n",
       "                        <td id=\"T_a529eab6_5099_11ea_96bc_acde48001122row0_col1\" class=\"data row0 col1\" >-0.01</td>\n",
       "                        <td id=\"T_a529eab6_5099_11ea_96bc_acde48001122row0_col2\" class=\"data row0 col2\" >-0.02</td>\n",
       "                        <td id=\"T_a529eab6_5099_11ea_96bc_acde48001122row0_col3\" class=\"data row0 col3\" >0.04</td>\n",
       "                        <td id=\"T_a529eab6_5099_11ea_96bc_acde48001122row0_col4\" class=\"data row0 col4\" >0.00</td>\n",
       "                        <td id=\"T_a529eab6_5099_11ea_96bc_acde48001122row0_col5\" class=\"data row0 col5\" >0.01</td>\n",
       "                        <td id=\"T_a529eab6_5099_11ea_96bc_acde48001122row0_col6\" class=\"data row0 col6\" >-0.03</td>\n",
       "                        <td id=\"T_a529eab6_5099_11ea_96bc_acde48001122row0_col7\" class=\"data row0 col7\" >0.00</td>\n",
       "                        <td id=\"T_a529eab6_5099_11ea_96bc_acde48001122row0_col8\" class=\"data row0 col8\" >-0.00</td>\n",
       "            </tr>\n",
       "            <tr>\n",
       "                        <th id=\"T_a529eab6_5099_11ea_96bc_acde48001122level0_row1\" class=\"row_heading level0 row1\" >Start_Lat</th>\n",
       "                        <td id=\"T_a529eab6_5099_11ea_96bc_acde48001122row1_col0\" class=\"data row1 col0\" >-0.01</td>\n",
       "                        <td id=\"T_a529eab6_5099_11ea_96bc_acde48001122row1_col1\" class=\"data row1 col1\" >1.00</td>\n",
       "                        <td id=\"T_a529eab6_5099_11ea_96bc_acde48001122row1_col2\" class=\"data row1 col2\" >-0.01</td>\n",
       "                        <td id=\"T_a529eab6_5099_11ea_96bc_acde48001122row1_col3\" class=\"data row1 col3\" >0.07</td>\n",
       "                        <td id=\"T_a529eab6_5099_11ea_96bc_acde48001122row1_col4\" class=\"data row1 col4\" >-0.42</td>\n",
       "                        <td id=\"T_a529eab6_5099_11ea_96bc_acde48001122row1_col5\" class=\"data row1 col5\" >0.05</td>\n",
       "                        <td id=\"T_a529eab6_5099_11ea_96bc_acde48001122row1_col6\" class=\"data row1 col6\" >-0.08</td>\n",
       "                        <td id=\"T_a529eab6_5099_11ea_96bc_acde48001122row1_col7\" class=\"data row1 col7\" >-0.05</td>\n",
       "                        <td id=\"T_a529eab6_5099_11ea_96bc_acde48001122row1_col8\" class=\"data row1 col8\" >0.05</td>\n",
       "            </tr>\n",
       "            <tr>\n",
       "                        <th id=\"T_a529eab6_5099_11ea_96bc_acde48001122level0_row2\" class=\"row_heading level0 row2\" >Start_Lng</th>\n",
       "                        <td id=\"T_a529eab6_5099_11ea_96bc_acde48001122row2_col0\" class=\"data row2 col0\" >-0.02</td>\n",
       "                        <td id=\"T_a529eab6_5099_11ea_96bc_acde48001122row2_col1\" class=\"data row2 col1\" >-0.01</td>\n",
       "                        <td id=\"T_a529eab6_5099_11ea_96bc_acde48001122row2_col2\" class=\"data row2 col2\" >1.00</td>\n",
       "                        <td id=\"T_a529eab6_5099_11ea_96bc_acde48001122row2_col3\" class=\"data row2 col3\" >0.04</td>\n",
       "                        <td id=\"T_a529eab6_5099_11ea_96bc_acde48001122row2_col4\" class=\"data row2 col4\" >-0.07</td>\n",
       "                        <td id=\"T_a529eab6_5099_11ea_96bc_acde48001122row2_col5\" class=\"data row2 col5\" >0.19</td>\n",
       "                        <td id=\"T_a529eab6_5099_11ea_96bc_acde48001122row2_col6\" class=\"data row2 col6\" >0.14</td>\n",
       "                        <td id=\"T_a529eab6_5099_11ea_96bc_acde48001122row2_col7\" class=\"data row2 col7\" >-0.05</td>\n",
       "                        <td id=\"T_a529eab6_5099_11ea_96bc_acde48001122row2_col8\" class=\"data row2 col8\" >0.07</td>\n",
       "            </tr>\n",
       "            <tr>\n",
       "                        <th id=\"T_a529eab6_5099_11ea_96bc_acde48001122level0_row3\" class=\"row_heading level0 row3\" >Distance(mi)</th>\n",
       "                        <td id=\"T_a529eab6_5099_11ea_96bc_acde48001122row3_col0\" class=\"data row3 col0\" >0.04</td>\n",
       "                        <td id=\"T_a529eab6_5099_11ea_96bc_acde48001122row3_col1\" class=\"data row3 col1\" >0.07</td>\n",
       "                        <td id=\"T_a529eab6_5099_11ea_96bc_acde48001122row3_col2\" class=\"data row3 col2\" >0.04</td>\n",
       "                        <td id=\"T_a529eab6_5099_11ea_96bc_acde48001122row3_col3\" class=\"data row3 col3\" >1.00</td>\n",
       "                        <td id=\"T_a529eab6_5099_11ea_96bc_acde48001122row3_col4\" class=\"data row3 col4\" >-0.04</td>\n",
       "                        <td id=\"T_a529eab6_5099_11ea_96bc_acde48001122row3_col5\" class=\"data row3 col5\" >0.02</td>\n",
       "                        <td id=\"T_a529eab6_5099_11ea_96bc_acde48001122row3_col6\" class=\"data row3 col6\" >-0.03</td>\n",
       "                        <td id=\"T_a529eab6_5099_11ea_96bc_acde48001122row3_col7\" class=\"data row3 col7\" >-0.01</td>\n",
       "                        <td id=\"T_a529eab6_5099_11ea_96bc_acde48001122row3_col8\" class=\"data row3 col8\" >0.02</td>\n",
       "            </tr>\n",
       "            <tr>\n",
       "                        <th id=\"T_a529eab6_5099_11ea_96bc_acde48001122level0_row4\" class=\"row_heading level0 row4\" >Temperature(F)</th>\n",
       "                        <td id=\"T_a529eab6_5099_11ea_96bc_acde48001122row4_col0\" class=\"data row4 col0\" >0.00</td>\n",
       "                        <td id=\"T_a529eab6_5099_11ea_96bc_acde48001122row4_col1\" class=\"data row4 col1\" >-0.42</td>\n",
       "                        <td id=\"T_a529eab6_5099_11ea_96bc_acde48001122row4_col2\" class=\"data row4 col2\" >-0.07</td>\n",
       "                        <td id=\"T_a529eab6_5099_11ea_96bc_acde48001122row4_col3\" class=\"data row4 col3\" >-0.04</td>\n",
       "                        <td id=\"T_a529eab6_5099_11ea_96bc_acde48001122row4_col4\" class=\"data row4 col4\" >1.00</td>\n",
       "                        <td id=\"T_a529eab6_5099_11ea_96bc_acde48001122row4_col5\" class=\"data row4 col5\" >-0.33</td>\n",
       "                        <td id=\"T_a529eab6_5099_11ea_96bc_acde48001122row4_col6\" class=\"data row4 col6\" >-0.07</td>\n",
       "                        <td id=\"T_a529eab6_5099_11ea_96bc_acde48001122row4_col7\" class=\"data row4 col7\" >0.18</td>\n",
       "                        <td id=\"T_a529eab6_5099_11ea_96bc_acde48001122row4_col8\" class=\"data row4 col8\" >-0.03</td>\n",
       "            </tr>\n",
       "            <tr>\n",
       "                        <th id=\"T_a529eab6_5099_11ea_96bc_acde48001122level0_row5\" class=\"row_heading level0 row5\" >Humidity(%)</th>\n",
       "                        <td id=\"T_a529eab6_5099_11ea_96bc_acde48001122row5_col0\" class=\"data row5 col0\" >0.01</td>\n",
       "                        <td id=\"T_a529eab6_5099_11ea_96bc_acde48001122row5_col1\" class=\"data row5 col1\" >0.05</td>\n",
       "                        <td id=\"T_a529eab6_5099_11ea_96bc_acde48001122row5_col2\" class=\"data row5 col2\" >0.19</td>\n",
       "                        <td id=\"T_a529eab6_5099_11ea_96bc_acde48001122row5_col3\" class=\"data row5 col3\" >0.02</td>\n",
       "                        <td id=\"T_a529eab6_5099_11ea_96bc_acde48001122row5_col4\" class=\"data row5 col4\" >-0.33</td>\n",
       "                        <td id=\"T_a529eab6_5099_11ea_96bc_acde48001122row5_col5\" class=\"data row5 col5\" >1.00</td>\n",
       "                        <td id=\"T_a529eab6_5099_11ea_96bc_acde48001122row5_col6\" class=\"data row5 col6\" >0.09</td>\n",
       "                        <td id=\"T_a529eab6_5099_11ea_96bc_acde48001122row5_col7\" class=\"data row5 col7\" >-0.38</td>\n",
       "                        <td id=\"T_a529eab6_5099_11ea_96bc_acde48001122row5_col8\" class=\"data row5 col8\" >-0.13</td>\n",
       "            </tr>\n",
       "            <tr>\n",
       "                        <th id=\"T_a529eab6_5099_11ea_96bc_acde48001122level0_row6\" class=\"row_heading level0 row6\" >Pressure(in)</th>\n",
       "                        <td id=\"T_a529eab6_5099_11ea_96bc_acde48001122row6_col0\" class=\"data row6 col0\" >-0.03</td>\n",
       "                        <td id=\"T_a529eab6_5099_11ea_96bc_acde48001122row6_col1\" class=\"data row6 col1\" >-0.08</td>\n",
       "                        <td id=\"T_a529eab6_5099_11ea_96bc_acde48001122row6_col2\" class=\"data row6 col2\" >0.14</td>\n",
       "                        <td id=\"T_a529eab6_5099_11ea_96bc_acde48001122row6_col3\" class=\"data row6 col3\" >-0.03</td>\n",
       "                        <td id=\"T_a529eab6_5099_11ea_96bc_acde48001122row6_col4\" class=\"data row6 col4\" >-0.07</td>\n",
       "                        <td id=\"T_a529eab6_5099_11ea_96bc_acde48001122row6_col5\" class=\"data row6 col5\" >0.09</td>\n",
       "                        <td id=\"T_a529eab6_5099_11ea_96bc_acde48001122row6_col6\" class=\"data row6 col6\" >1.00</td>\n",
       "                        <td id=\"T_a529eab6_5099_11ea_96bc_acde48001122row6_col7\" class=\"data row6 col7\" >-0.02</td>\n",
       "                        <td id=\"T_a529eab6_5099_11ea_96bc_acde48001122row6_col8\" class=\"data row6 col8\" >0.02</td>\n",
       "            </tr>\n",
       "            <tr>\n",
       "                        <th id=\"T_a529eab6_5099_11ea_96bc_acde48001122level0_row7\" class=\"row_heading level0 row7\" >Visibility(mi)</th>\n",
       "                        <td id=\"T_a529eab6_5099_11ea_96bc_acde48001122row7_col0\" class=\"data row7 col0\" >0.00</td>\n",
       "                        <td id=\"T_a529eab6_5099_11ea_96bc_acde48001122row7_col1\" class=\"data row7 col1\" >-0.05</td>\n",
       "                        <td id=\"T_a529eab6_5099_11ea_96bc_acde48001122row7_col2\" class=\"data row7 col2\" >-0.05</td>\n",
       "                        <td id=\"T_a529eab6_5099_11ea_96bc_acde48001122row7_col3\" class=\"data row7 col3\" >-0.01</td>\n",
       "                        <td id=\"T_a529eab6_5099_11ea_96bc_acde48001122row7_col4\" class=\"data row7 col4\" >0.18</td>\n",
       "                        <td id=\"T_a529eab6_5099_11ea_96bc_acde48001122row7_col5\" class=\"data row7 col5\" >-0.38</td>\n",
       "                        <td id=\"T_a529eab6_5099_11ea_96bc_acde48001122row7_col6\" class=\"data row7 col6\" >-0.02</td>\n",
       "                        <td id=\"T_a529eab6_5099_11ea_96bc_acde48001122row7_col7\" class=\"data row7 col7\" >1.00</td>\n",
       "                        <td id=\"T_a529eab6_5099_11ea_96bc_acde48001122row7_col8\" class=\"data row7 col8\" >0.01</td>\n",
       "            </tr>\n",
       "            <tr>\n",
       "                        <th id=\"T_a529eab6_5099_11ea_96bc_acde48001122level0_row8\" class=\"row_heading level0 row8\" >Wind_Speed(mph)</th>\n",
       "                        <td id=\"T_a529eab6_5099_11ea_96bc_acde48001122row8_col0\" class=\"data row8 col0\" >-0.00</td>\n",
       "                        <td id=\"T_a529eab6_5099_11ea_96bc_acde48001122row8_col1\" class=\"data row8 col1\" >0.05</td>\n",
       "                        <td id=\"T_a529eab6_5099_11ea_96bc_acde48001122row8_col2\" class=\"data row8 col2\" >0.07</td>\n",
       "                        <td id=\"T_a529eab6_5099_11ea_96bc_acde48001122row8_col3\" class=\"data row8 col3\" >0.02</td>\n",
       "                        <td id=\"T_a529eab6_5099_11ea_96bc_acde48001122row8_col4\" class=\"data row8 col4\" >-0.03</td>\n",
       "                        <td id=\"T_a529eab6_5099_11ea_96bc_acde48001122row8_col5\" class=\"data row8 col5\" >-0.13</td>\n",
       "                        <td id=\"T_a529eab6_5099_11ea_96bc_acde48001122row8_col6\" class=\"data row8 col6\" >0.02</td>\n",
       "                        <td id=\"T_a529eab6_5099_11ea_96bc_acde48001122row8_col7\" class=\"data row8 col7\" >0.01</td>\n",
       "                        <td id=\"T_a529eab6_5099_11ea_96bc_acde48001122row8_col8\" class=\"data row8 col8\" >1.00</td>\n",
       "            </tr>\n",
       "    </tbody></table>"
      ],
      "text/plain": [
       "<pandas.io.formats.style.Styler at 0x11f235a00>"
      ]
     },
     "execution_count": 22,
     "metadata": {},
     "output_type": "execute_result"
    }
   ],
   "source": [
    "corr.style.background_gradient(cmap='coolwarm')\\\n",
    "    .set_properties(**{'max-width': '70px', 'font-size': '12pt'})\\\n",
    "    .set_precision(2)"
   ]
  },
  {
   "cell_type": "markdown",
   "metadata": {
    "heading_collapsed": true
   },
   "source": [
    "## Categorical Variables"
   ]
  },
  {
   "cell_type": "code",
   "execution_count": 23,
   "metadata": {
    "ExecuteTime": {
     "end_time": "2020-02-16T08:52:24.270894Z",
     "start_time": "2020-02-16T08:52:24.264805Z"
    },
    "code_folding": [
     2
    ],
    "hidden": true
   },
   "outputs": [],
   "source": [
    "# https://machinelearningmastery.com/chi-squared-test-for-machine-learning/\n",
    "\n",
    "def chi2_test(crosstab, prob=0.95, details=True):\n",
    "\n",
    "    # chi-squared test with similar proportions\n",
    "    from scipy.stats import chi2_contingency\n",
    "    from scipy.stats import chi2\n",
    "\n",
    "    # contingency table\n",
    "    table = crosstab\n",
    "    stat, p, dof, expected = chi2_contingency(table)\n",
    "    critical = chi2.ppf(prob, dof)\n",
    "    \n",
    "    if details == True:\n",
    "        print('degrees of freedom = {}'.format(dof))\n",
    "        print('stat = {}'.format(stat))\n",
    "        print('p-value = {}'.format(p))\n",
    "\n",
    "        print('prob = {}'.format(prob))\n",
    "        print('critical value = {}'.format(critical))\n",
    "\n",
    "    if abs(stat) >= critical:\n",
    "        print('Dependent')\n",
    "        \n",
    "        res = 1\n",
    "        \n",
    "        return res\n",
    "    \n",
    "    else:\n",
    "        print('Independent') \n",
    "        \n",
    "        res = 0\n",
    "      \n",
    "        return res"
   ]
  },
  {
   "cell_type": "code",
   "execution_count": 24,
   "metadata": {
    "ExecuteTime": {
     "end_time": "2020-02-16T08:52:25.501664Z",
     "start_time": "2020-02-16T08:52:25.498514Z"
    },
    "hidden": true
   },
   "outputs": [],
   "source": [
    "cat = []\n",
    "for col in df.columns:\n",
    "    if df[col].dtype == \"bool\":\n",
    "        cat.append(col)"
   ]
  },
  {
   "cell_type": "code",
   "execution_count": 25,
   "metadata": {
    "ExecuteTime": {
     "end_time": "2020-02-16T08:52:48.884290Z",
     "start_time": "2020-02-16T08:52:28.010231Z"
    },
    "hidden": true,
    "scrolled": true
   },
   "outputs": [
    {
     "name": "stdout",
     "output_type": "stream",
     "text": [
      "Amenity --- Amenity\n",
      "Dependent\n",
      "\n",
      "\n",
      "Amenity --- Bump\n",
      "Dependent\n",
      "\n",
      "\n",
      "Amenity --- Crossing\n",
      "Dependent\n",
      "\n",
      "\n",
      "Amenity --- Give_Way\n",
      "Dependent\n",
      "\n",
      "\n",
      "Amenity --- Junction\n",
      "Dependent\n",
      "\n",
      "\n",
      "Amenity --- No_Exit\n",
      "Dependent\n",
      "\n",
      "\n",
      "Amenity --- Railway\n",
      "Dependent\n",
      "\n",
      "\n",
      "Amenity --- Roundabout\n",
      "Independent\n",
      "\n",
      "\n",
      "Amenity --- Station\n",
      "Dependent\n",
      "\n",
      "\n",
      "Amenity --- Stop\n",
      "Dependent\n",
      "\n",
      "\n",
      "Amenity --- Traffic_Calming\n",
      "Dependent\n",
      "\n",
      "\n",
      "Amenity --- Traffic_Signal\n",
      "Dependent\n",
      "\n",
      "\n",
      "Bump --- Amenity\n",
      "Dependent\n",
      "\n",
      "\n",
      "Bump --- Bump\n",
      "Dependent\n",
      "\n",
      "\n",
      "Bump --- Crossing\n",
      "Dependent\n",
      "\n",
      "\n",
      "Bump --- Give_Way\n",
      "Independent\n",
      "\n",
      "\n",
      "Bump --- Junction\n",
      "Dependent\n",
      "\n",
      "\n",
      "Bump --- No_Exit\n",
      "Dependent\n",
      "\n",
      "\n",
      "Bump --- Railway\n",
      "Independent\n",
      "\n",
      "\n",
      "Bump --- Roundabout\n",
      "Dependent\n",
      "\n",
      "\n",
      "Bump --- Station\n",
      "Dependent\n",
      "\n",
      "\n",
      "Bump --- Stop\n",
      "Dependent\n",
      "\n",
      "\n",
      "Bump --- Traffic_Calming\n",
      "Dependent\n",
      "\n",
      "\n",
      "Bump --- Traffic_Signal\n",
      "Dependent\n",
      "\n",
      "\n",
      "Crossing --- Amenity\n",
      "Dependent\n",
      "\n",
      "\n",
      "Crossing --- Bump\n",
      "Dependent\n",
      "\n",
      "\n",
      "Crossing --- Crossing\n",
      "Dependent\n",
      "\n",
      "\n",
      "Crossing --- Give_Way\n",
      "Dependent\n",
      "\n",
      "\n",
      "Crossing --- Junction\n",
      "Dependent\n",
      "\n",
      "\n",
      "Crossing --- No_Exit\n",
      "Dependent\n",
      "\n",
      "\n",
      "Crossing --- Railway\n",
      "Dependent\n",
      "\n",
      "\n",
      "Crossing --- Roundabout\n",
      "Independent\n",
      "\n",
      "\n",
      "Crossing --- Station\n",
      "Dependent\n",
      "\n",
      "\n",
      "Crossing --- Stop\n",
      "Dependent\n",
      "\n",
      "\n",
      "Crossing --- Traffic_Calming\n",
      "Dependent\n",
      "\n",
      "\n",
      "Crossing --- Traffic_Signal\n",
      "Dependent\n",
      "\n",
      "\n",
      "Give_Way --- Amenity\n",
      "Dependent\n",
      "\n",
      "\n",
      "Give_Way --- Bump\n",
      "Independent\n",
      "\n",
      "\n",
      "Give_Way --- Crossing\n",
      "Dependent\n",
      "\n",
      "\n",
      "Give_Way --- Give_Way\n",
      "Dependent\n",
      "\n",
      "\n",
      "Give_Way --- Junction\n",
      "Dependent\n",
      "\n",
      "\n",
      "Give_Way --- No_Exit\n",
      "Dependent\n",
      "\n",
      "\n",
      "Give_Way --- Railway\n",
      "Independent\n",
      "\n",
      "\n",
      "Give_Way --- Roundabout\n",
      "Independent\n",
      "\n",
      "\n",
      "Give_Way --- Station\n",
      "Independent\n",
      "\n",
      "\n",
      "Give_Way --- Stop\n",
      "Dependent\n",
      "\n",
      "\n",
      "Give_Way --- Traffic_Calming\n",
      "Dependent\n",
      "\n",
      "\n",
      "Give_Way --- Traffic_Signal\n",
      "Dependent\n",
      "\n",
      "\n",
      "Junction --- Amenity\n",
      "Dependent\n",
      "\n",
      "\n",
      "Junction --- Bump\n",
      "Dependent\n",
      "\n",
      "\n",
      "Junction --- Crossing\n",
      "Dependent\n",
      "\n",
      "\n",
      "Junction --- Give_Way\n",
      "Dependent\n",
      "\n",
      "\n",
      "Junction --- Junction\n",
      "Dependent\n",
      "\n",
      "\n",
      "Junction --- No_Exit\n",
      "Dependent\n",
      "\n",
      "\n",
      "Junction --- Railway\n",
      "Dependent\n",
      "\n",
      "\n",
      "Junction --- Roundabout\n",
      "Dependent\n",
      "\n",
      "\n",
      "Junction --- Station\n",
      "Dependent\n",
      "\n",
      "\n",
      "Junction --- Stop\n",
      "Dependent\n",
      "\n",
      "\n",
      "Junction --- Traffic_Calming\n",
      "Dependent\n",
      "\n",
      "\n",
      "Junction --- Traffic_Signal\n",
      "Dependent\n",
      "\n",
      "\n",
      "No_Exit --- Amenity\n",
      "Dependent\n",
      "\n",
      "\n",
      "No_Exit --- Bump\n",
      "Dependent\n",
      "\n",
      "\n",
      "No_Exit --- Crossing\n",
      "Dependent\n",
      "\n",
      "\n",
      "No_Exit --- Give_Way\n",
      "Dependent\n",
      "\n",
      "\n",
      "No_Exit --- Junction\n",
      "Dependent\n",
      "\n",
      "\n",
      "No_Exit --- No_Exit\n",
      "Dependent\n",
      "\n",
      "\n",
      "No_Exit --- Railway\n",
      "Dependent\n",
      "\n",
      "\n",
      "No_Exit --- Roundabout\n",
      "Independent\n",
      "\n",
      "\n",
      "No_Exit --- Station\n",
      "Dependent\n",
      "\n",
      "\n",
      "No_Exit --- Stop\n",
      "Dependent\n",
      "\n",
      "\n",
      "No_Exit --- Traffic_Calming\n",
      "Dependent\n",
      "\n",
      "\n",
      "No_Exit --- Traffic_Signal\n",
      "Dependent\n",
      "\n",
      "\n",
      "Railway --- Amenity\n",
      "Dependent\n",
      "\n",
      "\n",
      "Railway --- Bump\n",
      "Independent\n",
      "\n",
      "\n",
      "Railway --- Crossing\n",
      "Dependent\n",
      "\n",
      "\n",
      "Railway --- Give_Way\n",
      "Independent\n",
      "\n",
      "\n",
      "Railway --- Junction\n",
      "Dependent\n",
      "\n",
      "\n",
      "Railway --- No_Exit\n",
      "Dependent\n",
      "\n",
      "\n",
      "Railway --- Railway\n",
      "Dependent\n",
      "\n",
      "\n",
      "Railway --- Roundabout\n",
      "Independent\n",
      "\n",
      "\n",
      "Railway --- Station\n",
      "Dependent\n",
      "\n",
      "\n",
      "Railway --- Stop\n",
      "Dependent\n",
      "\n",
      "\n",
      "Railway --- Traffic_Calming\n",
      "Independent\n",
      "\n",
      "\n",
      "Railway --- Traffic_Signal\n",
      "Dependent\n",
      "\n",
      "\n",
      "Roundabout --- Amenity\n",
      "Independent\n",
      "\n",
      "\n",
      "Roundabout --- Bump\n",
      "Dependent\n",
      "\n",
      "\n",
      "Roundabout --- Crossing\n",
      "Independent\n",
      "\n",
      "\n",
      "Roundabout --- Give_Way\n",
      "Independent\n",
      "\n",
      "\n",
      "Roundabout --- Junction\n",
      "Dependent\n",
      "\n",
      "\n",
      "Roundabout --- No_Exit\n",
      "Independent\n",
      "\n",
      "\n",
      "Roundabout --- Railway\n",
      "Independent\n",
      "\n",
      "\n",
      "Roundabout --- Roundabout\n",
      "Dependent\n",
      "\n",
      "\n",
      "Roundabout --- Station\n",
      "Independent\n",
      "\n",
      "\n",
      "Roundabout --- Stop\n",
      "Dependent\n",
      "\n",
      "\n",
      "Roundabout --- Traffic_Calming\n",
      "Dependent\n",
      "\n",
      "\n",
      "Roundabout --- Traffic_Signal\n",
      "Dependent\n",
      "\n",
      "\n",
      "Station --- Amenity\n",
      "Dependent\n",
      "\n",
      "\n",
      "Station --- Bump\n",
      "Dependent\n",
      "\n",
      "\n",
      "Station --- Crossing\n",
      "Dependent\n",
      "\n",
      "\n",
      "Station --- Give_Way\n",
      "Independent\n",
      "\n",
      "\n",
      "Station --- Junction\n",
      "Dependent\n",
      "\n",
      "\n",
      "Station --- No_Exit\n",
      "Dependent\n",
      "\n",
      "\n",
      "Station --- Railway\n",
      "Dependent\n",
      "\n",
      "\n",
      "Station --- Roundabout\n",
      "Independent\n",
      "\n",
      "\n",
      "Station --- Station\n",
      "Dependent\n",
      "\n",
      "\n",
      "Station --- Stop\n",
      "Dependent\n",
      "\n",
      "\n",
      "Station --- Traffic_Calming\n",
      "Dependent\n",
      "\n",
      "\n",
      "Station --- Traffic_Signal\n",
      "Dependent\n",
      "\n",
      "\n",
      "Stop --- Amenity\n",
      "Dependent\n",
      "\n",
      "\n",
      "Stop --- Bump\n",
      "Dependent\n",
      "\n",
      "\n",
      "Stop --- Crossing\n",
      "Dependent\n",
      "\n",
      "\n",
      "Stop --- Give_Way\n",
      "Dependent\n",
      "\n",
      "\n",
      "Stop --- Junction\n",
      "Dependent\n",
      "\n",
      "\n",
      "Stop --- No_Exit\n",
      "Dependent\n",
      "\n",
      "\n",
      "Stop --- Railway\n",
      "Dependent\n",
      "\n",
      "\n",
      "Stop --- Roundabout\n",
      "Dependent\n",
      "\n",
      "\n",
      "Stop --- Station\n",
      "Dependent\n",
      "\n",
      "\n",
      "Stop --- Stop\n",
      "Dependent\n",
      "\n",
      "\n",
      "Stop --- Traffic_Calming\n",
      "Dependent\n",
      "\n",
      "\n",
      "Stop --- Traffic_Signal\n",
      "Dependent\n",
      "\n",
      "\n",
      "Traffic_Calming --- Amenity\n",
      "Dependent\n",
      "\n",
      "\n",
      "Traffic_Calming --- Bump\n",
      "Dependent\n",
      "\n",
      "\n",
      "Traffic_Calming --- Crossing\n",
      "Dependent\n",
      "\n",
      "\n",
      "Traffic_Calming --- Give_Way\n",
      "Dependent\n",
      "\n",
      "\n",
      "Traffic_Calming --- Junction\n",
      "Dependent\n",
      "\n",
      "\n",
      "Traffic_Calming --- No_Exit\n",
      "Dependent\n",
      "\n",
      "\n",
      "Traffic_Calming --- Railway\n",
      "Independent\n",
      "\n",
      "\n",
      "Traffic_Calming --- Roundabout\n",
      "Dependent\n",
      "\n",
      "\n",
      "Traffic_Calming --- Station\n",
      "Dependent\n",
      "\n",
      "\n",
      "Traffic_Calming --- Stop\n",
      "Dependent\n",
      "\n",
      "\n",
      "Traffic_Calming --- Traffic_Calming\n",
      "Dependent\n",
      "\n",
      "\n",
      "Traffic_Calming --- Traffic_Signal\n",
      "Dependent\n",
      "\n",
      "\n",
      "Traffic_Signal --- Amenity\n",
      "Dependent\n",
      "\n",
      "\n",
      "Traffic_Signal --- Bump\n",
      "Dependent\n",
      "\n",
      "\n",
      "Traffic_Signal --- Crossing\n",
      "Dependent\n",
      "\n",
      "\n",
      "Traffic_Signal --- Give_Way\n",
      "Dependent\n",
      "\n",
      "\n",
      "Traffic_Signal --- Junction\n",
      "Dependent\n",
      "\n",
      "\n",
      "Traffic_Signal --- No_Exit\n",
      "Dependent\n",
      "\n",
      "\n",
      "Traffic_Signal --- Railway\n",
      "Dependent\n",
      "\n",
      "\n",
      "Traffic_Signal --- Roundabout\n",
      "Dependent\n",
      "\n",
      "\n",
      "Traffic_Signal --- Station\n",
      "Dependent\n",
      "\n",
      "\n",
      "Traffic_Signal --- Stop\n",
      "Dependent\n",
      "\n",
      "\n",
      "Traffic_Signal --- Traffic_Calming\n",
      "Dependent\n",
      "\n",
      "\n",
      "Traffic_Signal --- Traffic_Signal\n",
      "Dependent\n",
      "\n",
      "\n"
     ]
    }
   ],
   "source": [
    "matrix = []\n",
    "for col_1 in cat:\n",
    "    for col_2 in cat:\n",
    "        print(col_1,\"---\", col_2)\n",
    "        matrix.append(chi2_test(pd.crosstab(df[col_1], df[col_2]), details=False))\n",
    "        print(\"\\n\")"
   ]
  },
  {
   "cell_type": "code",
   "execution_count": 26,
   "metadata": {
    "ExecuteTime": {
     "end_time": "2020-02-16T08:52:50.750387Z",
     "start_time": "2020-02-16T08:52:50.126838Z"
    },
    "code_folding": [
     5
    ],
    "hidden": true
   },
   "outputs": [
    {
     "name": "stdout",
     "output_type": "stream",
     "text": [
      "1 means DEPENDENT, 0 means INDEPENDENT\n"
     ]
    },
    {
     "data": {
      "image/png": "[encoded data removed]",
      "text/plain": [
       "<Figure size 864x360 with 1 Axes>"
      ]
     },
     "metadata": {
      "needs_background": "light"
     },
     "output_type": "display_data"
    }
   ],
   "source": [
    "data = np.array(matrix).reshape(12,12)\n",
    "fig, ax = plt.subplots(figsize=(12,5))\n",
    "\n",
    "# create color matrix to highlight table entries\n",
    "D = np.empty((12,12), dtype=object)\n",
    "for i in range(12):\n",
    "    for j in range(12):\n",
    "        if data[i,j] == 1:\n",
    "            if i == j:\n",
    "                D[i,j] = \"salmon\"\n",
    "            else:\n",
    "                D[i,j] = \"white\"\n",
    "        else:\n",
    "            D[i,j] = \"orange\"\n",
    "\n",
    "print(\"1 means DEPENDENT, 0 means INDEPENDENT\")\n",
    "            \n",
    "# hide axes\n",
    "fig.patch.set_visible(False)\n",
    "ax.axis('off')\n",
    "ax.axis('tight')\n",
    "\n",
    "ax.table(cellText=data, colLabels=cat, rowLabels=cat, loc='center', cellColours=D)\n",
    "\n",
    "fig.tight_layout()\n",
    "\n",
    "plt.show()"
   ]
  },
  {
   "cell_type": "code",
   "execution_count": 27,
   "metadata": {
    "ExecuteTime": {
     "end_time": "2020-02-16T08:52:52.001508Z",
     "start_time": "2020-02-16T08:52:51.995025Z"
    },
    "hidden": true
   },
   "outputs": [],
   "source": [
    "cat_mod = []\n",
    "for col in df.columns:\n",
    "    if col != \"ID\" and col != \"Description\":\n",
    "        if (df[col].dtype == \"bool\") or (df[col].dtype == \"int64\"):\n",
    "            cat_mod.append(col)\n",
    "\n",
    "cat_mod.append(\"Wind_Direction\")\n",
    "cat_mod.append(\"Weather_Condition\")\n",
    "cat_mod.append(\"Sunrise_Sunset\")"
   ]
  },
  {
   "cell_type": "code",
   "execution_count": 28,
   "metadata": {
    "ExecuteTime": {
     "end_time": "2020-02-16T08:52:53.191918Z",
     "start_time": "2020-02-16T08:52:53.180799Z"
    },
    "code_folding": [
     2,
     13,
     24,
     35
    ],
    "hidden": true
   },
   "outputs": [],
   "source": [
    "# https://en.wikipedia.org/wiki/Cram%C3%A9r%27s_V\n",
    "# https://en.wikipedia.org/wiki/Correlation_ratio\n",
    "\n",
    "import scipy, math\n",
    "\n",
    "#all taken from dython library, with slight modifications\n",
    "\n",
    "def cramers_v_MOD(x, y):\n",
    "    confusion_matrix = pd.crosstab(x,y)\n",
    "    chi2 = scipy.stats.chi2_contingency(confusion_matrix)[0]\n",
    "    n = confusion_matrix.sum().sum()\n",
    "    phi2 = chi2/n\n",
    "    r,k = confusion_matrix.shape\n",
    "    phi2corr = max(0, phi2-((k-1)*(r-1))/(n-1))\n",
    "    rcorr = r-((r-1)**2)/(n-1)\n",
    "    kcorr = k-((k-1)**2)/(n-1)\n",
    "    return np.sqrt(phi2corr/min((kcorr-1),(rcorr-1)))\n",
    "\n",
    "def theils_u_MOD(x,y):\n",
    "    s_xy = conditional_entropy_MOD(x, y)\n",
    "    x_counter = Counter(x)\n",
    "    total_occurrences = sum(x_counter.values())\n",
    "    p_x = list(map(lambda n: n / total_occurrences, x_counter.values()))\n",
    "    s_x = scipy.stats.entropy(p_x)\n",
    "    if s_x == 0:\n",
    "        return 1\n",
    "    else:\n",
    "        return (s_x - s_xy) / s_x\n",
    "\n",
    "def conditional_entropy_MOD(x,y):\n",
    "    y_counter = Counter(y)\n",
    "    xy_counter = Counter(list(zip(x, y)))\n",
    "    total_occurrences = sum(y_counter.values())\n",
    "    entropy = 0.0\n",
    "    for xy in xy_counter.keys():\n",
    "        p_xy = xy_counter[xy] / total_occurrences\n",
    "        p_y = y_counter[xy[1]] / total_occurrences\n",
    "        entropy += p_xy * math.log(p_y / p_xy)\n",
    "    return entropy\n",
    "\n",
    "def correlation_ratio_MOD(categories, measurements):\n",
    "    fcat, _ = pd.factorize(categories)\n",
    "    cat_num = np.max(fcat)+1\n",
    "    y_avg_array = np.zeros(cat_num)\n",
    "    n_array = np.zeros(cat_num)\n",
    "    for i in range(0,cat_num):\n",
    "        cat_measures = measurements[np.argwhere(fcat == i).flatten()]\n",
    "        n_array[i] = len(cat_measures)\n",
    "        y_avg_array[i] = np.average(cat_measures)\n",
    "    y_total_avg = np.sum(np.multiply(y_avg_array,n_array))/np.sum(n_array)\n",
    "    numerator = np.sum(np.multiply(n_array,np.power(np.subtract(y_avg_array,y_total_avg),2)))\n",
    "    denominator = np.sum(np.power(np.subtract(measurements,y_total_avg),2))\n",
    "    if numerator == 0:\n",
    "        eta = 0.0\n",
    "    else:\n",
    "        eta = np.sqrt(numerator/denominator)\n",
    "    return eta"
   ]
  },
  {
   "cell_type": "code",
   "execution_count": null,
   "metadata": {
    "ExecuteTime": {
     "end_time": "2020-02-10T09:25:02.450900Z",
     "start_time": "2020-02-10T09:23:07.321188Z"
    },
    "hidden": true
   },
   "outputs": [],
   "source": [
    "matrix2 = []\n",
    "for col_1 in cat_mod:\n",
    "    for col_2 in cat_mod:\n",
    "        matrix2.append(cramers_v_MOD(df[col_1], df[col_2]))"
   ]
  },
  {
   "cell_type": "code",
   "execution_count": null,
   "metadata": {
    "ExecuteTime": {
     "end_time": "2020-02-10T09:52:38.307439Z",
     "start_time": "2020-02-10T09:39:25.648113Z"
    },
    "hidden": true
   },
   "outputs": [],
   "source": [
    "matrix3 = []\n",
    "for col_1 in cat_mod:\n",
    "    for col_2 in cat_mod:\n",
    "        matrix3.append(theils_u_MOD(df[col_1], df[col_2]))"
   ]
  },
  {
   "cell_type": "code",
   "execution_count": 71,
   "metadata": {
    "ExecuteTime": {
     "end_time": "2020-02-10T09:29:22.131748Z",
     "start_time": "2020-02-10T09:29:22.093950Z"
    },
    "hidden": true
   },
   "outputs": [],
   "source": [
    "CramV_df = pd.DataFrame(np.array(matrix2).reshape(13,13), \n",
    "                        columns=cat_mod, index=cat_mod).apply(lambda x: round(x,3))"
   ]
  },
  {
   "cell_type": "code",
   "execution_count": 77,
   "metadata": {
    "ExecuteTime": {
     "end_time": "2020-02-10T09:31:29.691501Z",
     "start_time": "2020-02-10T09:31:27.368521Z"
    },
    "hidden": true
   },
   "outputs": [
    {
     "data": {
      "image/png": "[encoded data removed]",
      "text/plain": [
       "<Figure size 1008x576 with 2 Axes>"
      ]
     },
     "metadata": {
      "needs_background": "light"
     },
     "output_type": "display_data"
    }
   ],
   "source": [
    "plt.figure(figsize=(14,8))\n",
    "plt.title(\"CramersV correlation for categorical variables\")\n",
    "sns.heatmap(CramV_df, annot=True)\n",
    "plt.show()"
   ]
  },
  {
   "cell_type": "code",
   "execution_count": 93,
   "metadata": {
    "ExecuteTime": {
     "end_time": "2020-02-10T09:52:38.338694Z",
     "start_time": "2020-02-10T09:52:38.307439Z"
    },
    "hidden": true
   },
   "outputs": [],
   "source": [
    "TheilsU_df = pd.DataFrame(np.array(matrix3).reshape(13,13), \n",
    "             columns=cat_mod, index=cat_mod).apply(lambda x: round(x,3))"
   ]
  },
  {
   "cell_type": "code",
   "execution_count": 94,
   "metadata": {
    "ExecuteTime": {
     "end_time": "2020-02-10T09:52:40.244981Z",
     "start_time": "2020-02-10T09:52:38.338694Z"
    },
    "hidden": true
   },
   "outputs": [
    {
     "data": {
      "image/png": "[encoded data removed]",
      "text/plain": [
       "<Figure size 1008x576 with 2 Axes>"
      ]
     },
     "metadata": {
      "needs_background": "light"
     },
     "output_type": "display_data"
    }
   ],
   "source": [
    "plt.figure(figsize=(14,8))\n",
    "plt.title(\"TheilsU correlation for categorical variables (NOT symmetrical)\")\n",
    "sns.heatmap(TheilsU_df, annot=True)\n",
    "plt.show()"
   ]
  },
  {
   "cell_type": "markdown",
   "metadata": {
    "heading_collapsed": true
   },
   "source": [
    "## Categorical against Continuos"
   ]
  },
  {
   "cell_type": "code",
   "execution_count": 120,
   "metadata": {
    "ExecuteTime": {
     "end_time": "2020-02-10T10:10:26.702137Z",
     "start_time": "2020-02-10T10:10:26.686492Z"
    },
    "hidden": true
   },
   "outputs": [],
   "source": [
    "continuos_features = ['Distance(mi)', 'Temperature(F)', 'Humidity(%)',\n",
    "                      'Pressure(in)', 'Visibility(mi)', 'Wind_Speed(mph)']"
   ]
  },
  {
   "cell_type": "code",
   "execution_count": 101,
   "metadata": {
    "ExecuteTime": {
     "end_time": "2020-02-10T10:01:01.783696Z",
     "start_time": "2020-02-10T10:01:01.768070Z"
    },
    "hidden": true
   },
   "outputs": [],
   "source": [
    "from dython.nominal import correlation_ratio"
   ]
  },
  {
   "cell_type": "code",
   "execution_count": null,
   "metadata": {
    "ExecuteTime": {
     "end_time": "2020-02-10T10:15:21.052100Z",
     "start_time": "2020-02-10T10:11:39.646820Z"
    },
    "hidden": true
   },
   "outputs": [],
   "source": [
    "matrix4 = []\n",
    "for col_1 in cat_mod:\n",
    "    for col_2 in continuos_features:\n",
    "        matrix4.append(correlation_ratio(df[col_1], df[col_2]))     "
   ]
  },
  {
   "cell_type": "code",
   "execution_count": 130,
   "metadata": {
    "ExecuteTime": {
     "end_time": "2020-02-10T10:21:35.889138Z",
     "start_time": "2020-02-10T10:21:35.857907Z"
    },
    "hidden": true
   },
   "outputs": [],
   "source": [
    "Corr_Ratio_df = pd.DataFrame(np.array(matrix4).reshape(16,6), \n",
    "                 columns=continuos_features, index=cat_mod).apply(lambda x: round(x,3))"
   ]
  },
  {
   "cell_type": "code",
   "execution_count": 134,
   "metadata": {
    "ExecuteTime": {
     "end_time": "2020-02-10T10:23:00.820897Z",
     "start_time": "2020-02-10T10:22:59.848991Z"
    },
    "hidden": true
   },
   "outputs": [
    {
     "data": {
      "image/png": "[encoded data removed]",
      "text/plain": [
       "<Figure size 1008x576 with 2 Axes>"
      ]
     },
     "metadata": {
      "needs_background": "light"
     },
     "output_type": "display_data"
    }
   ],
   "source": [
    "plt.figure(figsize=(14,8))\n",
    "plt.title(\"Correlation Ratio for categorical vs continuos\")\n",
    "sns.heatmap(Corr_Ratio_df, annot=True, vmax=1)\n",
    "plt.show()"
   ]
  }
 ],
 "metadata": {
  "kernelspec": {
   "display_name": "Python 3",
   "language": "python",
   "name": "python3"
  },
  "language_info": {
   "codemirror_mode": {
    "name": "ipython",
    "version": 3
   },
   "file_extension": ".py",
   "mimetype": "text/x-python",
   "name": "python",
   "nbconvert_exporter": "python",
   "pygments_lexer": "ipython3",
   "version": "3.8.1"
  },
  "varInspector": {
   "cols": {
    "lenName": 16,
    "lenType": 16,
    "lenVar": 40
   },
   "kernels_config": {
    "python": {
     "delete_cmd_postfix": "",
     "delete_cmd_prefix": "del ",
     "library": "var_list.py",
     "varRefreshCmd": "print(var_dic_list())"
    },
    "r": {
     "delete_cmd_postfix": ") ",
     "delete_cmd_prefix": "rm(",
     "library": "var_list.r",
     "varRefreshCmd": "cat(var_dic_list()) "
    }
   },
   "types_to_exclude": [
    "module",
    "function",
    "builtin_function_or_method",
    "instance",
    "_Feature"
   ],
   "window_display": false
  }
 },
 "nbformat": 4,
 "nbformat_minor": 4
}
