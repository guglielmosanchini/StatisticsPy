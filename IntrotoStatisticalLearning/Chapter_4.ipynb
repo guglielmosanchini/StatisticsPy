{
 "cells": [
  {
   "cell_type": "markdown",
   "id": "married-proposal",
   "metadata": {},
   "source": [
    "# Chapter 4: Classification\n",
    "predicting qualitative responses"
   ]
  },
  {
   "cell_type": "markdown",
   "id": "blond-junior",
   "metadata": {},
   "source": [
    "Linear regression is not suited because any encoding implies an ordering of the categories and selecting a distance among them, which in most cases is not sensible. In the binary case, one could transform the response variable into 0s and 1s and build a linear regression model: this would lead to an OK model, even if some predictions could be larger than 1, and so it would be difficult to interpret the result of it as a probability of classifying the input as belonging to class 1."
   ]
  },
  {
   "cell_type": "markdown",
   "id": "improving-ordering",
   "metadata": {},
   "source": [
    "## Logistic Regression"
   ]
  },
  {
   "cell_type": "markdown",
   "id": "adolescent-humor",
   "metadata": {},
   "source": [
    "Logistic regression models the probability that $Y$ belongs to a particular category, e.g. $\\mathbb{P}(\\text{default=yes}|\\text{balance}) = p(\\text{balance})$ will range between 0 and 1, so, given any value for balance, a prediction for default can be made.\n",
    "\n",
    "Logistic function: $p(X) = \\dfrac{e^{\\beta_0 + \\beta_1X}}{1+e^{\\beta_0 + \\beta_1X}}$, with outputs between 0 and 1. From the definition it follows that:\n",
    "\n",
    "$$\n",
    "\\dfrac{p(X)}{1-p(X)} = e^{\\beta_0 + \\beta_1X}.\n",
    "$$\n",
    "The quantity on the left is called `odds`, and ranges from 0 to $\\infty$.\n",
    "Taking the logarithm,\n",
    "$$\n",
    "\\log\\left({\\dfrac{p(X)}{1-p(X)}}\\right) = \\beta_0 + \\beta_1X.\n",
    "$$\n",
    "The quantity on the left is called `logit` or `log-odds`, which is linear in $X$. Here, increasing $X$ by 1 unit changes the log-odds by $\\beta_1$, which does not correspond to the change in $p(X)$: that will depend on the current value of $X$, too."
   ]
  },
  {
   "cell_type": "markdown",
   "id": "governmental-eleven",
   "metadata": {},
   "source": [
    "### Estimating the coefficients"
   ]
  },
  {
   "cell_type": "code",
   "execution_count": null,
   "id": "seeing-valve",
   "metadata": {},
   "outputs": [],
   "source": []
  },
  {
   "cell_type": "code",
   "execution_count": null,
   "id": "palestinian-michael",
   "metadata": {},
   "outputs": [],
   "source": []
  }
 ],
 "metadata": {
  "kernelspec": {
   "display_name": "R",
   "language": "R",
   "name": "ir"
  },
  "language_info": {
   "codemirror_mode": "r",
   "file_extension": ".r",
   "mimetype": "text/x-r-source",
   "name": "R",
   "pygments_lexer": "r",
   "version": "3.6.3"
  }
 },
 "nbformat": 4,
 "nbformat_minor": 5
}
